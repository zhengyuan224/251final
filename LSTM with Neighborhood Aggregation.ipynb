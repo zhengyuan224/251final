{
 "cells": [
  {
   "cell_type": "code",
   "execution_count": 1,
   "metadata": {},
   "outputs": [
    {
     "name": "stdout",
     "output_type": "stream",
     "text": [
      "Fri Jun 13 17:22:00 2025       \n",
      "+-----------------------------------------------------------------------------------------+\n",
      "| NVIDIA-SMI 576.52                 Driver Version: 576.52         CUDA Version: 12.9     |\n",
      "|-----------------------------------------+------------------------+----------------------+\n",
      "| GPU  Name                  Driver-Model | Bus-Id          Disp.A | Volatile Uncorr. ECC |\n",
      "| Fan  Temp   Perf          Pwr:Usage/Cap |           Memory-Usage | GPU-Util  Compute M. |\n",
      "|                                         |                        |               MIG M. |\n",
      "|=========================================+========================+======================|\n",
      "|   0  NVIDIA GeForce RTX 3060 ...  WDDM  |   00000000:01:00.0 Off |                  N/A |\n",
      "| N/A   43C    P8             10W /   95W |     348MiB /   6144MiB |      0%      Default |\n",
      "|                                         |                        |                  N/A |\n",
      "+-----------------------------------------+------------------------+----------------------+\n",
      "                                                                                         \n",
      "+-----------------------------------------------------------------------------------------+\n",
      "| Processes:                                                                              |\n",
      "|  GPU   GI   CI              PID   Type   Process name                        GPU Memory |\n",
      "|        ID   ID                                                               Usage      |\n",
      "|=========================================================================================|\n",
      "|    0   N/A  N/A           32384      C   ...onda\\envs\\torchEnv\\python.exe      N/A      |\n",
      "+-----------------------------------------------------------------------------------------+\n"
     ]
    }
   ],
   "source": [
    "#\n",
    "!nvidia-smi"
   ]
  },
  {
   "cell_type": "code",
   "execution_count": 2,
   "metadata": {},
   "outputs": [],
   "source": [
    "import numpy as np\n",
    "import pandas as pd\n",
    "import matplotlib.pyplot as plt\n",
    "import random\n",
    "\n",
    "import torch\n",
    "import torch.nn as nn\n",
    "import torch.optim as optim\n",
    "from torch.utils.data import Dataset, DataLoader\n",
    "from torch_geometric.data import Data, Batch\n",
    "import tqdm"
   ]
  },
  {
   "cell_type": "code",
   "execution_count": 3,
   "metadata": {},
   "outputs": [],
   "source": [
    "train_npz = np.load('./train.npz')\n",
    "train_data = train_npz['data']\n",
    "test_npz  = np.load('./test_input.npz')\n",
    "test_data  = test_npz['data']"
   ]
  },
  {
   "cell_type": "code",
   "execution_count": 4,
   "metadata": {},
   "outputs": [
    {
     "name": "stdout",
     "output_type": "stream",
     "text": [
      "(10000, 50, 110, 6) (2100, 50, 50, 6)\n"
     ]
    }
   ],
   "source": [
    "print(train_data.shape, test_data.shape)\n",
    "\n",
    "# Split once for later use\n",
    "X_train = train_data[..., :50, :]\n",
    "Y_train = train_data[:, 0, 50:, :2]"
   ]
  },
  {
   "cell_type": "code",
   "execution_count": 5,
   "metadata": {},
   "outputs": [
    {
     "data": {
      "text/plain": [
       "(10000, 50, 110, 6)"
      ]
     },
     "execution_count": 5,
     "metadata": {},
     "output_type": "execute_result"
    }
   ],
   "source": [
    "train_data.shape"
   ]
  },
  {
   "cell_type": "code",
   "execution_count": 6,
   "metadata": {},
   "outputs": [],
   "source": [
    "class TrajectoryDatasetTrain(Dataset):\n",
    "    def __init__(self, data, scale=10.0, augment=True):\n",
    "        \"\"\"\n",
    "        data: Shape (N, 50, 110, 6) Training data\n",
    "        scale: Scale for normalization (suggested to use 10.0 for Argoverse 2 data)\n",
    "        augment: Whether to apply data augmentation (only for training)\n",
    "        \"\"\"\n",
    "        self.data = data\n",
    "        self.scale = scale\n",
    "        self.augment = augment\n",
    "\n",
    "    def __len__(self):\n",
    "        return len(self.data)\n",
    "\n",
    "    def __getitem__(self, idx):\n",
    "        scene = self.data[idx]\n",
    "        # Getting 50 historical timestamps and 60 future timestamps\n",
    "        hist = scene[:, :50, :].copy()    # (agents=50, time_seq=50, 6)\n",
    "        future = torch.tensor(scene[0, 50:, :2].copy(), dtype=torch.float32)  # (60, 2)\n",
    "        \n",
    "        # Data augmentation(only for training)\n",
    "        if self.augment:\n",
    "            if np.random.rand() < 0.5:\n",
    "                theta = np.random.uniform(-np.pi, np.pi)\n",
    "                R = np.array([[np.cos(theta), -np.sin(theta)],\n",
    "                              [np.sin(theta),  np.cos(theta)]], dtype=np.float32)\n",
    "                # Rotate the historical trajectory and future trajectory\n",
    "                hist[..., :2] = hist[..., :2] @ R\n",
    "                hist[..., 2:4] = hist[..., 2:4] @ R\n",
    "                future = future @ R\n",
    "            if np.random.rand() < 0.5:\n",
    "                hist[..., 0] *= -1\n",
    "                hist[..., 2] *= -1\n",
    "                future[:, 0] *= -1\n",
    "\n",
    "        # Use the last timeframe of the historical trajectory as the origin\n",
    "        origin = hist[0, 49, :2].copy()  # (2,)\n",
    "        hist[..., :2] = hist[..., :2] - origin\n",
    "        future = future - origin\n",
    "\n",
    "        # Normalize the historical trajectory and future trajectory\n",
    "        hist[..., :4] = hist[..., :4] / self.scale\n",
    "        future = future / self.scale\n",
    "\n",
    "        data_item = Data(\n",
    "            x=torch.tensor(hist, dtype=torch.float32),\n",
    "            y=future.type(torch.float32),\n",
    "            origin=torch.tensor(origin, dtype=torch.float32).unsqueeze(0),\n",
    "            scale=torch.tensor(self.scale, dtype=torch.float32),\n",
    "        )\n",
    "\n",
    "        return data_item\n",
    "    \n",
    "\n",
    "class TrajectoryDatasetTest(Dataset):\n",
    "    def __init__(self, data, scale=10.0):\n",
    "        \"\"\"\n",
    "        data: Shape (N, 50, 110, 6) Testing data\n",
    "        scale: Scale for normalization (suggested to use 10.0 for Argoverse 2 data)\n",
    "        \"\"\"\n",
    "        self.data = data\n",
    "        self.scale = scale\n",
    "\n",
    "    def __len__(self):\n",
    "        return len(self.data)\n",
    "\n",
    "    def __getitem__(self, idx):\n",
    "        # Testing data only contains historical trajectory\n",
    "        scene = self.data[idx]  # (50, 50, 6)\n",
    "        hist = scene.copy()\n",
    "        \n",
    "        origin = hist[0, 49, :2].copy()\n",
    "        hist[..., :2] = hist[..., :2] - origin\n",
    "        hist[..., :4] = hist[..., :4] / self.scale\n",
    "\n",
    "        data_item = Data(\n",
    "            x=torch.tensor(hist, dtype=torch.float32),\n",
    "            origin=torch.tensor(origin, dtype=torch.float32).unsqueeze(0),\n",
    "            scale=torch.tensor(self.scale, dtype=torch.float32),\n",
    "        )\n",
    "        return data_item"
   ]
  },
  {
   "cell_type": "code",
   "execution_count": 7,
   "metadata": {},
   "outputs": [
    {
     "name": "stdout",
     "output_type": "stream",
     "text": [
      "Using CUDA GPU\n"
     ]
    }
   ],
   "source": [
    "torch.manual_seed(251)\n",
    "np.random.seed(42)\n",
    "\n",
    "scale = 7\n",
    "\n",
    "N = len(train_data)\n",
    "val_size = int(0.1 * N)\n",
    "train_size = N - val_size\n",
    "\n",
    "train_dataset = TrajectoryDatasetTrain(train_data[:train_size], scale=scale, augment=True)\n",
    "val_dataset = TrajectoryDatasetTrain(train_data[train_size:], scale=scale, augment=False)\n",
    "\n",
    "train_dataloader = DataLoader(train_dataset, batch_size=32, shuffle=True, collate_fn=lambda x: Batch.from_data_list(x))\n",
    "val_dataloader = DataLoader(val_dataset, batch_size=32, shuffle=False, collate_fn=lambda x: Batch.from_data_list(x))\n",
    "\n",
    "# Set device for training speedup\n",
    "if torch.backends.mps.is_available():\n",
    "    device = torch.device('mps')\n",
    "    print(\"Using Apple Silicon GPU\")\n",
    "elif torch.cuda.is_available():\n",
    "    device = torch.device('cuda')\n",
    "    print(\"Using CUDA GPU\")\n",
    "else:\n",
    "    device = torch.device('cpu')"
   ]
  },
  {
   "cell_type": "code",
   "execution_count": 10,
   "metadata": {},
   "outputs": [],
   "source": [
    "import torch\n",
    "import torch.nn as nn\n",
    "\n",
    "class LSTM(nn.Module):\n",
    "    def __init__(self,\n",
    "                 input_dim=8,     # 6 (Ego) + 2 (avg x, avg y)\n",
    "                 hidden_dim=256,\n",
    "                 output_dim=60 * 2,\n",
    "                 grid_size=30 \n",
    "                 ):\n",
    "        super(LSTM, self).__init__()\n",
    "        self.R = grid_size  \n",
    "\n",
    "        self.lstm = nn.LSTM(\n",
    "            input_size=input_dim,\n",
    "            hidden_size=hidden_dim,\n",
    "            num_layers=2,\n",
    "            batch_first=True\n",
    "        )\n",
    "        self.fc = nn.Linear(hidden_dim, output_dim)\n",
    "\n",
    "    def forward(self, data):\n",
    "        \n",
    "        B50, T, D = data.x.shape  # B50 = B*50, T=50, D=6\n",
    "        B = B50 // 50\n",
    "\n",
    "        all_data = data.x.view(B, 50, 50, 6) \n",
    "        ego_traj = all_data[:, 0, :, :] \n",
    "        pos_all = all_data[..., :2]\n",
    "\n",
    "        ego_pos = pos_all[:, 0, :, :]        # [B,50,2]\n",
    "        others  = pos_all[:, 1:, :, :]       # [B,49,50,2]\n",
    "\n",
    "        rel = others - ego_pos.unsqueeze(1) \n",
    "        dists = torch.norm(rel, dim=-1)\n",
    "\n",
    "        mask = (dists <= self.R)             # [B,49,50], bool\n",
    "        mask_expanded = mask.unsqueeze(-1).float()  # [B,49,50,1]\n",
    "        rel_masked = rel * mask_expanded  \n",
    "        counts = mask.sum(dim=1).clamp(min=1).unsqueeze(-1)  # [B,50,1]\n",
    "        avg_rel = rel_masked.sum(dim=1) / counts           # [B,50,2]\n",
    "\n",
    "        x_in = torch.cat([ego_traj, avg_rel], dim=-1) # [B,50,8]\n",
    "\n",
    "        lstm_out, _ = self.lstm(x_in)\n",
    "        final_h = lstm_out[:, -1, :]    # [B,50,hidden_dim]\n",
    "\n",
    "        out = self.fc(final_h)\n",
    "        return out.view(-1, 60, 2)\n"
   ]
  },
  {
   "cell_type": "code",
   "execution_count": 11,
   "metadata": {},
   "outputs": [],
   "source": [
    "model = LSTM().to(device)\n",
    "\n",
    "optimizer = optim.Adam(model.parameters(), lr=0.001, weight_decay=1e-4)\n",
    "# scheduler = optim.lr_scheduler.StepLR(optimizer, step_size=5, gamma=0.75) # You can try different schedulers\n",
    "# scheduler = optim.lr_scheduler.OneCycleLR(optimizer, max_lr=2e-3, total_steps=100)\n",
    "scheduler = optim.lr_scheduler.ReduceLROnPlateau(optimizer, mode='min', factor=0.4, patience=3)\n",
    "\n",
    "early_stopping_patience = 100\n",
    "best_val_loss = float('inf')\n",
    "no_improvement = 0\n",
    "criterion = nn.MSELoss()"
   ]
  },
  {
   "cell_type": "code",
   "execution_count": 12,
   "metadata": {},
   "outputs": [],
   "source": [
    "optimizer = optim.Adam(model.parameters(), lr=0.001, weight_decay=1e-4)\n",
    "# scheduler = optim.lr_scheduler.StepLR(optimizer, step_size=5, gamma=0.75) # You can try different schedulers\n",
    "# scheduler = optim.lr_scheduler.OneCycleLR(optimizer, max_lr=2e-3, total_steps=100)\n",
    "scheduler = optim.lr_scheduler.ReduceLROnPlateau(optimizer, mode='min', factor=0.5, patience=3)\n",
    "\n",
    "early_stopping_patience = 100\n",
    "best_val_loss = float('inf')\n",
    "no_improvement = 0\n",
    "criterion = nn.MSELoss()"
   ]
  },
  {
   "cell_type": "code",
   "execution_count": 13,
   "metadata": {
    "scrolled": false
   },
   "outputs": [
    {
     "name": "stderr",
     "output_type": "stream",
     "text": [
      "Epoch:   1%|▋                                                                       | 1/100 [00:20<33:01, 20.02s/epoch]"
     ]
    },
    {
     "name": "stdout",
     "output_type": "stream",
     "text": [
      "Epoch 000 | Learning rate 0.001000 | train normalized MSE   1.3210 | val normalized MSE   0.4988, | val MAE   2.7286 | val MSE  24.4420\n"
     ]
    },
    {
     "name": "stderr",
     "output_type": "stream",
     "text": [
      "Epoch:   2%|█▍                                                                      | 2/100 [00:27<20:53, 12.79s/epoch]"
     ]
    },
    {
     "name": "stdout",
     "output_type": "stream",
     "text": [
      "Epoch 001 | Learning rate 0.001000 | train normalized MSE   0.4466 | val normalized MSE   0.3394, | val MAE   2.2617 | val MSE  16.6319\n"
     ]
    },
    {
     "name": "stderr",
     "output_type": "stream",
     "text": [
      "Epoch:   3%|██▏                                                                     | 3/100 [00:35<16:50, 10.42s/epoch]"
     ]
    },
    {
     "name": "stdout",
     "output_type": "stream",
     "text": [
      "Epoch 002 | Learning rate 0.001000 | train normalized MSE   0.3755 | val normalized MSE   0.3690, | val MAE   2.4438 | val MSE  18.0822\n"
     ]
    },
    {
     "name": "stderr",
     "output_type": "stream",
     "text": [
      "Epoch:   4%|██▉                                                                     | 4/100 [00:42<14:52,  9.29s/epoch]"
     ]
    },
    {
     "name": "stdout",
     "output_type": "stream",
     "text": [
      "Epoch 003 | Learning rate 0.001000 | train normalized MSE   0.3298 | val normalized MSE   0.3387, | val MAE   2.2891 | val MSE  16.5956\n"
     ]
    },
    {
     "name": "stderr",
     "output_type": "stream",
     "text": [
      "Epoch:   5%|███▌                                                                    | 5/100 [00:52<15:03,  9.51s/epoch]"
     ]
    },
    {
     "name": "stdout",
     "output_type": "stream",
     "text": [
      "Epoch 004 | Learning rate 0.001000 | train normalized MSE   0.3212 | val normalized MSE   0.2917, | val MAE   1.9694 | val MSE  14.2922\n"
     ]
    },
    {
     "name": "stderr",
     "output_type": "stream",
     "text": [
      "Epoch:   6%|████▎                                                                   | 6/100 [01:01<14:42,  9.39s/epoch]"
     ]
    },
    {
     "name": "stdout",
     "output_type": "stream",
     "text": [
      "Epoch 005 | Learning rate 0.001000 | train normalized MSE   0.3020 | val normalized MSE   0.2995, | val MAE   2.0685 | val MSE  14.6769\n"
     ]
    },
    {
     "name": "stderr",
     "output_type": "stream",
     "text": [
      "Epoch:   7%|█████                                                                   | 7/100 [01:10<14:09,  9.13s/epoch]"
     ]
    },
    {
     "name": "stdout",
     "output_type": "stream",
     "text": [
      "Epoch 006 | Learning rate 0.001000 | train normalized MSE   0.2915 | val normalized MSE   0.3116, | val MAE   2.0889 | val MSE  15.2700\n"
     ]
    },
    {
     "name": "stderr",
     "output_type": "stream",
     "text": [
      "Epoch:   8%|█████▊                                                                  | 8/100 [01:18<13:20,  8.70s/epoch]"
     ]
    },
    {
     "name": "stdout",
     "output_type": "stream",
     "text": [
      "Epoch 007 | Learning rate 0.001000 | train normalized MSE   0.2865 | val normalized MSE   0.2875, | val MAE   2.0196 | val MSE  14.0876\n"
     ]
    },
    {
     "name": "stderr",
     "output_type": "stream",
     "text": [
      "Epoch:   9%|██████▍                                                                 | 9/100 [01:26<12:48,  8.45s/epoch]"
     ]
    },
    {
     "name": "stdout",
     "output_type": "stream",
     "text": [
      "Epoch 008 | Learning rate 0.001000 | train normalized MSE   0.2763 | val normalized MSE   0.2770, | val MAE   1.9542 | val MSE  13.5717\n"
     ]
    },
    {
     "name": "stderr",
     "output_type": "stream",
     "text": [
      "Epoch:  10%|███████                                                                | 10/100 [01:33<12:20,  8.23s/epoch]"
     ]
    },
    {
     "name": "stdout",
     "output_type": "stream",
     "text": [
      "Epoch 009 | Learning rate 0.001000 | train normalized MSE   0.2661 | val normalized MSE   0.2584, | val MAE   1.9077 | val MSE  12.6609\n"
     ]
    },
    {
     "name": "stderr",
     "output_type": "stream",
     "text": [
      "Epoch:  11%|███████▊                                                               | 11/100 [01:41<11:51,  8.00s/epoch]"
     ]
    },
    {
     "name": "stdout",
     "output_type": "stream",
     "text": [
      "Epoch 010 | Learning rate 0.001000 | train normalized MSE   0.2631 | val normalized MSE   0.2588, | val MAE   1.9196 | val MSE  12.6816\n"
     ]
    },
    {
     "name": "stderr",
     "output_type": "stream",
     "text": [
      "Epoch:  12%|████████▌                                                              | 12/100 [01:48<11:28,  7.82s/epoch]"
     ]
    },
    {
     "name": "stdout",
     "output_type": "stream",
     "text": [
      "Epoch 011 | Learning rate 0.001000 | train normalized MSE   0.2589 | val normalized MSE   0.2343, | val MAE   1.7657 | val MSE  11.4815\n"
     ]
    },
    {
     "name": "stderr",
     "output_type": "stream",
     "text": [
      "Epoch:  13%|█████████▏                                                             | 13/100 [01:56<11:13,  7.74s/epoch]"
     ]
    },
    {
     "name": "stdout",
     "output_type": "stream",
     "text": [
      "Epoch 012 | Learning rate 0.001000 | train normalized MSE   0.2505 | val normalized MSE   0.2245, | val MAE   1.6125 | val MSE  11.0016\n"
     ]
    },
    {
     "name": "stderr",
     "output_type": "stream",
     "text": [
      "Epoch:  14%|█████████▉                                                             | 14/100 [02:03<11:00,  7.68s/epoch]"
     ]
    },
    {
     "name": "stdout",
     "output_type": "stream",
     "text": [
      "Epoch 013 | Learning rate 0.001000 | train normalized MSE   0.2431 | val normalized MSE   0.2302, | val MAE   1.7890 | val MSE  11.2801\n"
     ]
    },
    {
     "name": "stderr",
     "output_type": "stream",
     "text": [
      "Epoch:  15%|██████████▋                                                            | 15/100 [02:11<10:47,  7.62s/epoch]"
     ]
    },
    {
     "name": "stdout",
     "output_type": "stream",
     "text": [
      "Epoch 014 | Learning rate 0.001000 | train normalized MSE   0.2450 | val normalized MSE   0.2276, | val MAE   1.7576 | val MSE  11.1537\n"
     ]
    },
    {
     "name": "stderr",
     "output_type": "stream",
     "text": [
      "Epoch:  16%|███████████▎                                                           | 16/100 [02:19<10:40,  7.63s/epoch]"
     ]
    },
    {
     "name": "stdout",
     "output_type": "stream",
     "text": [
      "Epoch 015 | Learning rate 0.001000 | train normalized MSE   0.2416 | val normalized MSE   0.2203, | val MAE   1.6768 | val MSE  10.7951\n"
     ]
    },
    {
     "name": "stderr",
     "output_type": "stream",
     "text": [
      "Epoch:  17%|████████████                                                           | 17/100 [02:26<10:32,  7.62s/epoch]"
     ]
    },
    {
     "name": "stdout",
     "output_type": "stream",
     "text": [
      "Epoch 016 | Learning rate 0.001000 | train normalized MSE   0.2380 | val normalized MSE   0.2237, | val MAE   1.7072 | val MSE  10.9604\n"
     ]
    },
    {
     "name": "stderr",
     "output_type": "stream",
     "text": [
      "Epoch:  18%|████████████▊                                                          | 18/100 [02:34<10:23,  7.61s/epoch]"
     ]
    },
    {
     "name": "stdout",
     "output_type": "stream",
     "text": [
      "Epoch 017 | Learning rate 0.001000 | train normalized MSE   0.2303 | val normalized MSE   0.2185, | val MAE   1.6622 | val MSE  10.7066\n"
     ]
    },
    {
     "name": "stderr",
     "output_type": "stream",
     "text": [
      "Epoch:  19%|█████████████▍                                                         | 19/100 [02:41<10:13,  7.58s/epoch]"
     ]
    },
    {
     "name": "stdout",
     "output_type": "stream",
     "text": [
      "Epoch 018 | Learning rate 0.001000 | train normalized MSE   0.2305 | val normalized MSE   0.2285, | val MAE   1.7210 | val MSE  11.1979\n"
     ]
    },
    {
     "name": "stderr",
     "output_type": "stream",
     "text": [
      "Epoch:  20%|██████████████▏                                                        | 20/100 [02:49<10:04,  7.56s/epoch]"
     ]
    },
    {
     "name": "stdout",
     "output_type": "stream",
     "text": [
      "Epoch 019 | Learning rate 0.001000 | train normalized MSE   0.2256 | val normalized MSE   0.2275, | val MAE   1.7777 | val MSE  11.1464\n"
     ]
    },
    {
     "name": "stderr",
     "output_type": "stream",
     "text": [
      "Epoch:  21%|██████████████▉                                                        | 21/100 [02:57<10:01,  7.62s/epoch]"
     ]
    },
    {
     "name": "stdout",
     "output_type": "stream",
     "text": [
      "Epoch 020 | Learning rate 0.001000 | train normalized MSE   0.2220 | val normalized MSE   0.2154, | val MAE   1.6947 | val MSE  10.5533\n"
     ]
    },
    {
     "name": "stderr",
     "output_type": "stream",
     "text": [
      "Epoch:  22%|███████████████▌                                                       | 22/100 [03:04<09:51,  7.58s/epoch]"
     ]
    },
    {
     "name": "stdout",
     "output_type": "stream",
     "text": [
      "Epoch 021 | Learning rate 0.001000 | train normalized MSE   0.2280 | val normalized MSE   0.2451, | val MAE   1.9008 | val MSE  12.0106\n"
     ]
    },
    {
     "name": "stderr",
     "output_type": "stream",
     "text": [
      "Epoch:  23%|████████████████▎                                                      | 23/100 [03:11<09:41,  7.55s/epoch]"
     ]
    },
    {
     "name": "stdout",
     "output_type": "stream",
     "text": [
      "Epoch 022 | Learning rate 0.001000 | train normalized MSE   0.2218 | val normalized MSE   0.2081, | val MAE   1.6811 | val MSE  10.1955\n"
     ]
    },
    {
     "name": "stderr",
     "output_type": "stream",
     "text": [
      "Epoch:  24%|█████████████████                                                      | 24/100 [03:19<09:34,  7.56s/epoch]"
     ]
    },
    {
     "name": "stdout",
     "output_type": "stream",
     "text": [
      "Epoch 023 | Learning rate 0.001000 | train normalized MSE   0.2246 | val normalized MSE   0.2081, | val MAE   1.6080 | val MSE  10.1986\n"
     ]
    },
    {
     "name": "stderr",
     "output_type": "stream",
     "text": [
      "Epoch:  25%|█████████████████▊                                                     | 25/100 [03:27<09:24,  7.52s/epoch]"
     ]
    },
    {
     "name": "stdout",
     "output_type": "stream",
     "text": [
      "Epoch 024 | Learning rate 0.001000 | train normalized MSE   0.2159 | val normalized MSE   0.2160, | val MAE   1.7304 | val MSE  10.5847\n"
     ]
    },
    {
     "name": "stderr",
     "output_type": "stream",
     "text": [
      "Epoch:  26%|██████████████████▍                                                    | 26/100 [03:34<09:19,  7.56s/epoch]"
     ]
    },
    {
     "name": "stdout",
     "output_type": "stream",
     "text": [
      "Epoch 025 | Learning rate 0.001000 | train normalized MSE   0.2158 | val normalized MSE   0.2024, | val MAE   1.6319 | val MSE   9.9169\n"
     ]
    },
    {
     "name": "stderr",
     "output_type": "stream",
     "text": [
      "Epoch:  27%|███████████████████▏                                                   | 27/100 [03:42<09:12,  7.57s/epoch]"
     ]
    },
    {
     "name": "stdout",
     "output_type": "stream",
     "text": [
      "Epoch 026 | Learning rate 0.001000 | train normalized MSE   0.2139 | val normalized MSE   0.1919, | val MAE   1.5717 | val MSE   9.4032\n"
     ]
    },
    {
     "name": "stderr",
     "output_type": "stream",
     "text": [
      "Epoch:  28%|███████████████████▉                                                   | 28/100 [03:49<09:07,  7.61s/epoch]"
     ]
    },
    {
     "name": "stdout",
     "output_type": "stream",
     "text": [
      "Epoch 027 | Learning rate 0.001000 | train normalized MSE   0.2130 | val normalized MSE   0.1994, | val MAE   1.5827 | val MSE   9.7720\n"
     ]
    },
    {
     "name": "stderr",
     "output_type": "stream",
     "text": [
      "Epoch:  29%|████████████████████▌                                                  | 29/100 [03:57<09:00,  7.61s/epoch]"
     ]
    },
    {
     "name": "stdout",
     "output_type": "stream",
     "text": [
      "Epoch 028 | Learning rate 0.001000 | train normalized MSE   0.2105 | val normalized MSE   0.1960, | val MAE   1.5783 | val MSE   9.6023\n"
     ]
    },
    {
     "name": "stderr",
     "output_type": "stream",
     "text": [
      "Epoch:  30%|█████████████████████▎                                                 | 30/100 [04:05<08:53,  7.62s/epoch]"
     ]
    },
    {
     "name": "stdout",
     "output_type": "stream",
     "text": [
      "Epoch 029 | Learning rate 0.001000 | train normalized MSE   0.2114 | val normalized MSE   0.2018, | val MAE   1.6128 | val MSE   9.8875\n"
     ]
    },
    {
     "name": "stderr",
     "output_type": "stream",
     "text": [
      "Epoch:  31%|██████████████████████                                                 | 31/100 [04:12<08:43,  7.59s/epoch]"
     ]
    },
    {
     "name": "stdout",
     "output_type": "stream",
     "text": [
      "Epoch 030 | Learning rate 0.000500 | train normalized MSE   0.2094 | val normalized MSE   0.2048, | val MAE   1.6342 | val MSE  10.0355\n"
     ]
    },
    {
     "name": "stderr",
     "output_type": "stream",
     "text": [
      "Epoch:  32%|██████████████████████▋                                                | 32/100 [04:20<08:37,  7.61s/epoch]"
     ]
    },
    {
     "name": "stdout",
     "output_type": "stream",
     "text": [
      "Epoch 031 | Learning rate 0.000500 | train normalized MSE   0.1933 | val normalized MSE   0.1818, | val MAE   1.4515 | val MSE   8.9077\n"
     ]
    },
    {
     "name": "stderr",
     "output_type": "stream",
     "text": [
      "Epoch:  33%|███████████████████████▍                                               | 33/100 [04:28<08:33,  7.67s/epoch]"
     ]
    },
    {
     "name": "stdout",
     "output_type": "stream",
     "text": [
      "Epoch 032 | Learning rate 0.000500 | train normalized MSE   0.1891 | val normalized MSE   0.1841, | val MAE   1.4432 | val MSE   9.0217\n"
     ]
    },
    {
     "name": "stderr",
     "output_type": "stream",
     "text": [
      "Epoch:  34%|████████████████████████▏                                              | 34/100 [04:35<08:25,  7.66s/epoch]"
     ]
    },
    {
     "name": "stdout",
     "output_type": "stream",
     "text": [
      "Epoch 033 | Learning rate 0.000500 | train normalized MSE   0.1891 | val normalized MSE   0.1914, | val MAE   1.5174 | val MSE   9.3786\n"
     ]
    },
    {
     "name": "stderr",
     "output_type": "stream",
     "text": [
      "Epoch:  35%|████████████████████████▊                                              | 35/100 [04:43<08:20,  7.71s/epoch]"
     ]
    },
    {
     "name": "stdout",
     "output_type": "stream",
     "text": [
      "Epoch 034 | Learning rate 0.000500 | train normalized MSE   0.1891 | val normalized MSE   0.1830, | val MAE   1.4657 | val MSE   8.9678\n"
     ]
    },
    {
     "name": "stderr",
     "output_type": "stream",
     "text": [
      "Epoch:  36%|█████████████████████████▌                                             | 36/100 [04:51<08:10,  7.66s/epoch]"
     ]
    },
    {
     "name": "stdout",
     "output_type": "stream",
     "text": [
      "Epoch 035 | Learning rate 0.000250 | train normalized MSE   0.1886 | val normalized MSE   0.1881, | val MAE   1.5145 | val MSE   9.2182\n"
     ]
    },
    {
     "name": "stderr",
     "output_type": "stream",
     "text": [
      "Epoch:  37%|██████████████████████████▎                                            | 37/100 [04:58<08:01,  7.64s/epoch]"
     ]
    },
    {
     "name": "stdout",
     "output_type": "stream",
     "text": [
      "Epoch 036 | Learning rate 0.000250 | train normalized MSE   0.1806 | val normalized MSE   0.1751, | val MAE   1.4061 | val MSE   8.5793\n"
     ]
    },
    {
     "name": "stderr",
     "output_type": "stream",
     "text": [
      "Epoch:  38%|██████████████████████████▉                                            | 38/100 [05:06<07:51,  7.60s/epoch]"
     ]
    },
    {
     "name": "stdout",
     "output_type": "stream",
     "text": [
      "Epoch 037 | Learning rate 0.000250 | train normalized MSE   0.1770 | val normalized MSE   0.1792, | val MAE   1.4212 | val MSE   8.7825\n"
     ]
    },
    {
     "name": "stderr",
     "output_type": "stream",
     "text": [
      "Epoch:  39%|███████████████████████████▋                                           | 39/100 [05:13<07:44,  7.61s/epoch]"
     ]
    },
    {
     "name": "stdout",
     "output_type": "stream",
     "text": [
      "Epoch 038 | Learning rate 0.000250 | train normalized MSE   0.1784 | val normalized MSE   0.1779, | val MAE   1.4066 | val MSE   8.7157\n"
     ]
    },
    {
     "name": "stderr",
     "output_type": "stream",
     "text": [
      "Epoch:  40%|████████████████████████████▍                                          | 40/100 [05:21<07:42,  7.71s/epoch]"
     ]
    },
    {
     "name": "stdout",
     "output_type": "stream",
     "text": [
      "Epoch 039 | Learning rate 0.000250 | train normalized MSE   0.1774 | val normalized MSE   0.1737, | val MAE   1.3947 | val MSE   8.5112\n"
     ]
    },
    {
     "name": "stderr",
     "output_type": "stream",
     "text": [
      "Epoch:  41%|█████████████████████████████                                          | 41/100 [05:29<07:39,  7.79s/epoch]"
     ]
    },
    {
     "name": "stdout",
     "output_type": "stream",
     "text": [
      "Epoch 040 | Learning rate 0.000250 | train normalized MSE   0.1776 | val normalized MSE   0.1753, | val MAE   1.3847 | val MSE   8.5903\n"
     ]
    },
    {
     "name": "stderr",
     "output_type": "stream",
     "text": [
      "Epoch:  42%|█████████████████████████████▊                                         | 42/100 [05:37<07:34,  7.84s/epoch]"
     ]
    },
    {
     "name": "stdout",
     "output_type": "stream",
     "text": [
      "Epoch 041 | Learning rate 0.000250 | train normalized MSE   0.1765 | val normalized MSE   0.1743, | val MAE   1.3933 | val MSE   8.5387\n"
     ]
    },
    {
     "name": "stderr",
     "output_type": "stream",
     "text": [
      "Epoch:  43%|██████████████████████████████▌                                        | 43/100 [05:45<07:27,  7.86s/epoch]"
     ]
    },
    {
     "name": "stdout",
     "output_type": "stream",
     "text": [
      "Epoch 042 | Learning rate 0.000250 | train normalized MSE   0.1765 | val normalized MSE   0.1749, | val MAE   1.4119 | val MSE   8.5685\n"
     ]
    },
    {
     "name": "stderr",
     "output_type": "stream",
     "text": [
      "Epoch:  44%|███████████████████████████████▏                                       | 44/100 [05:53<07:22,  7.90s/epoch]"
     ]
    },
    {
     "name": "stdout",
     "output_type": "stream",
     "text": [
      "Epoch 043 | Learning rate 0.000125 | train normalized MSE   0.1754 | val normalized MSE   0.1767, | val MAE   1.4379 | val MSE   8.6575\n"
     ]
    },
    {
     "name": "stderr",
     "output_type": "stream",
     "text": [
      "Epoch:  45%|███████████████████████████████▉                                       | 45/100 [06:01<07:15,  7.91s/epoch]"
     ]
    },
    {
     "name": "stdout",
     "output_type": "stream",
     "text": [
      "Epoch 044 | Learning rate 0.000125 | train normalized MSE   0.1697 | val normalized MSE   0.1725, | val MAE   1.3876 | val MSE   8.4526\n"
     ]
    },
    {
     "name": "stderr",
     "output_type": "stream",
     "text": [
      "Epoch:  46%|████████████████████████████████▋                                      | 46/100 [06:09<07:06,  7.89s/epoch]"
     ]
    },
    {
     "name": "stdout",
     "output_type": "stream",
     "text": [
      "Epoch 045 | Learning rate 0.000125 | train normalized MSE   0.1699 | val normalized MSE   0.1718, | val MAE   1.3600 | val MSE   8.4184\n"
     ]
    },
    {
     "name": "stderr",
     "output_type": "stream",
     "text": [
      "Epoch:  47%|█████████████████████████████████▎                                     | 47/100 [06:17<06:53,  7.81s/epoch]"
     ]
    },
    {
     "name": "stdout",
     "output_type": "stream",
     "text": [
      "Epoch 046 | Learning rate 0.000125 | train normalized MSE   0.1691 | val normalized MSE   0.1697, | val MAE   1.3759 | val MSE   8.3164\n"
     ]
    },
    {
     "name": "stderr",
     "output_type": "stream",
     "text": [
      "Epoch:  48%|██████████████████████████████████                                     | 48/100 [06:24<06:42,  7.73s/epoch]"
     ]
    },
    {
     "name": "stdout",
     "output_type": "stream",
     "text": [
      "Epoch 047 | Learning rate 0.000125 | train normalized MSE   0.1682 | val normalized MSE   0.1680, | val MAE   1.3422 | val MSE   8.2327\n"
     ]
    },
    {
     "name": "stderr",
     "output_type": "stream",
     "text": [
      "Epoch:  49%|██████████████████████████████████▊                                    | 49/100 [06:32<06:34,  7.74s/epoch]"
     ]
    },
    {
     "name": "stdout",
     "output_type": "stream",
     "text": [
      "Epoch 048 | Learning rate 0.000125 | train normalized MSE   0.1689 | val normalized MSE   0.1700, | val MAE   1.3767 | val MSE   8.3323\n"
     ]
    },
    {
     "name": "stderr",
     "output_type": "stream",
     "text": [
      "Epoch:  50%|███████████████████████████████████▌                                   | 50/100 [06:40<06:26,  7.73s/epoch]"
     ]
    },
    {
     "name": "stdout",
     "output_type": "stream",
     "text": [
      "Epoch 049 | Learning rate 0.000125 | train normalized MSE   0.1670 | val normalized MSE   0.1697, | val MAE   1.3716 | val MSE   8.3135\n"
     ]
    },
    {
     "name": "stderr",
     "output_type": "stream",
     "text": [
      "Epoch:  51%|████████████████████████████████████▏                                  | 51/100 [06:47<06:19,  7.74s/epoch]"
     ]
    },
    {
     "name": "stdout",
     "output_type": "stream",
     "text": [
      "Epoch 050 | Learning rate 0.000125 | train normalized MSE   0.1668 | val normalized MSE   0.1694, | val MAE   1.3616 | val MSE   8.3014\n"
     ]
    },
    {
     "name": "stderr",
     "output_type": "stream",
     "text": [
      "Epoch:  52%|████████████████████████████████████▉                                  | 52/100 [06:55<06:09,  7.69s/epoch]"
     ]
    },
    {
     "name": "stdout",
     "output_type": "stream",
     "text": [
      "Epoch 051 | Learning rate 0.000063 | train normalized MSE   0.1669 | val normalized MSE   0.1718, | val MAE   1.3653 | val MSE   8.4181\n"
     ]
    },
    {
     "name": "stderr",
     "output_type": "stream",
     "text": [
      "Epoch:  53%|█████████████████████████████████████▋                                 | 53/100 [07:03<06:00,  7.67s/epoch]"
     ]
    },
    {
     "name": "stdout",
     "output_type": "stream",
     "text": [
      "Epoch 052 | Learning rate 0.000063 | train normalized MSE   0.1644 | val normalized MSE   0.1684, | val MAE   1.3422 | val MSE   8.2519\n"
     ]
    },
    {
     "name": "stderr",
     "output_type": "stream",
     "text": [
      "Epoch:  54%|██████████████████████████████████████▎                                | 54/100 [07:10<05:53,  7.69s/epoch]"
     ]
    },
    {
     "name": "stdout",
     "output_type": "stream",
     "text": [
      "Epoch 053 | Learning rate 0.000063 | train normalized MSE   0.1646 | val normalized MSE   0.1694, | val MAE   1.3636 | val MSE   8.2991\n"
     ]
    },
    {
     "name": "stderr",
     "output_type": "stream",
     "text": [
      "Epoch:  55%|███████████████████████████████████████                                | 55/100 [07:18<05:48,  7.74s/epoch]"
     ]
    },
    {
     "name": "stdout",
     "output_type": "stream",
     "text": [
      "Epoch 054 | Learning rate 0.000063 | train normalized MSE   0.1640 | val normalized MSE   0.1671, | val MAE   1.3278 | val MSE   8.1863\n"
     ]
    },
    {
     "name": "stderr",
     "output_type": "stream",
     "text": [
      "Epoch:  56%|███████████████████████████████████████▊                               | 56/100 [07:26<05:41,  7.75s/epoch]"
     ]
    },
    {
     "name": "stdout",
     "output_type": "stream",
     "text": [
      "Epoch 055 | Learning rate 0.000063 | train normalized MSE   0.1631 | val normalized MSE   0.1668, | val MAE   1.3316 | val MSE   8.1711\n"
     ]
    },
    {
     "name": "stderr",
     "output_type": "stream",
     "text": [
      "Epoch:  57%|████████████████████████████████████████▍                              | 57/100 [07:34<05:33,  7.77s/epoch]"
     ]
    },
    {
     "name": "stdout",
     "output_type": "stream",
     "text": [
      "Epoch 056 | Learning rate 0.000063 | train normalized MSE   0.1640 | val normalized MSE   0.1675, | val MAE   1.3515 | val MSE   8.2095\n"
     ]
    },
    {
     "name": "stderr",
     "output_type": "stream",
     "text": [
      "Epoch:  58%|█████████████████████████████████████████▏                             | 58/100 [07:41<05:24,  7.71s/epoch]"
     ]
    },
    {
     "name": "stdout",
     "output_type": "stream",
     "text": [
      "Epoch 057 | Learning rate 0.000063 | train normalized MSE   0.1627 | val normalized MSE   0.1673, | val MAE   1.3305 | val MSE   8.1984\n"
     ]
    },
    {
     "name": "stderr",
     "output_type": "stream",
     "text": [
      "Epoch:  59%|█████████████████████████████████████████▉                             | 59/100 [07:49<05:14,  7.68s/epoch]"
     ]
    },
    {
     "name": "stdout",
     "output_type": "stream",
     "text": [
      "Epoch 058 | Learning rate 0.000063 | train normalized MSE   0.1645 | val normalized MSE   0.1679, | val MAE   1.3584 | val MSE   8.2251\n"
     ]
    },
    {
     "name": "stderr",
     "output_type": "stream",
     "text": [
      "Epoch:  60%|██████████████████████████████████████████▌                            | 60/100 [07:57<05:06,  7.66s/epoch]"
     ]
    },
    {
     "name": "stdout",
     "output_type": "stream",
     "text": [
      "Epoch 059 | Learning rate 0.000063 | train normalized MSE   0.1626 | val normalized MSE   0.1657, | val MAE   1.3408 | val MSE   8.1196\n"
     ]
    },
    {
     "name": "stderr",
     "output_type": "stream",
     "text": [
      "Epoch:  61%|███████████████████████████████████████████▎                           | 61/100 [08:04<04:57,  7.63s/epoch]"
     ]
    },
    {
     "name": "stdout",
     "output_type": "stream",
     "text": [
      "Epoch 060 | Learning rate 0.000063 | train normalized MSE   0.1625 | val normalized MSE   0.1668, | val MAE   1.3254 | val MSE   8.1750\n"
     ]
    },
    {
     "name": "stderr",
     "output_type": "stream",
     "text": [
      "Epoch:  62%|████████████████████████████████████████████                           | 62/100 [08:12<04:50,  7.65s/epoch]"
     ]
    },
    {
     "name": "stdout",
     "output_type": "stream",
     "text": [
      "Epoch 061 | Learning rate 0.000063 | train normalized MSE   0.1626 | val normalized MSE   0.1686, | val MAE   1.3539 | val MSE   8.2608\n"
     ]
    },
    {
     "name": "stderr",
     "output_type": "stream",
     "text": [
      "Epoch:  63%|████████████████████████████████████████████▋                          | 63/100 [08:19<04:42,  7.65s/epoch]"
     ]
    },
    {
     "name": "stdout",
     "output_type": "stream",
     "text": [
      "Epoch 062 | Learning rate 0.000063 | train normalized MSE   0.1637 | val normalized MSE   0.1662, | val MAE   1.3378 | val MSE   8.1446\n"
     ]
    },
    {
     "name": "stderr",
     "output_type": "stream",
     "text": [
      "Epoch:  64%|█████████████████████████████████████████████▍                         | 64/100 [08:27<04:35,  7.66s/epoch]"
     ]
    },
    {
     "name": "stdout",
     "output_type": "stream",
     "text": [
      "Epoch 063 | Learning rate 0.000031 | train normalized MSE   0.1617 | val normalized MSE   0.1677, | val MAE   1.3337 | val MSE   8.2152\n"
     ]
    },
    {
     "name": "stderr",
     "output_type": "stream",
     "text": [
      "Epoch:  65%|██████████████████████████████████████████████▏                        | 65/100 [08:35<04:28,  7.67s/epoch]"
     ]
    },
    {
     "name": "stdout",
     "output_type": "stream",
     "text": [
      "Epoch 064 | Learning rate 0.000031 | train normalized MSE   0.1605 | val normalized MSE   0.1659, | val MAE   1.3119 | val MSE   8.1308\n"
     ]
    },
    {
     "name": "stderr",
     "output_type": "stream",
     "text": [
      "Epoch:  66%|██████████████████████████████████████████████▊                        | 66/100 [08:43<04:20,  7.67s/epoch]"
     ]
    },
    {
     "name": "stdout",
     "output_type": "stream",
     "text": [
      "Epoch 065 | Learning rate 0.000031 | train normalized MSE   0.1596 | val normalized MSE   0.1654, | val MAE   1.3170 | val MSE   8.1054\n"
     ]
    },
    {
     "name": "stderr",
     "output_type": "stream",
     "text": [
      "Epoch:  67%|███████████████████████████████████████████████▌                       | 67/100 [08:50<04:13,  7.68s/epoch]"
     ]
    },
    {
     "name": "stdout",
     "output_type": "stream",
     "text": [
      "Epoch 066 | Learning rate 0.000031 | train normalized MSE   0.1598 | val normalized MSE   0.1661, | val MAE   1.3187 | val MSE   8.1365\n"
     ]
    },
    {
     "name": "stderr",
     "output_type": "stream",
     "text": [
      "Epoch:  68%|████████████████████████████████████████████████▎                      | 68/100 [08:58<04:04,  7.66s/epoch]"
     ]
    },
    {
     "name": "stdout",
     "output_type": "stream",
     "text": [
      "Epoch 067 | Learning rate 0.000031 | train normalized MSE   0.1599 | val normalized MSE   0.1670, | val MAE   1.3331 | val MSE   8.1846\n"
     ]
    },
    {
     "name": "stderr",
     "output_type": "stream",
     "text": [
      "Epoch:  69%|████████████████████████████████████████████████▉                      | 69/100 [09:06<03:57,  7.67s/epoch]"
     ]
    },
    {
     "name": "stdout",
     "output_type": "stream",
     "text": [
      "Epoch 068 | Learning rate 0.000031 | train normalized MSE   0.1595 | val normalized MSE   0.1662, | val MAE   1.3233 | val MSE   8.1414\n"
     ]
    },
    {
     "name": "stderr",
     "output_type": "stream",
     "text": [
      "Epoch:  70%|█████████████████████████████████████████████████▋                     | 70/100 [09:13<03:49,  7.66s/epoch]"
     ]
    },
    {
     "name": "stdout",
     "output_type": "stream",
     "text": [
      "Epoch 069 | Learning rate 0.000016 | train normalized MSE   0.1601 | val normalized MSE   0.1656, | val MAE   1.3245 | val MSE   8.1162\n"
     ]
    },
    {
     "name": "stderr",
     "output_type": "stream",
     "text": [
      "Epoch:  71%|██████████████████████████████████████████████████▍                    | 71/100 [09:21<03:42,  7.67s/epoch]"
     ]
    },
    {
     "name": "stdout",
     "output_type": "stream",
     "text": [
      "Epoch 070 | Learning rate 0.000016 | train normalized MSE   0.1580 | val normalized MSE   0.1653, | val MAE   1.3173 | val MSE   8.1000\n"
     ]
    },
    {
     "name": "stderr",
     "output_type": "stream",
     "text": [
      "Epoch:  72%|███████████████████████████████████████████████████                    | 72/100 [09:29<03:34,  7.66s/epoch]"
     ]
    },
    {
     "name": "stdout",
     "output_type": "stream",
     "text": [
      "Epoch 071 | Learning rate 0.000016 | train normalized MSE   0.1583 | val normalized MSE   0.1655, | val MAE   1.3212 | val MSE   8.1105\n"
     ]
    },
    {
     "name": "stderr",
     "output_type": "stream",
     "text": [
      "Epoch:  73%|███████████████████████████████████████████████████▊                   | 73/100 [09:36<03:27,  7.68s/epoch]"
     ]
    },
    {
     "name": "stdout",
     "output_type": "stream",
     "text": [
      "Epoch 072 | Learning rate 0.000016 | train normalized MSE   0.1590 | val normalized MSE   0.1656, | val MAE   1.3163 | val MSE   8.1134\n"
     ]
    },
    {
     "name": "stderr",
     "output_type": "stream",
     "text": [
      "Epoch:  74%|████████████████████████████████████████████████████▌                  | 74/100 [09:44<03:20,  7.72s/epoch]"
     ]
    },
    {
     "name": "stdout",
     "output_type": "stream",
     "text": [
      "Epoch 073 | Learning rate 0.000016 | train normalized MSE   0.1584 | val normalized MSE   0.1652, | val MAE   1.3168 | val MSE   8.0940\n"
     ]
    },
    {
     "name": "stderr",
     "output_type": "stream",
     "text": [
      "Epoch:  75%|█████████████████████████████████████████████████████▎                 | 75/100 [09:52<03:13,  7.74s/epoch]"
     ]
    },
    {
     "name": "stdout",
     "output_type": "stream",
     "text": [
      "Epoch 074 | Learning rate 0.000016 | train normalized MSE   0.1574 | val normalized MSE   0.1658, | val MAE   1.3163 | val MSE   8.1226\n"
     ]
    },
    {
     "name": "stderr",
     "output_type": "stream",
     "text": [
      "Epoch:  76%|█████████████████████████████████████████████████████▉                 | 76/100 [10:00<03:07,  7.81s/epoch]"
     ]
    },
    {
     "name": "stdout",
     "output_type": "stream",
     "text": [
      "Epoch 075 | Learning rate 0.000016 | train normalized MSE   0.1565 | val normalized MSE   0.1662, | val MAE   1.3238 | val MSE   8.1418\n"
     ]
    },
    {
     "name": "stderr",
     "output_type": "stream",
     "text": [
      "Epoch:  77%|██████████████████████████████████████████████████████▋                | 77/100 [10:07<02:58,  7.77s/epoch]"
     ]
    },
    {
     "name": "stdout",
     "output_type": "stream",
     "text": [
      "Epoch 076 | Learning rate 0.000016 | train normalized MSE   0.1577 | val normalized MSE   0.1666, | val MAE   1.3244 | val MSE   8.1629\n"
     ]
    },
    {
     "name": "stderr",
     "output_type": "stream",
     "text": [
      "Epoch:  78%|███████████████████████████████████████████████████████▍               | 78/100 [10:15<02:51,  7.78s/epoch]"
     ]
    },
    {
     "name": "stdout",
     "output_type": "stream",
     "text": [
      "Epoch 077 | Learning rate 0.000008 | train normalized MSE   0.1582 | val normalized MSE   0.1657, | val MAE   1.3226 | val MSE   8.1193\n"
     ]
    },
    {
     "name": "stderr",
     "output_type": "stream",
     "text": [
      "Epoch:  79%|████████████████████████████████████████████████████████               | 79/100 [10:23<02:42,  7.75s/epoch]"
     ]
    },
    {
     "name": "stdout",
     "output_type": "stream",
     "text": [
      "Epoch 078 | Learning rate 0.000008 | train normalized MSE   0.1580 | val normalized MSE   0.1651, | val MAE   1.3205 | val MSE   8.0911\n"
     ]
    },
    {
     "name": "stderr",
     "output_type": "stream",
     "text": [
      "Epoch:  80%|████████████████████████████████████████████████████████▊              | 80/100 [10:31<02:35,  7.75s/epoch]"
     ]
    },
    {
     "name": "stdout",
     "output_type": "stream",
     "text": [
      "Epoch 079 | Learning rate 0.000008 | train normalized MSE   0.1576 | val normalized MSE   0.1652, | val MAE   1.3172 | val MSE   8.0965\n"
     ]
    },
    {
     "name": "stderr",
     "output_type": "stream",
     "text": [
      "Epoch:  81%|█████████████████████████████████████████████████████████▌             | 81/100 [10:38<02:27,  7.76s/epoch]"
     ]
    },
    {
     "name": "stdout",
     "output_type": "stream",
     "text": [
      "Epoch 080 | Learning rate 0.000008 | train normalized MSE   0.1576 | val normalized MSE   0.1659, | val MAE   1.3208 | val MSE   8.1286\n"
     ]
    },
    {
     "name": "stderr",
     "output_type": "stream",
     "text": [
      "Epoch:  82%|██████████████████████████████████████████████████████████▏            | 82/100 [10:46<02:20,  7.78s/epoch]"
     ]
    },
    {
     "name": "stdout",
     "output_type": "stream",
     "text": [
      "Epoch 081 | Learning rate 0.000008 | train normalized MSE   0.1575 | val normalized MSE   0.1655, | val MAE   1.3173 | val MSE   8.1083\n"
     ]
    },
    {
     "name": "stderr",
     "output_type": "stream",
     "text": [
      "Epoch:  83%|██████████████████████████████████████████████████████████▉            | 83/100 [10:54<02:12,  7.77s/epoch]"
     ]
    },
    {
     "name": "stdout",
     "output_type": "stream",
     "text": [
      "Epoch 082 | Learning rate 0.000004 | train normalized MSE   0.1581 | val normalized MSE   0.1652, | val MAE   1.3175 | val MSE   8.0957\n"
     ]
    },
    {
     "name": "stderr",
     "output_type": "stream",
     "text": [
      "Epoch:  84%|███████████████████████████████████████████████████████████▋           | 84/100 [11:02<02:04,  7.81s/epoch]"
     ]
    },
    {
     "name": "stdout",
     "output_type": "stream",
     "text": [
      "Epoch 083 | Learning rate 0.000004 | train normalized MSE   0.1571 | val normalized MSE   0.1651, | val MAE   1.3154 | val MSE   8.0921\n"
     ]
    },
    {
     "name": "stderr",
     "output_type": "stream",
     "text": [
      "Epoch:  85%|████████████████████████████████████████████████████████████▎          | 85/100 [11:10<01:56,  7.77s/epoch]"
     ]
    },
    {
     "name": "stdout",
     "output_type": "stream",
     "text": [
      "Epoch 084 | Learning rate 0.000004 | train normalized MSE   0.1568 | val normalized MSE   0.1652, | val MAE   1.3161 | val MSE   8.0944\n"
     ]
    },
    {
     "name": "stderr",
     "output_type": "stream",
     "text": [
      "Epoch:  86%|█████████████████████████████████████████████████████████████          | 86/100 [11:18<01:49,  7.81s/epoch]"
     ]
    },
    {
     "name": "stdout",
     "output_type": "stream",
     "text": [
      "Epoch 085 | Learning rate 0.000004 | train normalized MSE   0.1573 | val normalized MSE   0.1651, | val MAE   1.3153 | val MSE   8.0915\n"
     ]
    },
    {
     "name": "stderr",
     "output_type": "stream",
     "text": [
      "Epoch:  87%|█████████████████████████████████████████████████████████████▊         | 87/100 [11:26<01:42,  7.86s/epoch]"
     ]
    },
    {
     "name": "stdout",
     "output_type": "stream",
     "text": [
      "Epoch 086 | Learning rate 0.000002 | train normalized MSE   0.1568 | val normalized MSE   0.1653, | val MAE   1.3163 | val MSE   8.1009\n"
     ]
    },
    {
     "name": "stderr",
     "output_type": "stream",
     "text": [
      "Epoch:  88%|██████████████████████████████████████████████████████████████▍        | 88/100 [11:33<01:34,  7.88s/epoch]"
     ]
    },
    {
     "name": "stdout",
     "output_type": "stream",
     "text": [
      "Epoch 087 | Learning rate 0.000002 | train normalized MSE   0.1583 | val normalized MSE   0.1653, | val MAE   1.3147 | val MSE   8.1000\n"
     ]
    },
    {
     "name": "stderr",
     "output_type": "stream",
     "text": [
      "Epoch:  89%|███████████████████████████████████████████████████████████████▏       | 89/100 [11:41<01:25,  7.81s/epoch]"
     ]
    },
    {
     "name": "stdout",
     "output_type": "stream",
     "text": [
      "Epoch 088 | Learning rate 0.000002 | train normalized MSE   0.1566 | val normalized MSE   0.1652, | val MAE   1.3142 | val MSE   8.0952\n"
     ]
    },
    {
     "name": "stderr",
     "output_type": "stream",
     "text": [
      "Epoch:  90%|███████████████████████████████████████████████████████████████▉       | 90/100 [11:49<01:18,  7.83s/epoch]"
     ]
    },
    {
     "name": "stdout",
     "output_type": "stream",
     "text": [
      "Epoch 089 | Learning rate 0.000002 | train normalized MSE   0.1578 | val normalized MSE   0.1653, | val MAE   1.3157 | val MSE   8.1006\n"
     ]
    },
    {
     "name": "stderr",
     "output_type": "stream",
     "text": [
      "Epoch:  91%|████████████████████████████████████████████████████████████████▌      | 91/100 [11:57<01:10,  7.81s/epoch]"
     ]
    },
    {
     "name": "stdout",
     "output_type": "stream",
     "text": [
      "Epoch 090 | Learning rate 0.000001 | train normalized MSE   0.1585 | val normalized MSE   0.1654, | val MAE   1.3158 | val MSE   8.1029\n"
     ]
    },
    {
     "name": "stderr",
     "output_type": "stream",
     "text": [
      "Epoch:  92%|█████████████████████████████████████████████████████████████████▎     | 92/100 [12:04<01:01,  7.72s/epoch]"
     ]
    },
    {
     "name": "stdout",
     "output_type": "stream",
     "text": [
      "Epoch 091 | Learning rate 0.000001 | train normalized MSE   0.1567 | val normalized MSE   0.1654, | val MAE   1.3160 | val MSE   8.1051\n"
     ]
    },
    {
     "name": "stderr",
     "output_type": "stream",
     "text": [
      "Epoch:  93%|██████████████████████████████████████████████████████████████████     | 93/100 [12:12<00:53,  7.65s/epoch]"
     ]
    },
    {
     "name": "stdout",
     "output_type": "stream",
     "text": [
      "Epoch 092 | Learning rate 0.000001 | train normalized MSE   0.1575 | val normalized MSE   0.1654, | val MAE   1.3164 | val MSE   8.1041\n"
     ]
    },
    {
     "name": "stderr",
     "output_type": "stream",
     "text": [
      "Epoch:  94%|██████████████████████████████████████████████████████████████████▋    | 94/100 [12:19<00:45,  7.62s/epoch]"
     ]
    },
    {
     "name": "stdout",
     "output_type": "stream",
     "text": [
      "Epoch 093 | Learning rate 0.000001 | train normalized MSE   0.1562 | val normalized MSE   0.1654, | val MAE   1.3162 | val MSE   8.1040\n"
     ]
    },
    {
     "name": "stderr",
     "output_type": "stream",
     "text": [
      "Epoch:  95%|███████████████████████████████████████████████████████████████████▍   | 95/100 [12:27<00:38,  7.66s/epoch]"
     ]
    },
    {
     "name": "stdout",
     "output_type": "stream",
     "text": [
      "Epoch 094 | Learning rate 0.000000 | train normalized MSE   0.1562 | val normalized MSE   0.1654, | val MAE   1.3159 | val MSE   8.1025\n"
     ]
    },
    {
     "name": "stderr",
     "output_type": "stream",
     "text": [
      "Epoch:  96%|████████████████████████████████████████████████████████████████████▏  | 96/100 [12:35<00:30,  7.65s/epoch]"
     ]
    },
    {
     "name": "stdout",
     "output_type": "stream",
     "text": [
      "Epoch 095 | Learning rate 0.000000 | train normalized MSE   0.1578 | val normalized MSE   0.1654, | val MAE   1.3160 | val MSE   8.1036\n"
     ]
    },
    {
     "name": "stderr",
     "output_type": "stream",
     "text": [
      "Epoch:  97%|████████████████████████████████████████████████████████████████████▊  | 97/100 [12:42<00:22,  7.65s/epoch]"
     ]
    },
    {
     "name": "stdout",
     "output_type": "stream",
     "text": [
      "Epoch 096 | Learning rate 0.000000 | train normalized MSE   0.1576 | val normalized MSE   0.1654, | val MAE   1.3160 | val MSE   8.1032\n"
     ]
    },
    {
     "name": "stderr",
     "output_type": "stream",
     "text": [
      "Epoch:  98%|█████████████████████████████████████████████████████████████████████▌ | 98/100 [12:50<00:15,  7.73s/epoch]"
     ]
    },
    {
     "name": "stdout",
     "output_type": "stream",
     "text": [
      "Epoch 097 | Learning rate 0.000000 | train normalized MSE   0.1575 | val normalized MSE   0.1653, | val MAE   1.3158 | val MSE   8.1018\n"
     ]
    },
    {
     "name": "stderr",
     "output_type": "stream",
     "text": [
      "Epoch:  99%|██████████████████████████████████████████████████████████████████████▎| 99/100 [12:58<00:07,  7.73s/epoch]"
     ]
    },
    {
     "name": "stdout",
     "output_type": "stream",
     "text": [
      "Epoch 098 | Learning rate 0.000000 | train normalized MSE   0.1579 | val normalized MSE   0.1653, | val MAE   1.3159 | val MSE   8.1009\n"
     ]
    },
    {
     "name": "stderr",
     "output_type": "stream",
     "text": [
      "Epoch: 100%|██████████████████████████████████████████████████████████████████████| 100/100 [13:06<00:00,  7.86s/epoch]"
     ]
    },
    {
     "name": "stdout",
     "output_type": "stream",
     "text": [
      "Epoch 099 | Learning rate 0.000000 | train normalized MSE   0.1568 | val normalized MSE   0.1653, | val MAE   1.3158 | val MSE   8.1009\n"
     ]
    },
    {
     "name": "stderr",
     "output_type": "stream",
     "text": [
      "\n"
     ]
    }
   ],
   "source": [
    "train_mae_list = []\n",
    "val_mae_list = []\n",
    "epoch_list = []\n",
    "\n",
    "for epoch in tqdm.tqdm(range(100), desc=\"Epoch\", unit=\"epoch\"):\n",
    "    # ---- Training ----\n",
    "    model.train()\n",
    "    train_loss = 0\n",
    "    train_mae = 0\n",
    "    \n",
    "    for batch in train_dataloader:\n",
    "        batch = batch.to(device)\n",
    "        pred = model(batch)\n",
    "        y = batch.y.view(batch.num_graphs, 60, 2)\n",
    "        loss = criterion(pred, y)\n",
    "        optimizer.zero_grad()\n",
    "        loss.backward()\n",
    "        torch.nn.utils.clip_grad_norm_(model.parameters(), 5.0)\n",
    "        optimizer.step()\n",
    "        train_loss += loss.item()\n",
    "        \n",
    "        with torch.no_grad():\n",
    "            pred_un = pred * batch.scale.view(-1, 1, 1) + batch.origin.unsqueeze(1)\n",
    "            y_un = y * batch.scale.view(-1, 1, 1) + batch.origin.unsqueeze(1)\n",
    "            train_mae += nn.L1Loss()(pred_un, y_un).item()\n",
    "\n",
    "    # ---- Validation ----\n",
    "    model.eval()\n",
    "    val_loss = 0\n",
    "    val_mae = 0\n",
    "    val_mse = 0\n",
    "    with torch.no_grad():\n",
    "        for batch in val_dataloader:\n",
    "            batch = batch.to(device)\n",
    "            pred = model(batch)\n",
    "            y = batch.y.view(batch.num_graphs, 60, 2)\n",
    "            val_loss += criterion(pred, y).item()\n",
    "\n",
    "            # show MAE and MSE with unnormalized data\n",
    "            pred = pred * batch.scale.view(-1, 1, 1) + batch.origin.unsqueeze(1)\n",
    "            y = y * batch.scale.view(-1, 1, 1) + batch.origin.unsqueeze(1)\n",
    "            val_mae += nn.L1Loss()(pred, y).item()\n",
    "            val_mse += nn.MSELoss()(pred, y).item()\n",
    "    \n",
    "    train_loss /= len(train_dataloader)\n",
    "    val_loss /= len(val_dataloader)\n",
    "    val_mae /= len(val_dataloader)\n",
    "    val_mse /= len(val_dataloader)\n",
    "    scheduler.step(val_loss)\n",
    "    # scheduler.step(val_loss)\n",
    "    \n",
    "    tqdm.tqdm.write(f\"Epoch {epoch:03d} | Learning rate {optimizer.param_groups[0]['lr']:.6f} | train normalized MSE {train_loss:8.4f} | val normalized MSE {val_loss:8.4f}, | val MAE {val_mae:8.4f} | val MSE {val_mse:8.4f}\")\n",
    "    train_mae_list.append(train_mae)\n",
    "    val_mae_list.append(val_mae)\n",
    "    epoch_list.append(epoch)\n",
    "\n",
    "    if val_loss < best_val_loss - 1e-3:\n",
    "        best_val_loss = val_loss\n",
    "        no_improvement = 0\n",
    "        torch.save(model.state_dict(), \"best_model.pt\")\n",
    "    else:\n",
    "        no_improvement += 1\n",
    "        if no_improvement >= early_stopping_patience:\n",
    "            print(\"Early stop!\")\n",
    "            break"
   ]
  },
  {
   "cell_type": "code",
   "execution_count": 14,
   "metadata": {},
   "outputs": [
    {
     "name": "stderr",
     "output_type": "stream",
     "text": [
      "C:\\Users\\Xuanhao Zhu\\AppData\\Local\\Temp\\ipykernel_13928\\1958007710.py:5: FutureWarning: You are using `torch.load` with `weights_only=False` (the current default value), which uses the default pickle module implicitly. It is possible to construct malicious pickle data which will execute arbitrary code during unpickling (See https://github.com/pytorch/pytorch/blob/main/SECURITY.md#untrusted-models for more details). In a future release, the default value for `weights_only` will be flipped to `True`. This limits the functions that could be executed during unpickling. Arbitrary objects will no longer be allowed to be loaded via this mode unless they are explicitly allowlisted by the user via `torch.serialization.add_safe_globals`. We recommend you start setting `weights_only=True` for any use case where you don't have full control of the loaded file. Please open an issue on GitHub for any issues related to this experimental feature.\n",
      "  best_model = torch.load(\"best_model.pt\")\n"
     ]
    }
   ],
   "source": [
    "test_dataset = TrajectoryDatasetTest(test_data, scale=scale)\n",
    "test_loader = DataLoader(test_dataset, batch_size=32, shuffle=False,\n",
    "                         collate_fn=lambda xs: Batch.from_data_list(xs))\n",
    "\n",
    "best_model = torch.load(\"best_model.pt\")\n",
    "# model = LinearRegressionModel().to(device)\n",
    "# model = MLP(50 * 50 * 6, 60 * 2).to(device)\n",
    "model = LSTM().to(device)\n",
    "\n",
    "model.load_state_dict(best_model)\n",
    "model.eval()\n",
    "\n",
    "pred_list = []\n",
    "with torch.no_grad():\n",
    "    for batch in test_loader:\n",
    "        batch = batch.to(device)\n",
    "        pred_norm = model(batch)\n",
    "        \n",
    "        # Reshape the prediction to (N, 60, 2)\n",
    "        pred = pred_norm * batch.scale.view(-1,1,1) + batch.origin.unsqueeze(1)\n",
    "        pred_list.append(pred.cpu().numpy())\n",
    "pred_list = np.concatenate(pred_list, axis=0)  # (N,60,2)\n",
    "pred_output = pred_list.reshape(-1, 2)  # (N*60, 2)\n",
    "output_df = pd.DataFrame(pred_output, columns=['x', 'y'])\n",
    "output_df.index.name = 'index'\n",
    "output_df.to_csv('submission.csv', index=True)"
   ]
  },
  {
   "cell_type": "code",
   "execution_count": 15,
   "metadata": {},
   "outputs": [
    {
     "data": {
      "image/png": "[encoded data removed]",
      "text/plain": [
       "<Figure size 1000x500 with 1 Axes>"
      ]
     },
     "metadata": {},
     "output_type": "display_data"
    }
   ],
   "source": [
    "import matplotlib.pyplot as plt\n",
    "\n",
    "plt.figure(figsize=(10, 5))\n",
    "plt.plot(epoch_list, val_mae_list, marker='o', label='Training MAE')\n",
    "plt.title('Training MAE over Epochs')\n",
    "plt.xlabel('Epoch')\n",
    "plt.ylabel('Mean Absolute Error (MAE)')\n",
    "plt.grid(True)\n",
    "plt.legend()\n",
    "plt.tight_layout()\n",
    "plt.show()\n"
   ]
  },
  {
   "cell_type": "code",
   "execution_count": 16,
   "metadata": {},
   "outputs": [],
   "source": [
    "import matplotlib.pyplot as plt\n",
    "import random\n",
    "\n",
    "def plot_trajectory(ax, pred, gt, title=None):\n",
    "    ax.cla()\n",
    "    # Plot the predicted future trajectory\n",
    "    ax.plot(pred[0,:60,0], pred[0,:60,1], color='red', label='Predicted Future Trajectory')\n",
    "    \n",
    "    # Plot the ground truth future trajectory\n",
    "    ax.plot(gt[0,:60,0], gt[0,:60,1], color='blue', label='Ground Truth Future Trajectory')\n",
    "    \n",
    "    # Optionally set axis limits, labels, and title.\n",
    "    x_max = max(pred[..., 0].max(), gt[..., 0].max())\n",
    "    x_min = min(pred[..., 0].min(), gt[..., 0].min())\n",
    "    y_max = max(pred[..., 1].max(), gt[..., 1].max())\n",
    "    y_min = min(pred[..., 1].min(), gt[..., 1].min())\n",
    "    \n",
    "    ax.set_xlim(x_min, x_max)\n",
    "    ax.set_ylim(y_min, y_max)\n",
    "    ax.set_xlabel('X-axis')\n",
    "    ax.set_ylabel('Y-axis')\n",
    "    \n",
    "    if title:\n",
    "        ax.set_title(title)\n",
    "    \n",
    "    ax.legend()\n",
    "    ax.grid(True, linestyle='--', alpha=0.7)"
   ]
  },
  {
   "cell_type": "code",
   "execution_count": 18,
   "metadata": {},
   "outputs": [
    {
     "name": "stderr",
     "output_type": "stream",
     "text": [
      "C:\\Users\\Xuanhao Zhu\\AppData\\Local\\Temp\\ipykernel_13928\\296312515.py:1: FutureWarning: You are using `torch.load` with `weights_only=False` (the current default value), which uses the default pickle module implicitly. It is possible to construct malicious pickle data which will execute arbitrary code during unpickling (See https://github.com/pytorch/pytorch/blob/main/SECURITY.md#untrusted-models for more details). In a future release, the default value for `weights_only` will be flipped to `True`. This limits the functions that could be executed during unpickling. Arbitrary objects will no longer be allowed to be loaded via this mode unless they are explicitly allowlisted by the user via `torch.serialization.add_safe_globals`. We recommend you start setting `weights_only=True` for any use case where you don't have full control of the loaded file. Please open an issue on GitHub for any issues related to this experimental feature.\n",
      "  model.load_state_dict(torch.load(\"best_model.pt\"))\n"
     ]
    },
    {
     "data": {
      "image/png": "[encoded data removed]",
      "text/plain": [
       "<Figure size 2000x1000 with 4 Axes>"
      ]
     },
     "metadata": {},
     "output_type": "display_data"
    }
   ],
   "source": [
    "model.load_state_dict(torch.load(\"best_model.pt\"))\n",
    "model.eval()\n",
    "\n",
    "# randomly select 4 samples from the validation set\n",
    "random_indices = random.sample(range(len(val_dataset)), 4)\n",
    "fig, axes = plt.subplots(2, 2, figsize=(20, 10))\n",
    "axes = axes.flatten()  # Flatten the array to iterate single axes objects\n",
    "\n",
    "for i, idx in enumerate(random_indices):\n",
    "    batch = val_dataset[idx]\n",
    "    batch = batch.to(device)\n",
    "    pred = model(batch)\n",
    "    gt = torch.stack(torch.split(batch.y, 60, dim=0), dim=0)\n",
    "\n",
    "    pred = pred * batch.scale.view(-1, 1, 1) + batch.origin.unsqueeze(1)\n",
    "    gt = torch.stack(torch.split(batch.y, 60, dim=0), dim=0) * batch.scale.view(-1, 1, 1) + batch.origin.unsqueeze(1)\n",
    "\n",
    "    pred = pred.detach().cpu().numpy()\n",
    "    gt = gt.detach().cpu().numpy()\n",
    "\n",
    "    # Plot the trajectory using the i-th axis\n",
    "    plot_trajectory(axes[i], pred, gt, title=f\"Sample {idx}\")\n",
    "\n",
    "plt.show()"
   ]
  }
 ],
 "metadata": {
  "kernelspec": {
   "display_name": "torchK",
   "language": "python",
   "name": "torchk"
  },
  "language_info": {
   "codemirror_mode": {
    "name": "ipython",
    "version": 3
   },
   "file_extension": ".py",
   "mimetype": "text/x-python",
   "name": "python",
   "nbconvert_exporter": "python",
   "pygments_lexer": "ipython3",
   "version": "3.12.7"
  }
 },
 "nbformat": 4,
 "nbformat_minor": 2
}
