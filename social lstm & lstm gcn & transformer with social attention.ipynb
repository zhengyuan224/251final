{
  "cells": [
    {
      "cell_type": "code",
      "source": [
        "!pip install torch_geometric"
      ],
      "metadata": {
        "id": "KhzU2H8K5CqA",
        "outputId": "7f7dbfde-9988-4bd8-9981-1d04aa0e4e1f",
        "colab": {
          "base_uri": "https://localhost:8080/"
        }
      },
      "execution_count": 1,
      "outputs": [
        {
          "output_type": "stream",
          "name": "stdout",
          "text": [
            "Collecting torch_geometric\n",
            "  Downloading torch_geometric-2.6.1-py3-none-any.whl.metadata (63 kB)\n",
            "\u001b[?25l     \u001b[90m━━━━━━━━━━━━━━━━━━━━━━━━━━━━━━━━━━━━━━━━\u001b[0m \u001b[32m0.0/63.1 kB\u001b[0m \u001b[31m?\u001b[0m eta \u001b[36m-:--:--\u001b[0m\r\u001b[2K     \u001b[90m━━━━━━━━━━━━━━━━━━━━━━━━━━━━━━━━━━━━━━━━\u001b[0m \u001b[32m63.1/63.1 kB\u001b[0m \u001b[31m2.0 MB/s\u001b[0m eta \u001b[36m0:00:00\u001b[0m\n",
            "\u001b[?25hRequirement already satisfied: aiohttp in /usr/local/lib/python3.11/dist-packages (from torch_geometric) (3.11.15)\n",
            "Requirement already satisfied: fsspec in /usr/local/lib/python3.11/dist-packages (from torch_geometric) (2025.3.2)\n",
            "Requirement already satisfied: jinja2 in /usr/local/lib/python3.11/dist-packages (from torch_geometric) (3.1.6)\n",
            "Requirement already satisfied: numpy in /usr/local/lib/python3.11/dist-packages (from torch_geometric) (2.0.2)\n",
            "Requirement already satisfied: psutil>=5.8.0 in /usr/local/lib/python3.11/dist-packages (from torch_geometric) (5.9.5)\n",
            "Requirement already satisfied: pyparsing in /usr/local/lib/python3.11/dist-packages (from torch_geometric) (3.2.3)\n",
            "Requirement already satisfied: requests in /usr/local/lib/python3.11/dist-packages (from torch_geometric) (2.32.3)\n",
            "Requirement already satisfied: tqdm in /usr/local/lib/python3.11/dist-packages (from torch_geometric) (4.67.1)\n",
            "Requirement already satisfied: aiohappyeyeballs>=2.3.0 in /usr/local/lib/python3.11/dist-packages (from aiohttp->torch_geometric) (2.6.1)\n",
            "Requirement already satisfied: aiosignal>=1.1.2 in /usr/local/lib/python3.11/dist-packages (from aiohttp->torch_geometric) (1.3.2)\n",
            "Requirement already satisfied: attrs>=17.3.0 in /usr/local/lib/python3.11/dist-packages (from aiohttp->torch_geometric) (25.3.0)\n",
            "Requirement already satisfied: frozenlist>=1.1.1 in /usr/local/lib/python3.11/dist-packages (from aiohttp->torch_geometric) (1.6.0)\n",
            "Requirement already satisfied: multidict<7.0,>=4.5 in /usr/local/lib/python3.11/dist-packages (from aiohttp->torch_geometric) (6.4.4)\n",
            "Requirement already satisfied: propcache>=0.2.0 in /usr/local/lib/python3.11/dist-packages (from aiohttp->torch_geometric) (0.3.1)\n",
            "Requirement already satisfied: yarl<2.0,>=1.17.0 in /usr/local/lib/python3.11/dist-packages (from aiohttp->torch_geometric) (1.20.0)\n",
            "Requirement already satisfied: MarkupSafe>=2.0 in /usr/local/lib/python3.11/dist-packages (from jinja2->torch_geometric) (3.0.2)\n",
            "Requirement already satisfied: charset-normalizer<4,>=2 in /usr/local/lib/python3.11/dist-packages (from requests->torch_geometric) (3.4.2)\n",
            "Requirement already satisfied: idna<4,>=2.5 in /usr/local/lib/python3.11/dist-packages (from requests->torch_geometric) (3.10)\n",
            "Requirement already satisfied: urllib3<3,>=1.21.1 in /usr/local/lib/python3.11/dist-packages (from requests->torch_geometric) (2.4.0)\n",
            "Requirement already satisfied: certifi>=2017.4.17 in /usr/local/lib/python3.11/dist-packages (from requests->torch_geometric) (2025.4.26)\n",
            "Downloading torch_geometric-2.6.1-py3-none-any.whl (1.1 MB)\n",
            "\u001b[2K   \u001b[90m━━━━━━━━━━━━━━━━━━━━━━━━━━━━━━━━━━━━━━━━\u001b[0m \u001b[32m1.1/1.1 MB\u001b[0m \u001b[31m19.9 MB/s\u001b[0m eta \u001b[36m0:00:00\u001b[0m\n",
            "\u001b[?25hInstalling collected packages: torch_geometric\n",
            "Successfully installed torch_geometric-2.6.1\n"
          ]
        }
      ]
    },
    {
      "cell_type": "code",
      "execution_count": 1,
      "metadata": {
        "id": "J9ZN-6ZrtS6i"
      },
      "outputs": [],
      "source": [
        "import numpy as np\n",
        "import pandas as pd\n",
        "import matplotlib.pyplot as plt\n",
        "import random\n",
        "\n",
        "import torch\n",
        "import torch.nn as nn\n",
        "import torch.optim as optim\n",
        "from torch.utils.data import Dataset, DataLoader\n",
        "from torch_geometric.data import Data, Batch\n",
        "import tqdm"
      ]
    },
    {
      "cell_type": "code",
      "source": [
        "from google.colab import drive\n",
        "drive.mount('/content/drive')"
      ],
      "metadata": {
        "colab": {
          "base_uri": "https://localhost:8080/"
        },
        "id": "dovOUdJB5jZi",
        "outputId": "9a22dcfa-6976-4b16-b07a-ea9d24a02560"
      },
      "execution_count": 4,
      "outputs": [
        {
          "output_type": "stream",
          "name": "stdout",
          "text": [
            "Mounted at /content/drive\n"
          ]
        }
      ]
    },
    {
      "cell_type": "code",
      "execution_count": 2,
      "metadata": {
        "id": "hwdo5q7hL33X"
      },
      "outputs": [],
      "source": [
        "train_npz = np.load('/content/drive/MyDrive/Colab Notebooks/train.npz')\n",
        "train_data = train_npz['data']\n",
        "test_npz  = np.load('/content/drive/MyDrive/Colab Notebooks/test_input.npz')\n",
        "test_data  = test_npz['data']"
      ]
    },
    {
      "cell_type": "code",
      "execution_count": 3,
      "metadata": {
        "colab": {
          "base_uri": "https://localhost:8080/"
        },
        "id": "1OTm7boTL55t",
        "outputId": "768d7c14-826b-4e8d-94ac-476f56751cbd"
      },
      "outputs": [
        {
          "output_type": "stream",
          "name": "stdout",
          "text": [
            "(10000, 50, 110, 6) (2100, 50, 50, 6)\n"
          ]
        }
      ],
      "source": [
        "print(train_data.shape, test_data.shape)\n",
        "\n",
        "# Split once for later use\n",
        "X_train = train_data[..., :50, :]\n",
        "Y_train = train_data[:, 0, 50:, :2]"
      ]
    },
    {
      "cell_type": "code",
      "execution_count": 4,
      "metadata": {
        "id": "c9jgd0FO5AKt"
      },
      "outputs": [],
      "source": [
        "class TrajectoryDatasetTrain(Dataset):\n",
        "    def __init__(self, data, scale=10.0, augment=True):\n",
        "        \"\"\"\n",
        "        data: Shape (N, 50, 110, 6) Training data\n",
        "        scale: Scale for normalization (suggested to use 10.0 for Argoverse 2 data)\n",
        "        augment: Whether to apply data augmentation (only for training)\n",
        "        \"\"\"\n",
        "        self.data = data\n",
        "        self.scale = scale\n",
        "        self.augment = augment\n",
        "\n",
        "    def __len__(self):\n",
        "        return len(self.data)\n",
        "\n",
        "    def __getitem__(self, idx):\n",
        "        scene = self.data[idx]\n",
        "        # Getting 50 historical timestamps and 60 future timestamps\n",
        "        hist = scene[:, :50, :].copy()    # (agents=50, time_seq=50, 6)\n",
        "        future = torch.tensor(scene[0, 50:, :2].copy(), dtype=torch.float32)  # (60, 2)\n",
        "\n",
        "        # Data augmentation(only for training)\n",
        "        if self.augment:\n",
        "            if np.random.rand() < 0.5:\n",
        "                theta = np.random.uniform(-np.pi, np.pi)\n",
        "                R = np.array([[np.cos(theta), -np.sin(theta)],\n",
        "                              [np.sin(theta),  np.cos(theta)]], dtype=np.float32)\n",
        "                # Rotate the historical trajectory and future trajectory\n",
        "                hist[..., :2] = hist[..., :2] @ R\n",
        "                hist[..., 2:4] = hist[..., 2:4] @ R\n",
        "                future = future @ R\n",
        "            if np.random.rand() < 0.5:\n",
        "                hist[..., 0] *= -1\n",
        "                hist[..., 2] *= -1\n",
        "                future[:, 0] *= -1\n",
        "\n",
        "        # Use the last timeframe of the historical trajectory as the origin\n",
        "        origin = hist[0, 49, :2].copy()  # (2,)\n",
        "        hist[..., :2] = hist[..., :2] - origin\n",
        "        future = future - origin\n",
        "\n",
        "        # Normalize the historical trajectory and future trajectory\n",
        "        hist[..., :4] = hist[..., :4] / self.scale\n",
        "        future = future / self.scale\n",
        "\n",
        "        data_item = Data(\n",
        "            x=torch.tensor(hist, dtype=torch.float32),\n",
        "            y=future.type(torch.float32),\n",
        "            origin=torch.tensor(origin, dtype=torch.float32).unsqueeze(0),\n",
        "            scale=torch.tensor(self.scale, dtype=torch.float32),\n",
        "        )\n",
        "\n",
        "        return data_item\n",
        "\n",
        "\n",
        "class TrajectoryDatasetTest(Dataset):\n",
        "    def __init__(self, data, scale=10.0):\n",
        "        \"\"\"\n",
        "        data: Shape (N, 50, 110, 6) Testing data\n",
        "        scale: Scale for normalization (suggested to use 10.0 for Argoverse 2 data)\n",
        "        \"\"\"\n",
        "        self.data = data\n",
        "        self.scale = scale\n",
        "\n",
        "    def __len__(self):\n",
        "        return len(self.data)\n",
        "\n",
        "    def __getitem__(self, idx):\n",
        "        # Testing data only contains historical trajectory\n",
        "        scene = self.data[idx]  # (50, 50, 6)\n",
        "        hist = scene.copy()\n",
        "\n",
        "        origin = hist[0, 49, :2].copy()\n",
        "        hist[..., :2] = hist[..., :2] - origin\n",
        "        hist[..., :4] = hist[..., :4] / self.scale\n",
        "\n",
        "        data_item = Data(\n",
        "            x=torch.tensor(hist, dtype=torch.float32),\n",
        "            origin=torch.tensor(origin, dtype=torch.float32).unsqueeze(0),\n",
        "            scale=torch.tensor(self.scale, dtype=torch.float32),\n",
        "        )\n",
        "        return data_item"
      ]
    },
    {
      "cell_type": "code",
      "execution_count": 36,
      "metadata": {
        "id": "6dWeXRhTMAST"
      },
      "outputs": [],
      "source": [
        "# angel correct\n",
        "# class TrajectoryDatasetTrain(Dataset):\n",
        "#     def __init__(self, data, scale=10.0, augment=True):\n",
        "#         self.data = data\n",
        "#         self.scale = scale\n",
        "#         self.augment = augment\n",
        "\n",
        "#     def __len__(self):\n",
        "#         return len(self.data)\n",
        "\n",
        "#     def __getitem__(self, idx):\n",
        "#         scene = self.data[idx]\n",
        "#         hist = scene[:, :50, :].copy()    # (agents=50, time_seq=50, 6)\n",
        "#         future = torch.tensor(scene[0, 50:, :2].copy(), dtype=torch.float32)  # (60, 2)\n",
        "\n",
        "#         # Data augmentation(only for training)\n",
        "#         if self.augment:\n",
        "#             if np.random.rand() < 0.5:\n",
        "#                 theta = np.random.uniform(-np.pi, np.pi)\n",
        "#                 R = np.array([[np.cos(theta), -np.sin(theta)],\n",
        "#                               [np.sin(theta),  np.cos(theta)]], dtype=np.float32)\n",
        "#                 # Rotate the historical trajectory and future trajectory\n",
        "#                 hist[..., :2] = hist[..., :2] @ R\n",
        "#                 hist[..., 2:4] = hist[..., 2:4] @ R\n",
        "#                 future = future @ R\n",
        "#             if np.random.rand() < 0.5:\n",
        "#                 hist[..., 0] *= -1\n",
        "#                 hist[..., 2] *= -1\n",
        "#                 future[:, 0] *= -1\n",
        "\n",
        "#         # Use the last timeframe of the historical trajectory as the origin\n",
        "#         origin = hist[0, 49, :2].copy()  # (2,)\n",
        "#         hist[..., :2] = hist[..., :2] - origin\n",
        "#         future = future - origin\n",
        "\n",
        "#         # =========== 关键：将所有agent对齐ego agent的朝向 =============\n",
        "#         # 使用ego最后一帧的速度方向作为朝向参考\n",
        "#         ego_v = hist[0, 49, 2:4].copy()  # (vx, vy)\n",
        "#         norm = np.linalg.norm(ego_v)\n",
        "#         if norm > 1e-3:\n",
        "#             theta = np.arctan2(ego_v[1], ego_v[0])   # ego当前朝向角（相对x轴）\n",
        "#             R = np.array([\n",
        "#                 [np.cos(-theta), -np.sin(-theta)],\n",
        "#                 [np.sin(-theta),  np.cos(-theta)]\n",
        "#             ], dtype=np.float32)\n",
        "#             hist[..., :2] = hist[..., :2] @ R\n",
        "#             hist[..., 2:4] = hist[..., 2:4] @ R\n",
        "#             future = future @ R\n",
        "#         # ============================================================\n",
        "\n",
        "#         # Normalize the historical trajectory and future trajectory\n",
        "#         hist[..., :4] = hist[..., :4] / self.scale\n",
        "#         future = future / self.scale\n",
        "\n",
        "#         data_item = Data(\n",
        "#             x=torch.tensor(hist, dtype=torch.float32),\n",
        "#             y=future.type(torch.float32),\n",
        "#             origin=torch.tensor(origin, dtype=torch.float32).unsqueeze(0),\n",
        "#             scale=torch.tensor(self.scale, dtype=torch.float32),\n",
        "#         )\n",
        "\n",
        "#         return data_item\n",
        "\n",
        "\n",
        "# class TrajectoryDatasetTest(Dataset):\n",
        "#     def __init__(self, data, scale=10.0):\n",
        "#         \"\"\"\n",
        "#         data: shape (N, 50, 110, 6)\n",
        "#         scale: normalization factor (default: 10.0)\n",
        "#         \"\"\"\n",
        "#         self.data = data\n",
        "#         self.scale = scale\n",
        "\n",
        "#     def __len__(self):\n",
        "#         return len(self.data)\n",
        "\n",
        "#     def __getitem__(self, idx):\n",
        "#         scene = self.data[idx]  # (50, 110, 6)\n",
        "#         hist = scene[:, :50, :].copy()  # 只取前 50 帧历史，shape (50, 50, 6)\n",
        "\n",
        "#         # 平移使 ego agent 的最后一帧作为原点\n",
        "#         origin = hist[0, 49, :2].copy()\n",
        "#         hist[..., :2] -= origin\n",
        "\n",
        "#         # 对齐朝向：让 ego agent 的速度方向对齐 x 轴\n",
        "#         theta = 0.0\n",
        "#         ego_v = hist[0, 49, 2:4].copy()\n",
        "#         norm = np.linalg.norm(ego_v)\n",
        "#         if norm > 1e-3:\n",
        "#             theta = np.arctan2(ego_v[1], ego_v[0])\n",
        "#             R = np.array([\n",
        "#                 [np.cos(-theta), -np.sin(-theta)],\n",
        "#                 [np.sin(-theta),  np.cos(-theta)]\n",
        "#             ], dtype=np.float32)\n",
        "#             hist[..., :2] = hist[..., :2] @ R\n",
        "#             hist[..., 2:4] = hist[..., 2:4] @ R\n",
        "\n",
        "#         # 缩放归一化\n",
        "#         hist[..., :4] /= self.scale\n",
        "\n",
        "#         # 构造 PyG 图结构（单个样本 = 一整张图）\n",
        "#         data_item = Data(\n",
        "#             x=torch.tensor(hist, dtype=torch.float32),  # (50, 50, 6)\n",
        "#             origin=torch.tensor(origin, dtype=torch.float32).unsqueeze(0),  # (1, 2)\n",
        "#             scale=torch.tensor(self.scale, dtype=torch.float32),\n",
        "#             theta=torch.tensor(theta, dtype=torch.float32).unsqueeze(0)  # (1,)\n",
        "#         )\n",
        "#         return data_item"
      ]
    },
    {
      "cell_type": "code",
      "execution_count": 5,
      "metadata": {
        "colab": {
          "base_uri": "https://localhost:8080/"
        },
        "id": "IivKtPwGMAsk",
        "outputId": "1ec5d986-4512-4062-b9fb-28b8f5ca908f"
      },
      "outputs": [
        {
          "output_type": "stream",
          "name": "stdout",
          "text": [
            "Using CUDA GPU\n"
          ]
        }
      ],
      "source": [
        "torch.manual_seed(251)\n",
        "np.random.seed(42)\n",
        "\n",
        "scale = 1.0\n",
        "\n",
        "N = len(train_data)\n",
        "val_size = int(0.1 * N)\n",
        "train_size = N - val_size\n",
        "\n",
        "train_dataset = TrajectoryDatasetTrain(train_data[:train_size], scale=scale, augment=True)\n",
        "val_dataset = TrajectoryDatasetTrain(train_data[train_size:], scale=scale, augment=False)\n",
        "\n",
        "train_dataloader = DataLoader(train_dataset, batch_size=32, shuffle=True, collate_fn=lambda x: Batch.from_data_list(x))\n",
        "val_dataloader = DataLoader(val_dataset, batch_size=32, shuffle=False, collate_fn=lambda x: Batch.from_data_list(x))\n",
        "\n",
        "# Set device for training speedup\n",
        "if torch.backends.mps.is_available():\n",
        "    device = torch.device('mps')\n",
        "    print(\"Using Apple Silicon GPU\")\n",
        "elif torch.cuda.is_available():\n",
        "    device = torch.device('cuda')\n",
        "    print(\"Using CUDA GPU\")\n",
        "else:\n",
        "    device = torch.device('cpu')"
      ]
    },
    {
      "cell_type": "code",
      "execution_count": 6,
      "metadata": {
        "id": "Cv6sfXTP5AKw"
      },
      "outputs": [],
      "source": [
        "import torch"
      ]
    },
    {
      "cell_type": "code",
      "execution_count": 7,
      "metadata": {
        "id": "Um5WJuToMDvS"
      },
      "outputs": [],
      "source": [
        "class LSTM(nn.Module):\n",
        "    def __init__(self, input_dim=6, hidden_dim=128, output_dim=60 * 2):\n",
        "        super(LSTM, self).__init__()\n",
        "        self.lstm = nn.LSTM(input_dim, hidden_dim, batch_first=True)\n",
        "        self.fc = nn.Linear(hidden_dim, output_dim)\n",
        "\n",
        "    def forward(self, data):\n",
        "        x = data.x\n",
        "        x= x.reshape(-1, 50, 50, 6)  # (batch_size, num_agents, seq_len, input_dim)\n",
        "        x = x[:, 0, :, :] # Only Consider ego agent index 0\n",
        "\n",
        "        lstm_out, _ = self.lstm(x)\n",
        "        # lstm_out is of shape (batch_size, seq_len, hidden_dim) and we want the last time step output\n",
        "        out = self.fc(lstm_out[:, -1, :])\n",
        "        return out.view(-1, 60, 2)"
      ]
    },
    {
      "cell_type": "code",
      "execution_count": 7,
      "metadata": {
        "id": "XBj3G1-2CJ1Z"
      },
      "outputs": [],
      "source": []
    },
    {
      "cell_type": "code",
      "execution_count": 8,
      "metadata": {
        "colab": {
          "base_uri": "https://localhost:8080/"
        },
        "id": "gnVDnLBJMNgq",
        "outputId": "5f73a729-3a6f-439d-fbc3-9e352f4984c6"
      },
      "outputs": [
        {
          "output_type": "stream",
          "name": "stdout",
          "text": [
            "torch.Size([4, 60, 2])\n"
          ]
        }
      ],
      "source": [
        "import torch\n",
        "import torch.nn as nn\n",
        "import torch.nn.functional as F\n",
        "from torch_geometric.data import Data, Batch\n",
        "from torch_geometric.nn import GCNConv\n",
        "\n",
        "class ImprovedLSTM_GCN(nn.Module):\n",
        "    \"\"\"\n",
        "    升级版 LSTM+GCN 轨迹预测器\n",
        "    \"\"\"\n",
        "    def __init__(self, input_dim=6, hidden_dim=128, pred_len=60, gcn_out_dim=32, dropout=0.1):\n",
        "        super().__init__()\n",
        "        self.hidden_dim = hidden_dim\n",
        "        self.pred_len = pred_len\n",
        "\n",
        "        # LSTM用于ego历史序列\n",
        "        self.lstm = nn.LSTM(\n",
        "            input_dim,\n",
        "            hidden_dim,\n",
        "            num_layers=2,\n",
        "            batch_first=True,\n",
        "            dropout=dropout\n",
        "        )\n",
        "\n",
        "        # GCN用于全局最后一帧邻居关系\n",
        "        self.gcn1 = GCNConv(input_dim, 32)\n",
        "        self.gcn2 = GCNConv(32, gcn_out_dim)\n",
        "\n",
        "        # 全连接\n",
        "        self.fc = nn.Sequential(\n",
        "            nn.Linear(hidden_dim + gcn_out_dim, hidden_dim),\n",
        "            nn.ReLU(),\n",
        "            nn.Dropout(dropout),\n",
        "            nn.Linear(hidden_dim, pred_len * 2)\n",
        "        )\n",
        "\n",
        "    def build_graph_batch(self, x_last, max_neighbor_dist=None):\n",
        "        \"\"\"\n",
        "        x_last: (B, N, 6)\n",
        "        Returns a PyG Batch object.\n",
        "        \"\"\"\n",
        "        B, N, C = x_last.shape\n",
        "        data_list = []\n",
        "        for b in range(B):\n",
        "            node_feat = x_last[b]  # (N,6)\n",
        "            src, dst = [], []\n",
        "            for i in range(N):\n",
        "                for j in range(N):\n",
        "                    if i == j:\n",
        "                        continue\n",
        "                    # 可选：只连距离小于阈值的邻居\n",
        "                    if max_neighbor_dist is not None:\n",
        "                        pos_i = node_feat[i, :2]\n",
        "                        pos_j = node_feat[j, :2]\n",
        "                        dist = torch.norm(pos_i - pos_j)\n",
        "                        if dist > max_neighbor_dist:\n",
        "                            continue\n",
        "                    src.append(i)\n",
        "                    dst.append(j)\n",
        "            edge_index = torch.tensor([src, dst], dtype=torch.long, device=node_feat.device)\n",
        "            data = Data(x=node_feat, edge_index=edge_index)\n",
        "            data_list.append(data)\n",
        "        batch = Batch.from_data_list(data_list)\n",
        "        return batch\n",
        "\n",
        "    def forward(self, data):\n",
        "        \"\"\"\n",
        "        data.x: (B*A, T, D) or (B, A, T, D)\n",
        "        data.num_graphs: B\n",
        "        \"\"\"\n",
        "        x = data.x\n",
        "        B = data.num_graphs\n",
        "\n",
        "        # —— 1) 恢复成 (B, A=50, T, D) ——\n",
        "        x = x.view(B, 50, 50, -1)  # (B,50,50,D)\n",
        "\n",
        "        # —— 2) 提取 ego agent 的历史序列 ——\n",
        "        ego_hist = x[:, 0, :, :]  # (B, 50, D)\n",
        "\n",
        "        # —— 3) LSTM 编码（两层）——\n",
        "        lstm_out, _ = self.lstm(ego_hist)       # (B,50,hidden_dim)\n",
        "        last_hidden = lstm_out[:, -1, :]        # (B, hidden_dim)\n",
        "\n",
        "        # —— 4) 用GCN建图对最后一帧所有agent聚合 ——\n",
        "        x_last = x[:, :, -1, :6]  # (B,50,6)\n",
        "        graph_batch = self.build_graph_batch(x_last)\n",
        "        h = F.relu(self.gcn1(graph_batch.x, graph_batch.edge_index))\n",
        "        h = self.gcn2(h, graph_batch.edge_index)\n",
        "        h_nodes = h.view(B, 50, -1)  # (B, 50, gcn_out_dim)\n",
        "        ego_gcn = h_nodes[:, 0, :]   # (B, gcn_out_dim)\n",
        "\n",
        "\n",
        "\n",
        "        # —— 5) 拼接 LSTM 和 GCN ——\n",
        "\n",
        "        fusion = torch.cat([last_hidden, ego_gcn], dim=-1)  # (B, hidden_dim+gcn_out_dim)\n",
        "\n",
        "\n",
        "        # —— 6) 全连接预测 ——\n",
        "        out = self.fc(fusion)                      # (B, pred_len*2)\n",
        "        out = out.view(B, self.pred_len, 2)        # (B, pred_len, 2)\n",
        "        return out\n",
        "# ====== 测试用例 ======\n",
        "if __name__ == \"__main__\":\n",
        "    class DummyData:\n",
        "        pass\n",
        "\n",
        "    B, A, T, D = 4, 50, 50, 6\n",
        "    pred_len = 60\n",
        "    torch.manual_seed(123)\n",
        "    dummy = DummyData()\n",
        "    dummy.x = torch.randn(B*A, T, D)\n",
        "    dummy.num_graphs = B\n",
        "\n",
        "    model = ImprovedLSTM_GCN(input_dim=6, hidden_dim=128, pred_len=pred_len, gcn_out_dim=32, dropout=0.1)\n",
        "    output = model(dummy)\n",
        "    print(output.shape)  # (B, pred_len, 2)"
      ]
    },
    {
      "cell_type": "code",
      "execution_count": 12,
      "metadata": {
        "id": "gc0KI5JeMGY3"
      },
      "outputs": [],
      "source": [
        "#without angel correct\n",
        "model = ImprovedLSTM_GCN(\n",
        "    input_dim=6,\n",
        "    hidden_dim=256,\n",
        "    pred_len=60,\n",
        "    dropout=0.1,\n",
        ").to(device)\n",
        "\n",
        "\n",
        "optimizer = optim.Adam(model.parameters(), lr=1e-3, weight_decay=1e-5)\n",
        "scheduler = optim.lr_scheduler.StepLR(optimizer, step_size=20, gamma=0.75) # You can try different schedulers\n",
        "early_stopping_patience = 10\n",
        "best_val_loss = float('inf')\n",
        "no_improvement = 0\n",
        "criterion = nn.MSELoss()"
      ]
    },
    {
      "cell_type": "code",
      "execution_count": 13,
      "metadata": {
        "colab": {
          "base_uri": "https://localhost:8080/"
        },
        "id": "5yWHbGxUMHn6",
        "outputId": "1be44564-7ab2-415c-aa9d-7477685a8385"
      },
      "outputs": [
        {
          "output_type": "stream",
          "name": "stderr",
          "text": [
            "\rEpoch:   0%|          | 0/100 [00:00<?, ?epoch/s]<ipython-input-7-2409732783>:30: DeprecationWarning: __array_wrap__ must accept context and return_scalar arguments (positionally) in the future. (Deprecated NumPy 2.0)\n",
            "  future = future @ R\n",
            "<ipython-input-7-2409732783>:39: DeprecationWarning: __array_wrap__ must accept context and return_scalar arguments (positionally) in the future. (Deprecated NumPy 2.0)\n",
            "  future = future - origin\n",
            "Epoch:   1%|          | 1/100 [00:16<26:50, 16.27s/epoch]"
          ]
        },
        {
          "output_type": "stream",
          "name": "stdout",
          "text": [
            "Epoch 000 | Learning rate 0.001000 | train normalized MSE 170.9074 | val normalized MSE  60.5126, | val MAE   4.8404 | val MSE  60.5126\n"
          ]
        },
        {
          "output_type": "stream",
          "name": "stderr",
          "text": [
            "Epoch:   2%|▏         | 2/100 [00:31<25:15, 15.47s/epoch]"
          ]
        },
        {
          "output_type": "stream",
          "name": "stdout",
          "text": [
            "Epoch 001 | Learning rate 0.001000 | train normalized MSE  34.8927 | val normalized MSE  29.9572, | val MAE   3.2393 | val MSE  29.9572\n"
          ]
        },
        {
          "output_type": "stream",
          "name": "stderr",
          "text": [
            "Epoch:   3%|▎         | 3/100 [00:46<24:35, 15.21s/epoch]"
          ]
        },
        {
          "output_type": "stream",
          "name": "stdout",
          "text": [
            "Epoch 002 | Learning rate 0.001000 | train normalized MSE  23.4613 | val normalized MSE  16.9462, | val MAE   2.2581 | val MSE  16.9462\n"
          ]
        },
        {
          "output_type": "stream",
          "name": "stderr",
          "text": [
            "Epoch:   4%|▍         | 4/100 [01:01<24:11, 15.12s/epoch]"
          ]
        },
        {
          "output_type": "stream",
          "name": "stdout",
          "text": [
            "Epoch 003 | Learning rate 0.001000 | train normalized MSE  19.1280 | val normalized MSE  15.1718, | val MAE   2.0964 | val MSE  15.1718\n"
          ]
        },
        {
          "output_type": "stream",
          "name": "stderr",
          "text": [
            "Epoch:   5%|▌         | 5/100 [01:16<23:52, 15.08s/epoch]"
          ]
        },
        {
          "output_type": "stream",
          "name": "stdout",
          "text": [
            "Epoch 004 | Learning rate 0.001000 | train normalized MSE  18.0514 | val normalized MSE  16.4666, | val MAE   2.3713 | val MSE  16.4666\n"
          ]
        },
        {
          "output_type": "stream",
          "name": "stderr",
          "text": [
            "Epoch:   6%|▌         | 6/100 [01:31<23:39, 15.10s/epoch]"
          ]
        },
        {
          "output_type": "stream",
          "name": "stdout",
          "text": [
            "Epoch 005 | Learning rate 0.001000 | train normalized MSE  16.8153 | val normalized MSE  14.4466, | val MAE   2.1053 | val MSE  14.4466\n"
          ]
        },
        {
          "output_type": "stream",
          "name": "stderr",
          "text": [
            "Epoch:   7%|▋         | 7/100 [01:46<23:20, 15.06s/epoch]"
          ]
        },
        {
          "output_type": "stream",
          "name": "stdout",
          "text": [
            "Epoch 006 | Learning rate 0.001000 | train normalized MSE  16.1434 | val normalized MSE  13.8521, | val MAE   2.0102 | val MSE  13.8521\n"
          ]
        },
        {
          "output_type": "stream",
          "name": "stderr",
          "text": [
            "Epoch:   8%|▊         | 8/100 [02:01<23:02, 15.03s/epoch]"
          ]
        },
        {
          "output_type": "stream",
          "name": "stdout",
          "text": [
            "Epoch 007 | Learning rate 0.001000 | train normalized MSE  15.5910 | val normalized MSE  14.9744, | val MAE   2.1371 | val MSE  14.9744\n"
          ]
        },
        {
          "output_type": "stream",
          "name": "stderr",
          "text": [
            "Epoch:   9%|▉         | 9/100 [02:16<22:48, 15.03s/epoch]"
          ]
        },
        {
          "output_type": "stream",
          "name": "stdout",
          "text": [
            "Epoch 008 | Learning rate 0.001000 | train normalized MSE  15.5527 | val normalized MSE  13.0326, | val MAE   1.8985 | val MSE  13.0326\n"
          ]
        },
        {
          "output_type": "stream",
          "name": "stderr",
          "text": [
            "Epoch:  10%|█         | 10/100 [02:31<22:34, 15.05s/epoch]"
          ]
        },
        {
          "output_type": "stream",
          "name": "stdout",
          "text": [
            "Epoch 009 | Learning rate 0.001000 | train normalized MSE  14.8115 | val normalized MSE  13.1999, | val MAE   1.9755 | val MSE  13.1999\n"
          ]
        },
        {
          "output_type": "stream",
          "name": "stderr",
          "text": [
            "Epoch:  11%|█         | 11/100 [02:46<22:18, 15.04s/epoch]"
          ]
        },
        {
          "output_type": "stream",
          "name": "stdout",
          "text": [
            "Epoch 010 | Learning rate 0.001000 | train normalized MSE  14.6474 | val normalized MSE  12.6197, | val MAE   1.9484 | val MSE  12.6196\n"
          ]
        },
        {
          "output_type": "stream",
          "name": "stderr",
          "text": [
            "Epoch:  12%|█▏        | 12/100 [03:01<22:03, 15.04s/epoch]"
          ]
        },
        {
          "output_type": "stream",
          "name": "stdout",
          "text": [
            "Epoch 011 | Learning rate 0.001000 | train normalized MSE  14.4516 | val normalized MSE  12.1046, | val MAE   1.9231 | val MSE  12.1046\n"
          ]
        },
        {
          "output_type": "stream",
          "name": "stderr",
          "text": [
            "Epoch:  13%|█▎        | 13/100 [03:16<21:47, 15.02s/epoch]"
          ]
        },
        {
          "output_type": "stream",
          "name": "stdout",
          "text": [
            "Epoch 012 | Learning rate 0.001000 | train normalized MSE  14.1813 | val normalized MSE  12.0891, | val MAE   1.8531 | val MSE  12.0890\n"
          ]
        },
        {
          "output_type": "stream",
          "name": "stderr",
          "text": [
            "Epoch:  14%|█▍        | 14/100 [03:31<21:30, 15.01s/epoch]"
          ]
        },
        {
          "output_type": "stream",
          "name": "stdout",
          "text": [
            "Epoch 013 | Learning rate 0.001000 | train normalized MSE  14.2669 | val normalized MSE  12.4216, | val MAE   1.8634 | val MSE  12.4216\n"
          ]
        },
        {
          "output_type": "stream",
          "name": "stderr",
          "text": [
            "Epoch:  15%|█▌        | 15/100 [03:46<21:15, 15.01s/epoch]"
          ]
        },
        {
          "output_type": "stream",
          "name": "stdout",
          "text": [
            "Epoch 014 | Learning rate 0.001000 | train normalized MSE  13.6424 | val normalized MSE  11.4618, | val MAE   1.7979 | val MSE  11.4618\n"
          ]
        },
        {
          "output_type": "stream",
          "name": "stderr",
          "text": [
            "Epoch:  16%|█▌        | 16/100 [04:01<21:01, 15.02s/epoch]"
          ]
        },
        {
          "output_type": "stream",
          "name": "stdout",
          "text": [
            "Epoch 015 | Learning rate 0.001000 | train normalized MSE  13.4688 | val normalized MSE  12.2315, | val MAE   1.8633 | val MSE  12.2315\n"
          ]
        },
        {
          "output_type": "stream",
          "name": "stderr",
          "text": [
            "Epoch:  17%|█▋        | 17/100 [04:16<20:46, 15.02s/epoch]"
          ]
        },
        {
          "output_type": "stream",
          "name": "stdout",
          "text": [
            "Epoch 016 | Learning rate 0.001000 | train normalized MSE  13.3648 | val normalized MSE  11.6649, | val MAE   1.8798 | val MSE  11.6649\n"
          ]
        },
        {
          "output_type": "stream",
          "name": "stderr",
          "text": [
            "Epoch:  18%|█▊        | 18/100 [04:31<20:30, 15.01s/epoch]"
          ]
        },
        {
          "output_type": "stream",
          "name": "stdout",
          "text": [
            "Epoch 017 | Learning rate 0.001000 | train normalized MSE  13.3631 | val normalized MSE  10.6332, | val MAE   1.7143 | val MSE  10.6332\n"
          ]
        },
        {
          "output_type": "stream",
          "name": "stderr",
          "text": [
            "Epoch:  19%|█▉        | 19/100 [04:46<20:15, 15.00s/epoch]"
          ]
        },
        {
          "output_type": "stream",
          "name": "stdout",
          "text": [
            "Epoch 018 | Learning rate 0.001000 | train normalized MSE  13.0165 | val normalized MSE  12.4433, | val MAE   1.9511 | val MSE  12.4433\n"
          ]
        },
        {
          "output_type": "stream",
          "name": "stderr",
          "text": [
            "Epoch:  20%|██        | 20/100 [05:01<19:59, 15.00s/epoch]"
          ]
        },
        {
          "output_type": "stream",
          "name": "stdout",
          "text": [
            "Epoch 019 | Learning rate 0.000750 | train normalized MSE  13.0456 | val normalized MSE  10.8398, | val MAE   1.7412 | val MSE  10.8398\n"
          ]
        },
        {
          "output_type": "stream",
          "name": "stderr",
          "text": [
            "Epoch:  21%|██        | 21/100 [05:16<19:44, 14.99s/epoch]"
          ]
        },
        {
          "output_type": "stream",
          "name": "stdout",
          "text": [
            "Epoch 020 | Learning rate 0.000750 | train normalized MSE  12.4311 | val normalized MSE  10.6840, | val MAE   1.7316 | val MSE  10.6840\n"
          ]
        },
        {
          "output_type": "stream",
          "name": "stderr",
          "text": [
            "Epoch:  22%|██▏       | 22/100 [05:31<19:29, 15.00s/epoch]"
          ]
        },
        {
          "output_type": "stream",
          "name": "stdout",
          "text": [
            "Epoch 021 | Learning rate 0.000750 | train normalized MSE  12.0708 | val normalized MSE  10.2082, | val MAE   1.6575 | val MSE  10.2082\n"
          ]
        },
        {
          "output_type": "stream",
          "name": "stderr",
          "text": [
            "Epoch:  23%|██▎       | 23/100 [05:46<19:12, 14.97s/epoch]"
          ]
        },
        {
          "output_type": "stream",
          "name": "stdout",
          "text": [
            "Epoch 022 | Learning rate 0.000750 | train normalized MSE  11.9364 | val normalized MSE  10.1090, | val MAE   1.6624 | val MSE  10.1090\n"
          ]
        },
        {
          "output_type": "stream",
          "name": "stderr",
          "text": [
            "Epoch:  24%|██▍       | 24/100 [06:01<18:56, 14.95s/epoch]"
          ]
        },
        {
          "output_type": "stream",
          "name": "stdout",
          "text": [
            "Epoch 023 | Learning rate 0.000750 | train normalized MSE  11.7786 | val normalized MSE  10.5625, | val MAE   1.7262 | val MSE  10.5625\n"
          ]
        },
        {
          "output_type": "stream",
          "name": "stderr",
          "text": [
            "Epoch:  25%|██▌       | 25/100 [06:16<18:41, 14.95s/epoch]"
          ]
        },
        {
          "output_type": "stream",
          "name": "stdout",
          "text": [
            "Epoch 024 | Learning rate 0.000750 | train normalized MSE  11.5391 | val normalized MSE  10.3477, | val MAE   1.7224 | val MSE  10.3477\n"
          ]
        },
        {
          "output_type": "stream",
          "name": "stderr",
          "text": [
            "Epoch:  26%|██▌       | 26/100 [06:31<18:30, 15.00s/epoch]"
          ]
        },
        {
          "output_type": "stream",
          "name": "stdout",
          "text": [
            "Epoch 025 | Learning rate 0.000750 | train normalized MSE  11.4640 | val normalized MSE  10.1881, | val MAE   1.6306 | val MSE  10.1881\n"
          ]
        },
        {
          "output_type": "stream",
          "name": "stderr",
          "text": [
            "Epoch:  27%|██▋       | 27/100 [06:46<18:14, 14.99s/epoch]"
          ]
        },
        {
          "output_type": "stream",
          "name": "stdout",
          "text": [
            "Epoch 026 | Learning rate 0.000750 | train normalized MSE  11.4005 | val normalized MSE  10.3097, | val MAE   1.6454 | val MSE  10.3097\n"
          ]
        },
        {
          "output_type": "stream",
          "name": "stderr",
          "text": [
            "Epoch:  28%|██▊       | 28/100 [07:01<18:00, 15.01s/epoch]"
          ]
        },
        {
          "output_type": "stream",
          "name": "stdout",
          "text": [
            "Epoch 027 | Learning rate 0.000750 | train normalized MSE  11.2130 | val normalized MSE  10.4064, | val MAE   1.6578 | val MSE  10.4064\n"
          ]
        },
        {
          "output_type": "stream",
          "name": "stderr",
          "text": [
            "Epoch:  29%|██▉       | 29/100 [07:16<17:45, 15.00s/epoch]"
          ]
        },
        {
          "output_type": "stream",
          "name": "stdout",
          "text": [
            "Epoch 028 | Learning rate 0.000750 | train normalized MSE  11.2589 | val normalized MSE  10.1848, | val MAE   1.6811 | val MSE  10.1848\n"
          ]
        },
        {
          "output_type": "stream",
          "name": "stderr",
          "text": [
            "Epoch:  30%|███       | 30/100 [07:31<17:29, 14.99s/epoch]"
          ]
        },
        {
          "output_type": "stream",
          "name": "stdout",
          "text": [
            "Epoch 029 | Learning rate 0.000750 | train normalized MSE  11.2187 | val normalized MSE   9.8738, | val MAE   1.5446 | val MSE   9.8738\n"
          ]
        },
        {
          "output_type": "stream",
          "name": "stderr",
          "text": [
            "Epoch:  31%|███       | 31/100 [07:46<17:14, 14.99s/epoch]"
          ]
        },
        {
          "output_type": "stream",
          "name": "stdout",
          "text": [
            "Epoch 030 | Learning rate 0.000750 | train normalized MSE  11.2597 | val normalized MSE   9.4084, | val MAE   1.5248 | val MSE   9.4084\n"
          ]
        },
        {
          "output_type": "stream",
          "name": "stderr",
          "text": [
            "Epoch:  32%|███▏      | 32/100 [08:01<16:58, 14.98s/epoch]"
          ]
        },
        {
          "output_type": "stream",
          "name": "stdout",
          "text": [
            "Epoch 031 | Learning rate 0.000750 | train normalized MSE  11.0842 | val normalized MSE   9.7266, | val MAE   1.5723 | val MSE   9.7266\n"
          ]
        },
        {
          "output_type": "stream",
          "name": "stderr",
          "text": [
            "Epoch:  33%|███▎      | 33/100 [08:16<16:45, 15.01s/epoch]"
          ]
        },
        {
          "output_type": "stream",
          "name": "stdout",
          "text": [
            "Epoch 032 | Learning rate 0.000750 | train normalized MSE  10.7069 | val normalized MSE   9.3960, | val MAE   1.4877 | val MSE   9.3959\n"
          ]
        },
        {
          "output_type": "stream",
          "name": "stderr",
          "text": [
            "Epoch:  34%|███▍      | 34/100 [08:31<16:29, 15.00s/epoch]"
          ]
        },
        {
          "output_type": "stream",
          "name": "stdout",
          "text": [
            "Epoch 033 | Learning rate 0.000750 | train normalized MSE  10.9230 | val normalized MSE  10.4352, | val MAE   1.6280 | val MSE  10.4352\n"
          ]
        },
        {
          "output_type": "stream",
          "name": "stderr",
          "text": [
            "Epoch:  35%|███▌      | 35/100 [08:46<16:14, 15.00s/epoch]"
          ]
        },
        {
          "output_type": "stream",
          "name": "stdout",
          "text": [
            "Epoch 034 | Learning rate 0.000750 | train normalized MSE  10.8443 | val normalized MSE   9.2376, | val MAE   1.5971 | val MSE   9.2376\n"
          ]
        },
        {
          "output_type": "stream",
          "name": "stderr",
          "text": [
            "Epoch:  36%|███▌      | 36/100 [09:01<16:00, 15.01s/epoch]"
          ]
        },
        {
          "output_type": "stream",
          "name": "stdout",
          "text": [
            "Epoch 035 | Learning rate 0.000750 | train normalized MSE  10.8814 | val normalized MSE   9.5558, | val MAE   1.6005 | val MSE   9.5558\n"
          ]
        },
        {
          "output_type": "stream",
          "name": "stderr",
          "text": [
            "Epoch:  37%|███▋      | 37/100 [09:16<15:46, 15.02s/epoch]"
          ]
        },
        {
          "output_type": "stream",
          "name": "stdout",
          "text": [
            "Epoch 036 | Learning rate 0.000750 | train normalized MSE  10.8347 | val normalized MSE   9.2593, | val MAE   1.5209 | val MSE   9.2593\n"
          ]
        },
        {
          "output_type": "stream",
          "name": "stderr",
          "text": [
            "Epoch:  38%|███▊      | 38/100 [09:31<15:30, 15.00s/epoch]"
          ]
        },
        {
          "output_type": "stream",
          "name": "stdout",
          "text": [
            "Epoch 037 | Learning rate 0.000750 | train normalized MSE  10.7054 | val normalized MSE   9.4171, | val MAE   1.5361 | val MSE   9.4171\n"
          ]
        },
        {
          "output_type": "stream",
          "name": "stderr",
          "text": [
            "Epoch:  39%|███▉      | 39/100 [09:46<15:14, 14.99s/epoch]"
          ]
        },
        {
          "output_type": "stream",
          "name": "stdout",
          "text": [
            "Epoch 038 | Learning rate 0.000750 | train normalized MSE  10.5242 | val normalized MSE  10.4179, | val MAE   1.6984 | val MSE  10.4179\n"
          ]
        },
        {
          "output_type": "stream",
          "name": "stderr",
          "text": [
            "Epoch:  40%|████      | 40/100 [10:01<14:58, 14.98s/epoch]"
          ]
        },
        {
          "output_type": "stream",
          "name": "stdout",
          "text": [
            "Epoch 039 | Learning rate 0.000563 | train normalized MSE  10.6550 | val normalized MSE   9.7334, | val MAE   1.5870 | val MSE   9.7334\n"
          ]
        },
        {
          "output_type": "stream",
          "name": "stderr",
          "text": [
            "Epoch:  41%|████      | 41/100 [10:16<14:44, 14.99s/epoch]"
          ]
        },
        {
          "output_type": "stream",
          "name": "stdout",
          "text": [
            "Epoch 040 | Learning rate 0.000563 | train normalized MSE  10.1452 | val normalized MSE   9.2418, | val MAE   1.5144 | val MSE   9.2418\n"
          ]
        },
        {
          "output_type": "stream",
          "name": "stderr",
          "text": [
            "Epoch:  42%|████▏     | 42/100 [10:31<14:30, 15.01s/epoch]"
          ]
        },
        {
          "output_type": "stream",
          "name": "stdout",
          "text": [
            "Epoch 041 | Learning rate 0.000563 | train normalized MSE  10.0213 | val normalized MSE   9.4892, | val MAE   1.5183 | val MSE   9.4892\n"
          ]
        },
        {
          "output_type": "stream",
          "name": "stderr",
          "text": [
            "Epoch:  43%|████▎     | 43/100 [10:46<14:15, 15.01s/epoch]"
          ]
        },
        {
          "output_type": "stream",
          "name": "stdout",
          "text": [
            "Epoch 042 | Learning rate 0.000563 | train normalized MSE  10.0847 | val normalized MSE   9.1077, | val MAE   1.4978 | val MSE   9.1077\n"
          ]
        },
        {
          "output_type": "stream",
          "name": "stderr",
          "text": [
            "Epoch:  44%|████▍     | 44/100 [11:01<14:00, 15.01s/epoch]"
          ]
        },
        {
          "output_type": "stream",
          "name": "stdout",
          "text": [
            "Epoch 043 | Learning rate 0.000563 | train normalized MSE   9.9737 | val normalized MSE   9.3561, | val MAE   1.5053 | val MSE   9.3561\n"
          ]
        },
        {
          "output_type": "stream",
          "name": "stderr",
          "text": [
            "Epoch:  45%|████▌     | 45/100 [11:16<13:45, 15.01s/epoch]"
          ]
        },
        {
          "output_type": "stream",
          "name": "stdout",
          "text": [
            "Epoch 044 | Learning rate 0.000563 | train normalized MSE   9.8341 | val normalized MSE   9.1630, | val MAE   1.4927 | val MSE   9.1630\n"
          ]
        },
        {
          "output_type": "stream",
          "name": "stderr",
          "text": [
            "Epoch:  46%|████▌     | 46/100 [11:31<13:31, 15.02s/epoch]"
          ]
        },
        {
          "output_type": "stream",
          "name": "stdout",
          "text": [
            "Epoch 045 | Learning rate 0.000563 | train normalized MSE   9.8983 | val normalized MSE   9.2921, | val MAE   1.5119 | val MSE   9.2921\n"
          ]
        },
        {
          "output_type": "stream",
          "name": "stderr",
          "text": [
            "Epoch:  47%|████▋     | 47/100 [11:46<13:16, 15.03s/epoch]"
          ]
        },
        {
          "output_type": "stream",
          "name": "stdout",
          "text": [
            "Epoch 046 | Learning rate 0.000563 | train normalized MSE   9.8338 | val normalized MSE   8.9558, | val MAE   1.4975 | val MSE   8.9558\n"
          ]
        },
        {
          "output_type": "stream",
          "name": "stderr",
          "text": [
            "Epoch:  48%|████▊     | 48/100 [12:01<13:00, 15.01s/epoch]"
          ]
        },
        {
          "output_type": "stream",
          "name": "stdout",
          "text": [
            "Epoch 047 | Learning rate 0.000563 | train normalized MSE   9.7293 | val normalized MSE   8.5051, | val MAE   1.4246 | val MSE   8.5051\n"
          ]
        },
        {
          "output_type": "stream",
          "name": "stderr",
          "text": [
            "Epoch:  49%|████▉     | 49/100 [12:16<12:45, 15.00s/epoch]"
          ]
        },
        {
          "output_type": "stream",
          "name": "stdout",
          "text": [
            "Epoch 048 | Learning rate 0.000563 | train normalized MSE   9.8451 | val normalized MSE   9.5873, | val MAE   1.5271 | val MSE   9.5873\n"
          ]
        },
        {
          "output_type": "stream",
          "name": "stderr",
          "text": [
            "Epoch:  50%|█████     | 50/100 [12:31<12:29, 14.99s/epoch]"
          ]
        },
        {
          "output_type": "stream",
          "name": "stdout",
          "text": [
            "Epoch 049 | Learning rate 0.000563 | train normalized MSE   9.7873 | val normalized MSE   9.3437, | val MAE   1.5185 | val MSE   9.3436\n"
          ]
        },
        {
          "output_type": "stream",
          "name": "stderr",
          "text": [
            "Epoch:  51%|█████     | 51/100 [12:46<12:15, 15.01s/epoch]"
          ]
        },
        {
          "output_type": "stream",
          "name": "stdout",
          "text": [
            "Epoch 050 | Learning rate 0.000563 | train normalized MSE   9.5801 | val normalized MSE   8.9445, | val MAE   1.4424 | val MSE   8.9445\n"
          ]
        },
        {
          "output_type": "stream",
          "name": "stderr",
          "text": [
            "Epoch:  52%|█████▏    | 52/100 [13:01<12:06, 15.13s/epoch]"
          ]
        },
        {
          "output_type": "stream",
          "name": "stdout",
          "text": [
            "Epoch 051 | Learning rate 0.000563 | train normalized MSE   9.7773 | val normalized MSE   8.4136, | val MAE   1.4553 | val MSE   8.4136\n"
          ]
        },
        {
          "output_type": "stream",
          "name": "stderr",
          "text": [
            "Epoch:  53%|█████▎    | 53/100 [13:17<11:55, 15.22s/epoch]"
          ]
        },
        {
          "output_type": "stream",
          "name": "stdout",
          "text": [
            "Epoch 052 | Learning rate 0.000563 | train normalized MSE   9.5489 | val normalized MSE   8.9405, | val MAE   1.5242 | val MSE   8.9405\n"
          ]
        },
        {
          "output_type": "stream",
          "name": "stderr",
          "text": [
            "Epoch:  54%|█████▍    | 54/100 [13:32<11:42, 15.27s/epoch]"
          ]
        },
        {
          "output_type": "stream",
          "name": "stdout",
          "text": [
            "Epoch 053 | Learning rate 0.000563 | train normalized MSE   9.6607 | val normalized MSE   8.3759, | val MAE   1.4144 | val MSE   8.3759\n"
          ]
        },
        {
          "output_type": "stream",
          "name": "stderr",
          "text": [
            "Epoch:  55%|█████▌    | 55/100 [13:47<11:29, 15.32s/epoch]"
          ]
        },
        {
          "output_type": "stream",
          "name": "stdout",
          "text": [
            "Epoch 054 | Learning rate 0.000563 | train normalized MSE   9.4085 | val normalized MSE   8.5277, | val MAE   1.3821 | val MSE   8.5277\n"
          ]
        },
        {
          "output_type": "stream",
          "name": "stderr",
          "text": [
            "Epoch:  56%|█████▌    | 56/100 [14:03<11:15, 15.35s/epoch]"
          ]
        },
        {
          "output_type": "stream",
          "name": "stdout",
          "text": [
            "Epoch 055 | Learning rate 0.000563 | train normalized MSE   9.5519 | val normalized MSE   8.7604, | val MAE   1.4882 | val MSE   8.7604\n"
          ]
        },
        {
          "output_type": "stream",
          "name": "stderr",
          "text": [
            "Epoch:  57%|█████▋    | 57/100 [14:18<11:00, 15.36s/epoch]"
          ]
        },
        {
          "output_type": "stream",
          "name": "stdout",
          "text": [
            "Epoch 056 | Learning rate 0.000563 | train normalized MSE   9.4420 | val normalized MSE   8.6859, | val MAE   1.4193 | val MSE   8.6859\n"
          ]
        },
        {
          "output_type": "stream",
          "name": "stderr",
          "text": [
            "Epoch:  58%|█████▊    | 58/100 [14:34<10:47, 15.42s/epoch]"
          ]
        },
        {
          "output_type": "stream",
          "name": "stdout",
          "text": [
            "Epoch 057 | Learning rate 0.000563 | train normalized MSE   9.5504 | val normalized MSE   8.7400, | val MAE   1.4047 | val MSE   8.7400\n"
          ]
        },
        {
          "output_type": "stream",
          "name": "stderr",
          "text": [
            "Epoch:  59%|█████▉    | 59/100 [14:49<10:32, 15.44s/epoch]"
          ]
        },
        {
          "output_type": "stream",
          "name": "stdout",
          "text": [
            "Epoch 058 | Learning rate 0.000563 | train normalized MSE   9.5636 | val normalized MSE   8.8364, | val MAE   1.4556 | val MSE   8.8364\n"
          ]
        },
        {
          "output_type": "stream",
          "name": "stderr",
          "text": [
            "Epoch:  60%|██████    | 60/100 [15:05<10:17, 15.45s/epoch]"
          ]
        },
        {
          "output_type": "stream",
          "name": "stdout",
          "text": [
            "Epoch 059 | Learning rate 0.000422 | train normalized MSE   9.4348 | val normalized MSE   8.6086, | val MAE   1.4622 | val MSE   8.6086\n"
          ]
        },
        {
          "output_type": "stream",
          "name": "stderr",
          "text": [
            "Epoch:  61%|██████    | 61/100 [15:20<10:03, 15.47s/epoch]"
          ]
        },
        {
          "output_type": "stream",
          "name": "stdout",
          "text": [
            "Epoch 060 | Learning rate 0.000422 | train normalized MSE   9.2674 | val normalized MSE   8.7434, | val MAE   1.4147 | val MSE   8.7434\n"
          ]
        },
        {
          "output_type": "stream",
          "name": "stderr",
          "text": [
            "Epoch:  62%|██████▏   | 62/100 [15:36<09:48, 15.48s/epoch]"
          ]
        },
        {
          "output_type": "stream",
          "name": "stdout",
          "text": [
            "Epoch 061 | Learning rate 0.000422 | train normalized MSE   8.9580 | val normalized MSE   8.9165, | val MAE   1.4721 | val MSE   8.9165\n"
          ]
        },
        {
          "output_type": "stream",
          "name": "stderr",
          "text": [
            "Epoch:  63%|██████▎   | 63/100 [15:51<09:32, 15.46s/epoch]"
          ]
        },
        {
          "output_type": "stream",
          "name": "stdout",
          "text": [
            "Epoch 062 | Learning rate 0.000422 | train normalized MSE   9.0880 | val normalized MSE   8.5480, | val MAE   1.3855 | val MSE   8.5480\n"
          ]
        },
        {
          "output_type": "stream",
          "name": "stderr",
          "text": [
            "Epoch:  63%|██████▎   | 63/100 [16:07<09:28, 15.35s/epoch]"
          ]
        },
        {
          "output_type": "stream",
          "name": "stdout",
          "text": [
            "Epoch 063 | Learning rate 0.000422 | train normalized MSE   9.1467 | val normalized MSE   8.7322, | val MAE   1.4184 | val MSE   8.7322\n",
            "Early stop!\n"
          ]
        },
        {
          "output_type": "stream",
          "name": "stderr",
          "text": [
            "\n"
          ]
        }
      ],
      "source": [
        "for epoch in tqdm.tqdm(range(100), desc=\"Epoch\", unit=\"epoch\"):\n",
        "    # ---- Training ----\n",
        "    model.train()\n",
        "    train_loss = 0\n",
        "    for batch in train_dataloader:\n",
        "        batch = batch.to(device)\n",
        "        pred = model(batch)\n",
        "        y = batch.y.view(batch.num_graphs, 60, 2)\n",
        "        loss = criterion(pred, y)\n",
        "        optimizer.zero_grad()\n",
        "        loss.backward()\n",
        "        torch.nn.utils.clip_grad_norm_(model.parameters(), 5.0)\n",
        "        optimizer.step()\n",
        "        train_loss += loss.item()\n",
        "\n",
        "    # ---- Validation ----\n",
        "    model.eval()\n",
        "    val_loss = 0\n",
        "    val_mae = 0\n",
        "    val_mse = 0\n",
        "    with torch.no_grad():\n",
        "        for batch in val_dataloader:\n",
        "            batch = batch.to(device)\n",
        "            pred = model(batch)\n",
        "            y = batch.y.view(batch.num_graphs, 60, 2)\n",
        "            val_loss += criterion(pred, y).item()\n",
        "\n",
        "            # show MAE and MSE with unnormalized data\n",
        "            pred = pred * batch.scale.view(-1, 1, 1) + batch.origin.unsqueeze(1)\n",
        "            y = y * batch.scale.view(-1, 1, 1) + batch.origin.unsqueeze(1)\n",
        "            val_mae += nn.L1Loss()(pred, y).item()\n",
        "            val_mse += nn.MSELoss()(pred, y).item()\n",
        "\n",
        "    train_loss /= len(train_dataloader)\n",
        "    val_loss /= len(val_dataloader)\n",
        "    val_mae /= len(val_dataloader)\n",
        "    val_mse /= len(val_dataloader)\n",
        "    scheduler.step()\n",
        "    # scheduler.step(val_loss)\n",
        "\n",
        "    tqdm.tqdm.write(f\"Epoch {epoch:03d} | Learning rate {optimizer.param_groups[0]['lr']:.6f} | train normalized MSE {train_loss:8.4f} | val normalized MSE {val_loss:8.4f}, | val MAE {val_mae:8.4f} | val MSE {val_mse:8.4f}\")\n",
        "    if val_loss < best_val_loss - 1e-3:\n",
        "        best_val_loss = val_loss\n",
        "        no_improvement = 0\n",
        "        torch.save(model.state_dict(), \"best_model.pt\")\n",
        "    else:\n",
        "        no_improvement += 1\n",
        "        if no_improvement >= early_stopping_patience:\n",
        "            print(\"Early stop!\")\n",
        "            break"
      ]
    },
    {
      "cell_type": "code",
      "execution_count": 14,
      "metadata": {
        "id": "KUfD30rHMbpJ"
      },
      "outputs": [],
      "source": [
        "test_dataset = TrajectoryDatasetTest(test_data, scale=scale)\n",
        "test_loader = DataLoader(test_dataset, batch_size=32, shuffle=False,\n",
        "                         collate_fn=lambda xs: Batch.from_data_list(xs))\n",
        "\n",
        "best_model = torch.load(\"best_model.pt\")\n",
        "model = ImprovedLSTM_GCN(\n",
        "    input_dim=6,\n",
        "    hidden_dim=256,\n",
        "    pred_len=60,\n",
        "    dropout=0.1,\n",
        ").to(device)\n",
        "\n",
        "model.load_state_dict(best_model)\n",
        "model.eval()\n",
        "\n",
        "pred_list = []\n",
        "with torch.no_grad():\n",
        "    for batch in test_loader:\n",
        "        batch = batch.to(device)\n",
        "        pred_norm = model(batch)\n",
        "\n",
        "        # Reshape the prediction to (N, 60, 2)\n",
        "        pred = pred_norm * batch.scale.view(-1,1,1) + batch.origin.unsqueeze(1)\n",
        "        pred_list.append(pred.cpu().numpy())\n",
        "pred_list = np.concatenate(pred_list, axis=0)  # (N,60,2)\n",
        "pred_output = pred_list.reshape(-1, 2)  # (N*60, 2)\n",
        "output_df = pd.DataFrame(pred_output, columns=['x', 'y'])\n",
        "output_df.index.name = 'index'\n",
        "output_df.to_csv('submission.csv', index=True)"
      ]
    },
    {
      "cell_type": "code",
      "source": [
        "#with angel correct\n",
        "model = ImprovedLSTM_GCN(\n",
        "    input_dim=6,\n",
        "    hidden_dim=256,\n",
        "    pred_len=60,\n",
        "    dropout=0.1,\n",
        ").to(device)\n",
        "\n",
        "\n",
        "optimizer = optim.Adam(model.parameters(), lr=1e-3, weight_decay=1e-5)\n",
        "scheduler = optim.lr_scheduler.StepLR(optimizer, step_size=20, gamma=0.75) # You can try different schedulers\n",
        "early_stopping_patience = 10\n",
        "best_val_loss = float('inf')\n",
        "no_improvement = 0\n",
        "criterion = nn.MSELoss()"
      ],
      "metadata": {
        "id": "FDRQTLW1-oec"
      },
      "execution_count": 24,
      "outputs": []
    },
    {
      "cell_type": "code",
      "source": [
        "for epoch in tqdm.tqdm(range(100), desc=\"Epoch\", unit=\"epoch\"):\n",
        "    # ---- Training ----\n",
        "    model.train()\n",
        "    train_loss = 0\n",
        "    for batch in train_dataloader:\n",
        "        batch = batch.to(device)\n",
        "        pred = model(batch)\n",
        "        y = batch.y.view(batch.num_graphs, 60, 2)\n",
        "        loss = criterion(pred, y)\n",
        "        optimizer.zero_grad()\n",
        "        loss.backward()\n",
        "        torch.nn.utils.clip_grad_norm_(model.parameters(), 5.0)\n",
        "        optimizer.step()\n",
        "        train_loss += loss.item()\n",
        "\n",
        "    # ---- Validation ----\n",
        "    model.eval()\n",
        "    val_loss = 0\n",
        "    val_mae = 0\n",
        "    val_mse = 0\n",
        "    with torch.no_grad():\n",
        "        for batch in val_dataloader:\n",
        "            batch = batch.to(device)\n",
        "            pred = model(batch)\n",
        "            y = batch.y.view(batch.num_graphs, 60, 2)\n",
        "            val_loss += criterion(pred, y).item()\n",
        "\n",
        "            # show MAE and MSE with unnormalized data\n",
        "            pred = pred * batch.scale.view(-1, 1, 1) + batch.origin.unsqueeze(1)\n",
        "            y = y * batch.scale.view(-1, 1, 1) + batch.origin.unsqueeze(1)\n",
        "            val_mae += nn.L1Loss()(pred, y).item()\n",
        "            val_mse += nn.MSELoss()(pred, y).item()\n",
        "\n",
        "    train_loss /= len(train_dataloader)\n",
        "    val_loss /= len(val_dataloader)\n",
        "    val_mae /= len(val_dataloader)\n",
        "    val_mse /= len(val_dataloader)\n",
        "    scheduler.step()\n",
        "    # scheduler.step(val_loss)\n",
        "\n",
        "    tqdm.tqdm.write(f\"Epoch {epoch:03d} | Learning rate {optimizer.param_groups[0]['lr']:.6f} | train normalized MSE {train_loss:8.4f} | val normalized MSE {val_loss:8.4f}, | val MAE {val_mae:8.4f} | val MSE {val_mse:8.4f}\")\n",
        "    if val_loss < best_val_loss - 1e-3:\n",
        "        best_val_loss = val_loss\n",
        "        no_improvement = 0\n",
        "        torch.save(model.state_dict(), \"best_model.pt\")\n",
        "    else:\n",
        "        no_improvement += 1\n",
        "        if no_improvement >= early_stopping_patience:\n",
        "            print(\"Early stop!\")\n",
        "            break"
      ],
      "metadata": {
        "colab": {
          "base_uri": "https://localhost:8080/"
        },
        "id": "Lmf63RwZ-q8s",
        "outputId": "b046fe65-160a-44a5-baed-196d7ca644fb"
      },
      "execution_count": 25,
      "outputs": [
        {
          "output_type": "stream",
          "name": "stderr",
          "text": [
            "\rEpoch:   0%|          | 0/100 [00:00<?, ?epoch/s]<ipython-input-16-3024836103>:24: DeprecationWarning: __array_wrap__ must accept context and return_scalar arguments (positionally) in the future. (Deprecated NumPy 2.0)\n",
            "  future = future @ R\n",
            "<ipython-input-16-3024836103>:33: DeprecationWarning: __array_wrap__ must accept context and return_scalar arguments (positionally) in the future. (Deprecated NumPy 2.0)\n",
            "  future = future - origin\n",
            "<ipython-input-16-3024836103>:47: DeprecationWarning: __array_wrap__ must accept context and return_scalar arguments (positionally) in the future. (Deprecated NumPy 2.0)\n",
            "  future = future @ R\n",
            "Epoch:   1%|          | 1/100 [00:17<28:40, 17.37s/epoch]"
          ]
        },
        {
          "output_type": "stream",
          "name": "stdout",
          "text": [
            "Epoch 000 | Learning rate 0.001000 | train normalized MSE 182.8710 | val normalized MSE  38.1784, | val MAE   3.7449 | val MSE  38.1784\n"
          ]
        },
        {
          "output_type": "stream",
          "name": "stderr",
          "text": [
            "Epoch:   2%|▏         | 2/100 [00:34<28:14, 17.29s/epoch]"
          ]
        },
        {
          "output_type": "stream",
          "name": "stdout",
          "text": [
            "Epoch 001 | Learning rate 0.001000 | train normalized MSE  34.9320 | val normalized MSE  24.8856, | val MAE   2.9198 | val MSE  24.8856\n"
          ]
        },
        {
          "output_type": "stream",
          "name": "stderr",
          "text": [
            "Epoch:   3%|▎         | 3/100 [00:51<27:46, 17.18s/epoch]"
          ]
        },
        {
          "output_type": "stream",
          "name": "stdout",
          "text": [
            "Epoch 002 | Learning rate 0.001000 | train normalized MSE  23.2602 | val normalized MSE  16.6670, | val MAE   2.2919 | val MSE  16.6670\n"
          ]
        },
        {
          "output_type": "stream",
          "name": "stderr",
          "text": [
            "Epoch:   4%|▍         | 4/100 [01:08<27:25, 17.14s/epoch]"
          ]
        },
        {
          "output_type": "stream",
          "name": "stdout",
          "text": [
            "Epoch 003 | Learning rate 0.001000 | train normalized MSE  19.3751 | val normalized MSE  19.4913, | val MAE   2.5829 | val MSE  19.4913\n"
          ]
        },
        {
          "output_type": "stream",
          "name": "stderr",
          "text": [
            "Epoch:   5%|▌         | 5/100 [01:25<27:05, 17.11s/epoch]"
          ]
        },
        {
          "output_type": "stream",
          "name": "stdout",
          "text": [
            "Epoch 004 | Learning rate 0.001000 | train normalized MSE  17.9221 | val normalized MSE  15.2310, | val MAE   2.1510 | val MSE  15.2310\n"
          ]
        },
        {
          "output_type": "stream",
          "name": "stderr",
          "text": [
            "Epoch:   6%|▌         | 6/100 [01:42<26:49, 17.12s/epoch]"
          ]
        },
        {
          "output_type": "stream",
          "name": "stdout",
          "text": [
            "Epoch 005 | Learning rate 0.001000 | train normalized MSE  16.5660 | val normalized MSE  14.7380, | val MAE   2.1193 | val MSE  14.7380\n"
          ]
        },
        {
          "output_type": "stream",
          "name": "stderr",
          "text": [
            "Epoch:   7%|▋         | 7/100 [02:00<26:34, 17.14s/epoch]"
          ]
        },
        {
          "output_type": "stream",
          "name": "stdout",
          "text": [
            "Epoch 006 | Learning rate 0.001000 | train normalized MSE  15.7167 | val normalized MSE  12.2206, | val MAE   1.8995 | val MSE  12.2206\n"
          ]
        },
        {
          "output_type": "stream",
          "name": "stderr",
          "text": [
            "Epoch:   8%|▊         | 8/100 [02:17<26:18, 17.16s/epoch]"
          ]
        },
        {
          "output_type": "stream",
          "name": "stdout",
          "text": [
            "Epoch 007 | Learning rate 0.001000 | train normalized MSE  15.5106 | val normalized MSE  13.4359, | val MAE   2.0332 | val MSE  13.4359\n"
          ]
        },
        {
          "output_type": "stream",
          "name": "stderr",
          "text": [
            "Epoch:   9%|▉         | 9/100 [02:34<26:04, 17.19s/epoch]"
          ]
        },
        {
          "output_type": "stream",
          "name": "stdout",
          "text": [
            "Epoch 008 | Learning rate 0.001000 | train normalized MSE  14.7068 | val normalized MSE  12.8026, | val MAE   1.8905 | val MSE  12.8027\n"
          ]
        },
        {
          "output_type": "stream",
          "name": "stderr",
          "text": [
            "Epoch:  10%|█         | 10/100 [02:51<25:45, 17.17s/epoch]"
          ]
        },
        {
          "output_type": "stream",
          "name": "stdout",
          "text": [
            "Epoch 009 | Learning rate 0.001000 | train normalized MSE  14.2900 | val normalized MSE  13.4104, | val MAE   2.0179 | val MSE  13.4104\n"
          ]
        },
        {
          "output_type": "stream",
          "name": "stderr",
          "text": [
            "Epoch:  11%|█         | 11/100 [03:08<25:27, 17.17s/epoch]"
          ]
        },
        {
          "output_type": "stream",
          "name": "stdout",
          "text": [
            "Epoch 010 | Learning rate 0.001000 | train normalized MSE  14.0720 | val normalized MSE  11.8562, | val MAE   1.8229 | val MSE  11.8562\n"
          ]
        },
        {
          "output_type": "stream",
          "name": "stderr",
          "text": [
            "Epoch:  12%|█▏        | 12/100 [03:26<25:17, 17.24s/epoch]"
          ]
        },
        {
          "output_type": "stream",
          "name": "stdout",
          "text": [
            "Epoch 011 | Learning rate 0.001000 | train normalized MSE  14.0107 | val normalized MSE  11.9436, | val MAE   1.8596 | val MSE  11.9436\n"
          ]
        },
        {
          "output_type": "stream",
          "name": "stderr",
          "text": [
            "Epoch:  13%|█▎        | 13/100 [03:43<24:56, 17.20s/epoch]"
          ]
        },
        {
          "output_type": "stream",
          "name": "stdout",
          "text": [
            "Epoch 012 | Learning rate 0.001000 | train normalized MSE  13.2205 | val normalized MSE  11.9203, | val MAE   1.8244 | val MSE  11.9203\n"
          ]
        },
        {
          "output_type": "stream",
          "name": "stderr",
          "text": [
            "Epoch:  14%|█▍        | 14/100 [04:00<24:36, 17.17s/epoch]"
          ]
        },
        {
          "output_type": "stream",
          "name": "stdout",
          "text": [
            "Epoch 013 | Learning rate 0.001000 | train normalized MSE  13.5133 | val normalized MSE  12.2319, | val MAE   1.8617 | val MSE  12.2319\n"
          ]
        },
        {
          "output_type": "stream",
          "name": "stderr",
          "text": [
            "Epoch:  15%|█▌        | 15/100 [04:17<24:18, 17.16s/epoch]"
          ]
        },
        {
          "output_type": "stream",
          "name": "stdout",
          "text": [
            "Epoch 014 | Learning rate 0.001000 | train normalized MSE  13.4192 | val normalized MSE  11.5753, | val MAE   1.8411 | val MSE  11.5753\n"
          ]
        },
        {
          "output_type": "stream",
          "name": "stderr",
          "text": [
            "Epoch:  16%|█▌        | 16/100 [04:34<23:59, 17.14s/epoch]"
          ]
        },
        {
          "output_type": "stream",
          "name": "stdout",
          "text": [
            "Epoch 015 | Learning rate 0.001000 | train normalized MSE  13.2000 | val normalized MSE  11.3134, | val MAE   1.7597 | val MSE  11.3134\n"
          ]
        },
        {
          "output_type": "stream",
          "name": "stderr",
          "text": [
            "Epoch:  17%|█▋        | 17/100 [04:51<23:40, 17.11s/epoch]"
          ]
        },
        {
          "output_type": "stream",
          "name": "stdout",
          "text": [
            "Epoch 016 | Learning rate 0.001000 | train normalized MSE  13.2409 | val normalized MSE  12.0366, | val MAE   1.8395 | val MSE  12.0366\n"
          ]
        },
        {
          "output_type": "stream",
          "name": "stderr",
          "text": [
            "Epoch:  18%|█▊        | 18/100 [05:08<23:20, 17.08s/epoch]"
          ]
        },
        {
          "output_type": "stream",
          "name": "stdout",
          "text": [
            "Epoch 017 | Learning rate 0.001000 | train normalized MSE  12.9820 | val normalized MSE  11.5420, | val MAE   1.8211 | val MSE  11.5420\n"
          ]
        },
        {
          "output_type": "stream",
          "name": "stderr",
          "text": [
            "Epoch:  19%|█▉        | 19/100 [05:25<22:59, 17.03s/epoch]"
          ]
        },
        {
          "output_type": "stream",
          "name": "stdout",
          "text": [
            "Epoch 018 | Learning rate 0.001000 | train normalized MSE  12.8233 | val normalized MSE  11.1044, | val MAE   1.7774 | val MSE  11.1044\n"
          ]
        },
        {
          "output_type": "stream",
          "name": "stderr",
          "text": [
            "Epoch:  20%|██        | 20/100 [05:42<22:43, 17.04s/epoch]"
          ]
        },
        {
          "output_type": "stream",
          "name": "stdout",
          "text": [
            "Epoch 019 | Learning rate 0.000750 | train normalized MSE  12.7748 | val normalized MSE  10.8319, | val MAE   1.7220 | val MSE  10.8319\n"
          ]
        },
        {
          "output_type": "stream",
          "name": "stderr",
          "text": [
            "Epoch:  21%|██        | 21/100 [05:59<22:27, 17.05s/epoch]"
          ]
        },
        {
          "output_type": "stream",
          "name": "stdout",
          "text": [
            "Epoch 020 | Learning rate 0.000750 | train normalized MSE  12.0260 | val normalized MSE  10.5695, | val MAE   1.6728 | val MSE  10.5695\n"
          ]
        },
        {
          "output_type": "stream",
          "name": "stderr",
          "text": [
            "Epoch:  22%|██▏       | 22/100 [06:16<22:09, 17.05s/epoch]"
          ]
        },
        {
          "output_type": "stream",
          "name": "stdout",
          "text": [
            "Epoch 021 | Learning rate 0.000750 | train normalized MSE  11.7242 | val normalized MSE  11.1606, | val MAE   1.7460 | val MSE  11.1606\n"
          ]
        },
        {
          "output_type": "stream",
          "name": "stderr",
          "text": [
            "Epoch:  23%|██▎       | 23/100 [06:33<21:52, 17.04s/epoch]"
          ]
        },
        {
          "output_type": "stream",
          "name": "stdout",
          "text": [
            "Epoch 022 | Learning rate 0.000750 | train normalized MSE  11.5792 | val normalized MSE   9.9480, | val MAE   1.6285 | val MSE   9.9480\n"
          ]
        },
        {
          "output_type": "stream",
          "name": "stderr",
          "text": [
            "Epoch:  24%|██▍       | 24/100 [06:50<21:32, 17.00s/epoch]"
          ]
        },
        {
          "output_type": "stream",
          "name": "stdout",
          "text": [
            "Epoch 023 | Learning rate 0.000750 | train normalized MSE  11.4791 | val normalized MSE   9.9005, | val MAE   1.6317 | val MSE   9.9005\n"
          ]
        },
        {
          "output_type": "stream",
          "name": "stderr",
          "text": [
            "Epoch:  25%|██▌       | 25/100 [07:07<21:13, 16.98s/epoch]"
          ]
        },
        {
          "output_type": "stream",
          "name": "stdout",
          "text": [
            "Epoch 024 | Learning rate 0.000750 | train normalized MSE  11.4751 | val normalized MSE  10.1124, | val MAE   1.6898 | val MSE  10.1124\n"
          ]
        },
        {
          "output_type": "stream",
          "name": "stderr",
          "text": [
            "Epoch:  26%|██▌       | 26/100 [07:24<20:57, 17.00s/epoch]"
          ]
        },
        {
          "output_type": "stream",
          "name": "stdout",
          "text": [
            "Epoch 025 | Learning rate 0.000750 | train normalized MSE  11.2980 | val normalized MSE  10.3370, | val MAE   1.7260 | val MSE  10.3370\n"
          ]
        },
        {
          "output_type": "stream",
          "name": "stderr",
          "text": [
            "Epoch:  27%|██▋       | 27/100 [07:41<20:41, 17.01s/epoch]"
          ]
        },
        {
          "output_type": "stream",
          "name": "stdout",
          "text": [
            "Epoch 026 | Learning rate 0.000750 | train normalized MSE  11.2651 | val normalized MSE   9.5312, | val MAE   1.5285 | val MSE   9.5312\n"
          ]
        },
        {
          "output_type": "stream",
          "name": "stderr",
          "text": [
            "Epoch:  28%|██▊       | 28/100 [07:59<20:29, 17.08s/epoch]"
          ]
        },
        {
          "output_type": "stream",
          "name": "stdout",
          "text": [
            "Epoch 027 | Learning rate 0.000750 | train normalized MSE  10.9755 | val normalized MSE  10.2373, | val MAE   1.6582 | val MSE  10.2373\n"
          ]
        },
        {
          "output_type": "stream",
          "name": "stderr",
          "text": [
            "Epoch:  29%|██▉       | 29/100 [08:16<20:19, 17.18s/epoch]"
          ]
        },
        {
          "output_type": "stream",
          "name": "stdout",
          "text": [
            "Epoch 028 | Learning rate 0.000750 | train normalized MSE  11.0271 | val normalized MSE   9.7339, | val MAE   1.5614 | val MSE   9.7339\n"
          ]
        },
        {
          "output_type": "stream",
          "name": "stderr",
          "text": [
            "Epoch:  30%|███       | 30/100 [08:33<20:07, 17.25s/epoch]"
          ]
        },
        {
          "output_type": "stream",
          "name": "stdout",
          "text": [
            "Epoch 029 | Learning rate 0.000750 | train normalized MSE  11.0009 | val normalized MSE   9.9107, | val MAE   1.6125 | val MSE   9.9107\n"
          ]
        },
        {
          "output_type": "stream",
          "name": "stderr",
          "text": [
            "Epoch:  31%|███       | 31/100 [08:51<19:49, 17.24s/epoch]"
          ]
        },
        {
          "output_type": "stream",
          "name": "stdout",
          "text": [
            "Epoch 030 | Learning rate 0.000750 | train normalized MSE  11.0054 | val normalized MSE   9.4817, | val MAE   1.5501 | val MSE   9.4817\n"
          ]
        },
        {
          "output_type": "stream",
          "name": "stderr",
          "text": [
            "Epoch:  32%|███▏      | 32/100 [09:08<19:32, 17.25s/epoch]"
          ]
        },
        {
          "output_type": "stream",
          "name": "stdout",
          "text": [
            "Epoch 031 | Learning rate 0.000750 | train normalized MSE  10.9216 | val normalized MSE   9.9067, | val MAE   1.6234 | val MSE   9.9067\n"
          ]
        },
        {
          "output_type": "stream",
          "name": "stderr",
          "text": [
            "Epoch:  33%|███▎      | 33/100 [09:25<19:14, 17.23s/epoch]"
          ]
        },
        {
          "output_type": "stream",
          "name": "stdout",
          "text": [
            "Epoch 032 | Learning rate 0.000750 | train normalized MSE  10.6247 | val normalized MSE   9.2281, | val MAE   1.5258 | val MSE   9.2281\n"
          ]
        },
        {
          "output_type": "stream",
          "name": "stderr",
          "text": [
            "Epoch:  34%|███▍      | 34/100 [09:42<18:56, 17.22s/epoch]"
          ]
        },
        {
          "output_type": "stream",
          "name": "stdout",
          "text": [
            "Epoch 033 | Learning rate 0.000750 | train normalized MSE  10.6109 | val normalized MSE   9.6692, | val MAE   1.5476 | val MSE   9.6692\n"
          ]
        },
        {
          "output_type": "stream",
          "name": "stderr",
          "text": [
            "Epoch:  35%|███▌      | 35/100 [09:59<18:36, 17.18s/epoch]"
          ]
        },
        {
          "output_type": "stream",
          "name": "stdout",
          "text": [
            "Epoch 034 | Learning rate 0.000750 | train normalized MSE  10.5302 | val normalized MSE   9.0754, | val MAE   1.5479 | val MSE   9.0754\n"
          ]
        },
        {
          "output_type": "stream",
          "name": "stderr",
          "text": [
            "Epoch:  36%|███▌      | 36/100 [10:16<18:16, 17.14s/epoch]"
          ]
        },
        {
          "output_type": "stream",
          "name": "stdout",
          "text": [
            "Epoch 035 | Learning rate 0.000750 | train normalized MSE  10.7197 | val normalized MSE   9.7244, | val MAE   1.5958 | val MSE   9.7244\n"
          ]
        },
        {
          "output_type": "stream",
          "name": "stderr",
          "text": [
            "Epoch:  37%|███▋      | 37/100 [10:33<17:55, 17.08s/epoch]"
          ]
        },
        {
          "output_type": "stream",
          "name": "stdout",
          "text": [
            "Epoch 036 | Learning rate 0.000750 | train normalized MSE  10.5275 | val normalized MSE   9.2475, | val MAE   1.5523 | val MSE   9.2475\n"
          ]
        },
        {
          "output_type": "stream",
          "name": "stderr",
          "text": [
            "Epoch:  38%|███▊      | 38/100 [10:50<17:37, 17.05s/epoch]"
          ]
        },
        {
          "output_type": "stream",
          "name": "stdout",
          "text": [
            "Epoch 037 | Learning rate 0.000750 | train normalized MSE  10.5837 | val normalized MSE   9.3655, | val MAE   1.5177 | val MSE   9.3655\n"
          ]
        },
        {
          "output_type": "stream",
          "name": "stderr",
          "text": [
            "Epoch:  39%|███▉      | 39/100 [11:07<17:21, 17.08s/epoch]"
          ]
        },
        {
          "output_type": "stream",
          "name": "stdout",
          "text": [
            "Epoch 038 | Learning rate 0.000750 | train normalized MSE  10.5441 | val normalized MSE   9.2623, | val MAE   1.4977 | val MSE   9.2623\n"
          ]
        },
        {
          "output_type": "stream",
          "name": "stderr",
          "text": [
            "Epoch:  40%|████      | 40/100 [11:25<17:05, 17.10s/epoch]"
          ]
        },
        {
          "output_type": "stream",
          "name": "stdout",
          "text": [
            "Epoch 039 | Learning rate 0.000563 | train normalized MSE  10.4636 | val normalized MSE   9.2318, | val MAE   1.5028 | val MSE   9.2318\n"
          ]
        },
        {
          "output_type": "stream",
          "name": "stderr",
          "text": [
            "Epoch:  41%|████      | 41/100 [11:42<16:49, 17.10s/epoch]"
          ]
        },
        {
          "output_type": "stream",
          "name": "stdout",
          "text": [
            "Epoch 040 | Learning rate 0.000563 | train normalized MSE  10.0927 | val normalized MSE   9.0070, | val MAE   1.5038 | val MSE   9.0070\n"
          ]
        },
        {
          "output_type": "stream",
          "name": "stderr",
          "text": [
            "Epoch:  42%|████▏     | 42/100 [11:59<16:34, 17.15s/epoch]"
          ]
        },
        {
          "output_type": "stream",
          "name": "stdout",
          "text": [
            "Epoch 041 | Learning rate 0.000563 | train normalized MSE   9.8332 | val normalized MSE   8.8749, | val MAE   1.4341 | val MSE   8.8749\n"
          ]
        },
        {
          "output_type": "stream",
          "name": "stderr",
          "text": [
            "Epoch:  43%|████▎     | 43/100 [12:16<16:18, 17.17s/epoch]"
          ]
        },
        {
          "output_type": "stream",
          "name": "stdout",
          "text": [
            "Epoch 042 | Learning rate 0.000563 | train normalized MSE   9.9898 | val normalized MSE   8.9119, | val MAE   1.4717 | val MSE   8.9119\n"
          ]
        },
        {
          "output_type": "stream",
          "name": "stderr",
          "text": [
            "Epoch:  44%|████▍     | 44/100 [12:33<15:59, 17.14s/epoch]"
          ]
        },
        {
          "output_type": "stream",
          "name": "stdout",
          "text": [
            "Epoch 043 | Learning rate 0.000563 | train normalized MSE   9.9548 | val normalized MSE   8.9315, | val MAE   1.4566 | val MSE   8.9315\n"
          ]
        },
        {
          "output_type": "stream",
          "name": "stderr",
          "text": [
            "Epoch:  45%|████▌     | 45/100 [12:50<15:37, 17.04s/epoch]"
          ]
        },
        {
          "output_type": "stream",
          "name": "stdout",
          "text": [
            "Epoch 044 | Learning rate 0.000563 | train normalized MSE   9.8419 | val normalized MSE   9.0210, | val MAE   1.4823 | val MSE   9.0210\n"
          ]
        },
        {
          "output_type": "stream",
          "name": "stderr",
          "text": [
            "Epoch:  46%|████▌     | 46/100 [13:07<15:20, 17.05s/epoch]"
          ]
        },
        {
          "output_type": "stream",
          "name": "stdout",
          "text": [
            "Epoch 045 | Learning rate 0.000563 | train normalized MSE   9.7509 | val normalized MSE   8.8278, | val MAE   1.4343 | val MSE   8.8278\n"
          ]
        },
        {
          "output_type": "stream",
          "name": "stderr",
          "text": [
            "Epoch:  47%|████▋     | 47/100 [13:24<15:03, 17.06s/epoch]"
          ]
        },
        {
          "output_type": "stream",
          "name": "stdout",
          "text": [
            "Epoch 046 | Learning rate 0.000563 | train normalized MSE   9.7780 | val normalized MSE   8.9280, | val MAE   1.5071 | val MSE   8.9280\n"
          ]
        },
        {
          "output_type": "stream",
          "name": "stderr",
          "text": [
            "Epoch:  48%|████▊     | 48/100 [13:41<14:47, 17.07s/epoch]"
          ]
        },
        {
          "output_type": "stream",
          "name": "stdout",
          "text": [
            "Epoch 047 | Learning rate 0.000563 | train normalized MSE   9.7128 | val normalized MSE   8.9028, | val MAE   1.4519 | val MSE   8.9028\n"
          ]
        },
        {
          "output_type": "stream",
          "name": "stderr",
          "text": [
            "Epoch:  49%|████▉     | 49/100 [13:58<14:32, 17.10s/epoch]"
          ]
        },
        {
          "output_type": "stream",
          "name": "stdout",
          "text": [
            "Epoch 048 | Learning rate 0.000563 | train normalized MSE   9.6625 | val normalized MSE   9.2245, | val MAE   1.4704 | val MSE   9.2245\n"
          ]
        },
        {
          "output_type": "stream",
          "name": "stderr",
          "text": [
            "Epoch:  50%|█████     | 50/100 [14:16<14:14, 17.10s/epoch]"
          ]
        },
        {
          "output_type": "stream",
          "name": "stdout",
          "text": [
            "Epoch 049 | Learning rate 0.000563 | train normalized MSE   9.6933 | val normalized MSE   8.8616, | val MAE   1.4548 | val MSE   8.8616\n"
          ]
        },
        {
          "output_type": "stream",
          "name": "stderr",
          "text": [
            "Epoch:  51%|█████     | 51/100 [14:33<13:57, 17.09s/epoch]"
          ]
        },
        {
          "output_type": "stream",
          "name": "stdout",
          "text": [
            "Epoch 050 | Learning rate 0.000563 | train normalized MSE   9.6765 | val normalized MSE   8.7384, | val MAE   1.4424 | val MSE   8.7384\n"
          ]
        },
        {
          "output_type": "stream",
          "name": "stderr",
          "text": [
            "Epoch:  52%|█████▏    | 52/100 [14:50<13:39, 17.08s/epoch]"
          ]
        },
        {
          "output_type": "stream",
          "name": "stdout",
          "text": [
            "Epoch 051 | Learning rate 0.000563 | train normalized MSE   9.5544 | val normalized MSE   8.6926, | val MAE   1.4610 | val MSE   8.6926\n"
          ]
        },
        {
          "output_type": "stream",
          "name": "stderr",
          "text": [
            "Epoch:  53%|█████▎    | 53/100 [15:07<13:20, 17.03s/epoch]"
          ]
        },
        {
          "output_type": "stream",
          "name": "stdout",
          "text": [
            "Epoch 052 | Learning rate 0.000563 | train normalized MSE   9.4537 | val normalized MSE   9.0789, | val MAE   1.4746 | val MSE   9.0789\n"
          ]
        },
        {
          "output_type": "stream",
          "name": "stderr",
          "text": [
            "Epoch:  54%|█████▍    | 54/100 [15:24<13:02, 17.01s/epoch]"
          ]
        },
        {
          "output_type": "stream",
          "name": "stdout",
          "text": [
            "Epoch 053 | Learning rate 0.000563 | train normalized MSE   9.5579 | val normalized MSE   8.2184, | val MAE   1.3843 | val MSE   8.2184\n"
          ]
        },
        {
          "output_type": "stream",
          "name": "stderr",
          "text": [
            "Epoch:  55%|█████▌    | 55/100 [15:41<12:45, 17.02s/epoch]"
          ]
        },
        {
          "output_type": "stream",
          "name": "stdout",
          "text": [
            "Epoch 054 | Learning rate 0.000563 | train normalized MSE   9.3889 | val normalized MSE   9.0796, | val MAE   1.4824 | val MSE   9.0796\n"
          ]
        },
        {
          "output_type": "stream",
          "name": "stderr",
          "text": [
            "Epoch:  56%|█████▌    | 56/100 [15:58<12:29, 17.04s/epoch]"
          ]
        },
        {
          "output_type": "stream",
          "name": "stdout",
          "text": [
            "Epoch 055 | Learning rate 0.000563 | train normalized MSE   9.5236 | val normalized MSE   8.8042, | val MAE   1.4626 | val MSE   8.8042\n"
          ]
        },
        {
          "output_type": "stream",
          "name": "stderr",
          "text": [
            "Epoch:  57%|█████▋    | 57/100 [16:15<12:13, 17.06s/epoch]"
          ]
        },
        {
          "output_type": "stream",
          "name": "stdout",
          "text": [
            "Epoch 056 | Learning rate 0.000563 | train normalized MSE   9.5550 | val normalized MSE   8.5579, | val MAE   1.4120 | val MSE   8.5579\n"
          ]
        },
        {
          "output_type": "stream",
          "name": "stderr",
          "text": [
            "Epoch:  58%|█████▊    | 58/100 [16:32<11:58, 17.11s/epoch]"
          ]
        },
        {
          "output_type": "stream",
          "name": "stdout",
          "text": [
            "Epoch 057 | Learning rate 0.000563 | train normalized MSE   9.4738 | val normalized MSE   8.8210, | val MAE   1.4499 | val MSE   8.8210\n"
          ]
        },
        {
          "output_type": "stream",
          "name": "stderr",
          "text": [
            "Epoch:  59%|█████▉    | 59/100 [16:49<11:40, 17.09s/epoch]"
          ]
        },
        {
          "output_type": "stream",
          "name": "stdout",
          "text": [
            "Epoch 058 | Learning rate 0.000563 | train normalized MSE   9.4398 | val normalized MSE   8.8190, | val MAE   1.4699 | val MSE   8.8190\n"
          ]
        },
        {
          "output_type": "stream",
          "name": "stderr",
          "text": [
            "Epoch:  60%|██████    | 60/100 [17:06<11:21, 17.04s/epoch]"
          ]
        },
        {
          "output_type": "stream",
          "name": "stdout",
          "text": [
            "Epoch 059 | Learning rate 0.000422 | train normalized MSE   9.3919 | val normalized MSE   8.9310, | val MAE   1.4615 | val MSE   8.9310\n"
          ]
        },
        {
          "output_type": "stream",
          "name": "stderr",
          "text": [
            "Epoch:  61%|██████    | 61/100 [17:23<11:04, 17.03s/epoch]"
          ]
        },
        {
          "output_type": "stream",
          "name": "stdout",
          "text": [
            "Epoch 060 | Learning rate 0.000422 | train normalized MSE   9.1375 | val normalized MSE   8.9389, | val MAE   1.4572 | val MSE   8.9389\n"
          ]
        },
        {
          "output_type": "stream",
          "name": "stderr",
          "text": [
            "Epoch:  62%|██████▏   | 62/100 [17:40<10:48, 17.05s/epoch]"
          ]
        },
        {
          "output_type": "stream",
          "name": "stdout",
          "text": [
            "Epoch 061 | Learning rate 0.000422 | train normalized MSE   9.1337 | val normalized MSE   8.7871, | val MAE   1.4576 | val MSE   8.7871\n"
          ]
        },
        {
          "output_type": "stream",
          "name": "stderr",
          "text": [
            "Epoch:  63%|██████▎   | 63/100 [17:57<10:29, 17.01s/epoch]"
          ]
        },
        {
          "output_type": "stream",
          "name": "stdout",
          "text": [
            "Epoch 062 | Learning rate 0.000422 | train normalized MSE   9.1242 | val normalized MSE   8.7058, | val MAE   1.4191 | val MSE   8.7058\n"
          ]
        },
        {
          "output_type": "stream",
          "name": "stderr",
          "text": [
            "Epoch:  63%|██████▎   | 63/100 [18:14<10:42, 17.38s/epoch]"
          ]
        },
        {
          "output_type": "stream",
          "name": "stdout",
          "text": [
            "Epoch 063 | Learning rate 0.000422 | train normalized MSE   9.0986 | val normalized MSE   8.6675, | val MAE   1.4539 | val MSE   8.6675\n",
            "Early stop!\n"
          ]
        },
        {
          "output_type": "stream",
          "name": "stderr",
          "text": [
            "\n"
          ]
        }
      ]
    },
    {
      "cell_type": "code",
      "source": [
        "\n",
        "class SocialLSTM(nn.Module):\n",
        "    \"\"\"\n",
        "    简化版 Social-LSTM：所有 agent 使用共享 LSTM，\n",
        "    每个时间步聚合邻居的 hidden state，作为社交信息输入。\n",
        "    \"\"\"\n",
        "    def __init__(self, input_dim=6, hidden_dim=128, pred_len=60, dropout=0.1):\n",
        "        super().__init__()\n",
        "        self.input_dim = input_dim\n",
        "        self.hidden_dim = hidden_dim\n",
        "        self.pred_len = pred_len\n",
        "\n",
        "        # 嵌入原始输入特征\n",
        "        self.embed = nn.Linear(input_dim, hidden_dim)\n",
        "\n",
        "        # 社交交互 + LSTM 单元\n",
        "        self.lstm_cell = nn.LSTMCell(hidden_dim * 2, hidden_dim)\n",
        "\n",
        "        # 最终预测头\n",
        "        self.fc = nn.Sequential(\n",
        "            nn.Linear(hidden_dim, hidden_dim),\n",
        "            nn.ReLU(),\n",
        "            nn.Dropout(dropout),\n",
        "            nn.Linear(hidden_dim, pred_len * 2)\n",
        "        )\n",
        "\n",
        "    def forward(self, data):\n",
        "        \"\"\"\n",
        "        data.x: shape (B*A, T, D)\n",
        "        data.num_graphs = B\n",
        "        \"\"\"\n",
        "        x = data.x  # (B*A, T, D)\n",
        "        B = data.num_graphs\n",
        "        A = x.size(0) // B\n",
        "        T = x.size(1)\n",
        "\n",
        "        # 重新组织形状\n",
        "        x = x.view(B, A, T, self.input_dim)  # (B, A, T, D)\n",
        "\n",
        "        # 嵌入输入\n",
        "        x_embed = self.embed(x)  # (B, A, T, hidden_dim)\n",
        "\n",
        "        # 初始化 hidden 和 cell\n",
        "        h = torch.zeros(B, A, self.hidden_dim, device=x.device)\n",
        "        c = torch.zeros(B, A, self.hidden_dim, device=x.device)\n",
        "\n",
        "        # 时序迭代\n",
        "        for t in range(T):\n",
        "            x_t = x_embed[:, :, t, :]  # (B, A, hidden_dim)\n",
        "\n",
        "            # 社交池化：对所有 agent 的 h 做平均\n",
        "            social_context = h.mean(dim=1, keepdim=True).expand(-1, A, -1)  # (B, A, hidden_dim)\n",
        "\n",
        "            # 拼接个体状态 + 社交特征\n",
        "            lstm_input = torch.cat([x_t, social_context], dim=-1)  # (B, A, 2*hidden_dim)\n",
        "\n",
        "            # LSTMCell 只能处理 2D，所以展平后逐 agent 处理\n",
        "            h = h.view(B * A, self.hidden_dim)\n",
        "            c = c.view(B * A, self.hidden_dim)\n",
        "            lstm_input = lstm_input.view(B * A, -1)\n",
        "\n",
        "            h, c = self.lstm_cell(lstm_input, (h, c))  # 单步更新\n",
        "            h = h.view(B, A, self.hidden_dim)\n",
        "            c = c.view(B, A, self.hidden_dim)\n",
        "\n",
        "        # 最终只取 ego agent 的 hidden state\n",
        "        ego_h = h[:, 0, :]  # (B, hidden_dim)\n",
        "\n",
        "        out = self.fc(ego_h)              # (B, pred_len*2)\n",
        "        out = out.view(B, self.pred_len, 2)  # (B, pred_len, 2)\n",
        "\n",
        "        return out\n",
        "\n",
        "\n",
        "# ====== 测试用例 ======\n",
        "if __name__ == \"__main__\":\n",
        "    class DummyData:\n",
        "        pass\n",
        "\n",
        "    B, A, T, D = 4, 50, 50, 6\n",
        "    pred_len = 60\n",
        "    torch.manual_seed(123)\n",
        "    dummy = DummyData()\n",
        "    dummy.x = torch.randn(B * A, T, D)\n",
        "    dummy.num_graphs = B\n",
        "\n",
        "    model = SocialLSTM(input_dim=D, hidden_dim=128, pred_len=pred_len, dropout=0.1)\n",
        "    output = model(dummy)\n",
        "    print(output.shape)  # 应输出: torch.Size([4, 60, 2])"
      ],
      "metadata": {
        "colab": {
          "base_uri": "https://localhost:8080/"
        },
        "id": "L52UWMUp_YKN",
        "outputId": "9e55acfa-00bd-452c-a7b1-f72013c16a8f"
      },
      "execution_count": 45,
      "outputs": [
        {
          "output_type": "stream",
          "name": "stdout",
          "text": [
            "torch.Size([4, 60, 2])\n"
          ]
        }
      ]
    },
    {
      "cell_type": "code",
      "source": [
        "model = SocialLSTM(\n",
        "    input_dim=6,\n",
        "    hidden_dim=256,\n",
        "    pred_len=60,\n",
        "    dropout=0.1,\n",
        ").to(device)\n",
        "\n",
        "\n",
        "optimizer = optim.Adam(model.parameters(), lr=1e-3, weight_decay=1e-5)\n",
        "scheduler = optim.lr_scheduler.StepLR(optimizer, step_size=20, gamma=0.75) # You can try different schedulers\n",
        "early_stopping_patience = 10\n",
        "best_val_loss = float('inf')\n",
        "no_improvement = 0\n",
        "criterion = nn.MSELoss()"
      ],
      "metadata": {
        "id": "_zsYn3EMPTCd"
      },
      "execution_count": 46,
      "outputs": []
    },
    {
      "cell_type": "code",
      "source": [
        "for epoch in tqdm.tqdm(range(100), desc=\"Epoch\", unit=\"epoch\"):\n",
        "    # ---- Training ----\n",
        "    model.train()\n",
        "    train_loss = 0\n",
        "    for batch in train_dataloader:\n",
        "        batch = batch.to(device)\n",
        "        pred = model(batch)\n",
        "        y = batch.y.view(batch.num_graphs, 60, 2)\n",
        "        loss = criterion(pred, y)\n",
        "        optimizer.zero_grad()\n",
        "        loss.backward()\n",
        "        torch.nn.utils.clip_grad_norm_(model.parameters(), 5.0)\n",
        "        optimizer.step()\n",
        "        train_loss += loss.item()\n",
        "\n",
        "    # ---- Validation ----\n",
        "    model.eval()\n",
        "    val_loss = 0\n",
        "    val_mae = 0\n",
        "    val_mse = 0\n",
        "    with torch.no_grad():\n",
        "        for batch in val_dataloader:\n",
        "            batch = batch.to(device)\n",
        "            pred = model(batch)\n",
        "            y = batch.y.view(batch.num_graphs, 60, 2)\n",
        "            val_loss += criterion(pred, y).item()\n",
        "\n",
        "            # show MAE and MSE with unnormalized data\n",
        "            pred = pred * batch.scale.view(-1, 1, 1) + batch.origin.unsqueeze(1)\n",
        "            y = y * batch.scale.view(-1, 1, 1) + batch.origin.unsqueeze(1)\n",
        "            val_mae += nn.L1Loss()(pred, y).item()\n",
        "            val_mse += nn.MSELoss()(pred, y).item()\n",
        "\n",
        "    train_loss /= len(train_dataloader)\n",
        "    val_loss /= len(val_dataloader)\n",
        "    val_mae /= len(val_dataloader)\n",
        "    val_mse /= len(val_dataloader)\n",
        "    scheduler.step()\n",
        "    # scheduler.step(val_loss)\n",
        "\n",
        "    tqdm.tqdm.write(f\"Epoch {epoch:03d} | Learning rate {optimizer.param_groups[0]['lr']:.6f} | train normalized MSE {train_loss:8.4f} | val normalized MSE {val_loss:8.4f}, | val MAE {val_mae:8.4f} | val MSE {val_mse:8.4f}\")\n",
        "    if val_loss < best_val_loss - 1e-3:\n",
        "        best_val_loss = val_loss\n",
        "        no_improvement = 0\n",
        "        torch.save(model.state_dict(), \"best_model.pt\")\n",
        "    else:\n",
        "        no_improvement += 1\n",
        "        if no_improvement >= early_stopping_patience:\n",
        "            print(\"Early stop!\")\n",
        "            break"
      ],
      "metadata": {
        "colab": {
          "base_uri": "https://localhost:8080/"
        },
        "id": "CWBcdJ4GPZTI",
        "outputId": "71ab7f1f-e69d-46db-9017-31cfe615f7af"
      },
      "execution_count": 47,
      "outputs": [
        {
          "output_type": "stream",
          "name": "stderr",
          "text": [
            "\rEpoch:   0%|          | 0/100 [00:00<?, ?epoch/s]<ipython-input-16-3024836103>:33: DeprecationWarning: __array_wrap__ must accept context and return_scalar arguments (positionally) in the future. (Deprecated NumPy 2.0)\n",
            "  future = future - origin\n",
            "<ipython-input-16-3024836103>:47: DeprecationWarning: __array_wrap__ must accept context and return_scalar arguments (positionally) in the future. (Deprecated NumPy 2.0)\n",
            "  future = future @ R\n",
            "<ipython-input-16-3024836103>:24: DeprecationWarning: __array_wrap__ must accept context and return_scalar arguments (positionally) in the future. (Deprecated NumPy 2.0)\n",
            "  future = future @ R\n",
            "Epoch:   1%|          | 1/100 [00:26<43:56, 26.63s/epoch]"
          ]
        },
        {
          "output_type": "stream",
          "name": "stdout",
          "text": [
            "Epoch 000 | Learning rate 0.001000 | train normalized MSE  64.3009 | val normalized MSE  23.5604, | val MAE   2.8736 | val MSE  23.5604\n"
          ]
        },
        {
          "output_type": "stream",
          "name": "stderr",
          "text": [
            "Epoch:   2%|▏         | 2/100 [00:53<43:43, 26.77s/epoch]"
          ]
        },
        {
          "output_type": "stream",
          "name": "stdout",
          "text": [
            "Epoch 001 | Learning rate 0.001000 | train normalized MSE  24.4762 | val normalized MSE  22.3684, | val MAE   2.6976 | val MSE  22.3684\n"
          ]
        },
        {
          "output_type": "stream",
          "name": "stderr",
          "text": [
            "Epoch:   3%|▎         | 3/100 [01:20<43:18, 26.79s/epoch]"
          ]
        },
        {
          "output_type": "stream",
          "name": "stdout",
          "text": [
            "Epoch 002 | Learning rate 0.001000 | train normalized MSE  22.3988 | val normalized MSE  19.2778, | val MAE   2.3538 | val MSE  19.2778\n"
          ]
        },
        {
          "output_type": "stream",
          "name": "stderr",
          "text": [
            "Epoch:   4%|▍         | 4/100 [01:47<42:55, 26.82s/epoch]"
          ]
        },
        {
          "output_type": "stream",
          "name": "stdout",
          "text": [
            "Epoch 003 | Learning rate 0.001000 | train normalized MSE  21.2690 | val normalized MSE  20.8845, | val MAE   2.6684 | val MSE  20.8845\n"
          ]
        },
        {
          "output_type": "stream",
          "name": "stderr",
          "text": [
            "Epoch:   5%|▌         | 5/100 [02:13<42:27, 26.82s/epoch]"
          ]
        },
        {
          "output_type": "stream",
          "name": "stdout",
          "text": [
            "Epoch 004 | Learning rate 0.001000 | train normalized MSE  20.2979 | val normalized MSE  18.3050, | val MAE   2.3161 | val MSE  18.3050\n"
          ]
        },
        {
          "output_type": "stream",
          "name": "stderr",
          "text": [
            "Epoch:   6%|▌         | 6/100 [02:40<42:00, 26.81s/epoch]"
          ]
        },
        {
          "output_type": "stream",
          "name": "stdout",
          "text": [
            "Epoch 005 | Learning rate 0.001000 | train normalized MSE  19.8324 | val normalized MSE  18.7722, | val MAE   2.5013 | val MSE  18.7722\n"
          ]
        },
        {
          "output_type": "stream",
          "name": "stderr",
          "text": [
            "Epoch:   7%|▋         | 7/100 [03:07<41:36, 26.84s/epoch]"
          ]
        },
        {
          "output_type": "stream",
          "name": "stdout",
          "text": [
            "Epoch 006 | Learning rate 0.001000 | train normalized MSE  19.0700 | val normalized MSE  17.9383, | val MAE   2.3352 | val MSE  17.9383\n"
          ]
        },
        {
          "output_type": "stream",
          "name": "stderr",
          "text": [
            "Epoch:   8%|▊         | 8/100 [03:34<41:12, 26.88s/epoch]"
          ]
        },
        {
          "output_type": "stream",
          "name": "stdout",
          "text": [
            "Epoch 007 | Learning rate 0.001000 | train normalized MSE  19.1668 | val normalized MSE  18.2268, | val MAE   2.2454 | val MSE  18.2268\n"
          ]
        },
        {
          "output_type": "stream",
          "name": "stderr",
          "text": [
            "Epoch:   9%|▉         | 9/100 [04:01<40:46, 26.89s/epoch]"
          ]
        },
        {
          "output_type": "stream",
          "name": "stdout",
          "text": [
            "Epoch 008 | Learning rate 0.001000 | train normalized MSE  18.5292 | val normalized MSE  16.6081, | val MAE   2.2136 | val MSE  16.6081\n"
          ]
        },
        {
          "output_type": "stream",
          "name": "stderr",
          "text": [
            "Epoch:  10%|█         | 10/100 [04:28<40:13, 26.82s/epoch]"
          ]
        },
        {
          "output_type": "stream",
          "name": "stdout",
          "text": [
            "Epoch 009 | Learning rate 0.001000 | train normalized MSE  18.2237 | val normalized MSE  19.6836, | val MAE   2.4774 | val MSE  19.6836\n"
          ]
        },
        {
          "output_type": "stream",
          "name": "stderr",
          "text": [
            "Epoch:  11%|█         | 11/100 [04:55<39:48, 26.84s/epoch]"
          ]
        },
        {
          "output_type": "stream",
          "name": "stdout",
          "text": [
            "Epoch 010 | Learning rate 0.001000 | train normalized MSE  18.0951 | val normalized MSE  18.9679, | val MAE   2.3672 | val MSE  18.9679\n"
          ]
        },
        {
          "output_type": "stream",
          "name": "stderr",
          "text": [
            "Epoch:  12%|█▏        | 12/100 [05:21<39:21, 26.83s/epoch]"
          ]
        },
        {
          "output_type": "stream",
          "name": "stdout",
          "text": [
            "Epoch 011 | Learning rate 0.001000 | train normalized MSE  17.6471 | val normalized MSE  15.6870, | val MAE   2.0764 | val MSE  15.6870\n"
          ]
        },
        {
          "output_type": "stream",
          "name": "stderr",
          "text": [
            "Epoch:  13%|█▎        | 13/100 [05:48<38:52, 26.81s/epoch]"
          ]
        },
        {
          "output_type": "stream",
          "name": "stdout",
          "text": [
            "Epoch 012 | Learning rate 0.001000 | train normalized MSE  16.9384 | val normalized MSE  15.3893, | val MAE   2.1109 | val MSE  15.3893\n"
          ]
        },
        {
          "output_type": "stream",
          "name": "stderr",
          "text": [
            "Epoch:  14%|█▍        | 14/100 [06:15<38:24, 26.80s/epoch]"
          ]
        },
        {
          "output_type": "stream",
          "name": "stdout",
          "text": [
            "Epoch 013 | Learning rate 0.001000 | train normalized MSE  16.7040 | val normalized MSE  15.0326, | val MAE   2.0354 | val MSE  15.0326\n"
          ]
        },
        {
          "output_type": "stream",
          "name": "stderr",
          "text": [
            "Epoch:  15%|█▌        | 15/100 [06:42<37:55, 26.78s/epoch]"
          ]
        },
        {
          "output_type": "stream",
          "name": "stdout",
          "text": [
            "Epoch 014 | Learning rate 0.001000 | train normalized MSE  16.8419 | val normalized MSE  15.1114, | val MAE   2.0373 | val MSE  15.1114\n"
          ]
        },
        {
          "output_type": "stream",
          "name": "stderr",
          "text": [
            "Epoch:  16%|█▌        | 16/100 [07:09<37:32, 26.82s/epoch]"
          ]
        },
        {
          "output_type": "stream",
          "name": "stdout",
          "text": [
            "Epoch 015 | Learning rate 0.001000 | train normalized MSE  16.3469 | val normalized MSE  14.4963, | val MAE   1.9514 | val MSE  14.4963\n"
          ]
        },
        {
          "output_type": "stream",
          "name": "stderr",
          "text": [
            "Epoch:  17%|█▋        | 17/100 [07:35<37:06, 26.83s/epoch]"
          ]
        },
        {
          "output_type": "stream",
          "name": "stdout",
          "text": [
            "Epoch 016 | Learning rate 0.001000 | train normalized MSE  16.3260 | val normalized MSE  15.9908, | val MAE   2.2047 | val MSE  15.9908\n"
          ]
        },
        {
          "output_type": "stream",
          "name": "stderr",
          "text": [
            "Epoch:  18%|█▊        | 18/100 [08:02<36:42, 26.86s/epoch]"
          ]
        },
        {
          "output_type": "stream",
          "name": "stdout",
          "text": [
            "Epoch 017 | Learning rate 0.001000 | train normalized MSE  16.0569 | val normalized MSE  14.6305, | val MAE   2.1361 | val MSE  14.6305\n"
          ]
        },
        {
          "output_type": "stream",
          "name": "stderr",
          "text": [
            "Epoch:  19%|█▉        | 19/100 [08:29<36:12, 26.82s/epoch]"
          ]
        },
        {
          "output_type": "stream",
          "name": "stdout",
          "text": [
            "Epoch 018 | Learning rate 0.001000 | train normalized MSE  15.9675 | val normalized MSE  14.0568, | val MAE   1.9319 | val MSE  14.0568\n"
          ]
        },
        {
          "output_type": "stream",
          "name": "stderr",
          "text": [
            "Epoch:  20%|██        | 20/100 [08:56<35:43, 26.80s/epoch]"
          ]
        },
        {
          "output_type": "stream",
          "name": "stdout",
          "text": [
            "Epoch 019 | Learning rate 0.000750 | train normalized MSE  15.8549 | val normalized MSE  14.8430, | val MAE   2.0306 | val MSE  14.8430\n"
          ]
        },
        {
          "output_type": "stream",
          "name": "stderr",
          "text": [
            "Epoch:  21%|██        | 21/100 [09:23<35:19, 26.83s/epoch]"
          ]
        },
        {
          "output_type": "stream",
          "name": "stdout",
          "text": [
            "Epoch 020 | Learning rate 0.000750 | train normalized MSE  14.9760 | val normalized MSE  13.1223, | val MAE   1.8347 | val MSE  13.1223\n"
          ]
        },
        {
          "output_type": "stream",
          "name": "stderr",
          "text": [
            "Epoch:  22%|██▏       | 22/100 [09:50<34:53, 26.84s/epoch]"
          ]
        },
        {
          "output_type": "stream",
          "name": "stdout",
          "text": [
            "Epoch 021 | Learning rate 0.000750 | train normalized MSE  14.8338 | val normalized MSE  14.3009, | val MAE   1.9314 | val MSE  14.3010\n"
          ]
        },
        {
          "output_type": "stream",
          "name": "stderr",
          "text": [
            "Epoch:  23%|██▎       | 23/100 [10:16<34:23, 26.80s/epoch]"
          ]
        },
        {
          "output_type": "stream",
          "name": "stdout",
          "text": [
            "Epoch 022 | Learning rate 0.000750 | train normalized MSE  14.5235 | val normalized MSE  13.4135, | val MAE   1.8839 | val MSE  13.4135\n"
          ]
        },
        {
          "output_type": "stream",
          "name": "stderr",
          "text": [
            "Epoch:  24%|██▍       | 24/100 [10:43<33:49, 26.71s/epoch]"
          ]
        },
        {
          "output_type": "stream",
          "name": "stdout",
          "text": [
            "Epoch 023 | Learning rate 0.000750 | train normalized MSE  14.5236 | val normalized MSE  12.9558, | val MAE   1.8845 | val MSE  12.9558\n"
          ]
        },
        {
          "output_type": "stream",
          "name": "stderr",
          "text": [
            "Epoch:  25%|██▌       | 25/100 [11:09<33:18, 26.64s/epoch]"
          ]
        },
        {
          "output_type": "stream",
          "name": "stdout",
          "text": [
            "Epoch 024 | Learning rate 0.000750 | train normalized MSE  14.5388 | val normalized MSE  13.5388, | val MAE   1.9121 | val MSE  13.5388\n"
          ]
        },
        {
          "output_type": "stream",
          "name": "stderr",
          "text": [
            "Epoch:  26%|██▌       | 26/100 [11:36<32:54, 26.68s/epoch]"
          ]
        },
        {
          "output_type": "stream",
          "name": "stdout",
          "text": [
            "Epoch 025 | Learning rate 0.000750 | train normalized MSE  14.4978 | val normalized MSE  13.4251, | val MAE   1.8950 | val MSE  13.4251\n"
          ]
        },
        {
          "output_type": "stream",
          "name": "stderr",
          "text": [
            "Epoch:  27%|██▋       | 27/100 [12:03<32:29, 26.70s/epoch]"
          ]
        },
        {
          "output_type": "stream",
          "name": "stdout",
          "text": [
            "Epoch 026 | Learning rate 0.000750 | train normalized MSE  14.4102 | val normalized MSE  13.2509, | val MAE   1.9301 | val MSE  13.2509\n"
          ]
        },
        {
          "output_type": "stream",
          "name": "stderr",
          "text": [
            "Epoch:  28%|██▊       | 28/100 [12:30<32:04, 26.74s/epoch]"
          ]
        },
        {
          "output_type": "stream",
          "name": "stdout",
          "text": [
            "Epoch 027 | Learning rate 0.000750 | train normalized MSE  14.2200 | val normalized MSE  13.7422, | val MAE   1.9619 | val MSE  13.7422\n"
          ]
        },
        {
          "output_type": "stream",
          "name": "stderr",
          "text": [
            "Epoch:  29%|██▉       | 29/100 [12:56<31:40, 26.77s/epoch]"
          ]
        },
        {
          "output_type": "stream",
          "name": "stdout",
          "text": [
            "Epoch 028 | Learning rate 0.000750 | train normalized MSE  14.1752 | val normalized MSE  13.9077, | val MAE   1.9773 | val MSE  13.9077\n"
          ]
        },
        {
          "output_type": "stream",
          "name": "stderr",
          "text": [
            "Epoch:  30%|███       | 30/100 [13:23<31:12, 26.75s/epoch]"
          ]
        },
        {
          "output_type": "stream",
          "name": "stdout",
          "text": [
            "Epoch 029 | Learning rate 0.000750 | train normalized MSE  14.0934 | val normalized MSE  13.0892, | val MAE   1.8236 | val MSE  13.0892\n"
          ]
        },
        {
          "output_type": "stream",
          "name": "stderr",
          "text": [
            "Epoch:  31%|███       | 31/100 [13:50<30:46, 26.76s/epoch]"
          ]
        },
        {
          "output_type": "stream",
          "name": "stdout",
          "text": [
            "Epoch 030 | Learning rate 0.000750 | train normalized MSE  14.2700 | val normalized MSE  12.8904, | val MAE   1.8912 | val MSE  12.8904\n"
          ]
        },
        {
          "output_type": "stream",
          "name": "stderr",
          "text": [
            "Epoch:  32%|███▏      | 32/100 [14:17<30:21, 26.78s/epoch]"
          ]
        },
        {
          "output_type": "stream",
          "name": "stdout",
          "text": [
            "Epoch 031 | Learning rate 0.000750 | train normalized MSE  14.2485 | val normalized MSE  12.7603, | val MAE   1.8155 | val MSE  12.7603\n"
          ]
        },
        {
          "output_type": "stream",
          "name": "stderr",
          "text": [
            "Epoch:  33%|███▎      | 33/100 [14:44<29:55, 26.80s/epoch]"
          ]
        },
        {
          "output_type": "stream",
          "name": "stdout",
          "text": [
            "Epoch 032 | Learning rate 0.000750 | train normalized MSE  14.0378 | val normalized MSE  13.0273, | val MAE   1.8561 | val MSE  13.0273\n"
          ]
        },
        {
          "output_type": "stream",
          "name": "stderr",
          "text": [
            "Epoch:  34%|███▍      | 34/100 [15:10<29:29, 26.81s/epoch]"
          ]
        },
        {
          "output_type": "stream",
          "name": "stdout",
          "text": [
            "Epoch 033 | Learning rate 0.000750 | train normalized MSE  13.9209 | val normalized MSE  12.7406, | val MAE   1.8892 | val MSE  12.7406\n"
          ]
        },
        {
          "output_type": "stream",
          "name": "stderr",
          "text": [
            "Epoch:  35%|███▌      | 35/100 [15:37<29:00, 26.78s/epoch]"
          ]
        },
        {
          "output_type": "stream",
          "name": "stdout",
          "text": [
            "Epoch 034 | Learning rate 0.000750 | train normalized MSE  13.8881 | val normalized MSE  13.6669, | val MAE   1.8937 | val MSE  13.6669\n"
          ]
        },
        {
          "output_type": "stream",
          "name": "stderr",
          "text": [
            "Epoch:  36%|███▌      | 36/100 [16:04<28:31, 26.74s/epoch]"
          ]
        },
        {
          "output_type": "stream",
          "name": "stdout",
          "text": [
            "Epoch 035 | Learning rate 0.000750 | train normalized MSE  13.9760 | val normalized MSE  13.2591, | val MAE   1.9283 | val MSE  13.2592\n"
          ]
        },
        {
          "output_type": "stream",
          "name": "stderr",
          "text": [
            "Epoch:  37%|███▋      | 37/100 [16:31<28:07, 26.79s/epoch]"
          ]
        },
        {
          "output_type": "stream",
          "name": "stdout",
          "text": [
            "Epoch 036 | Learning rate 0.000750 | train normalized MSE  14.0418 | val normalized MSE  12.6121, | val MAE   1.8402 | val MSE  12.6121\n"
          ]
        },
        {
          "output_type": "stream",
          "name": "stderr",
          "text": [
            "Epoch:  38%|███▊      | 38/100 [16:58<27:41, 26.80s/epoch]"
          ]
        },
        {
          "output_type": "stream",
          "name": "stdout",
          "text": [
            "Epoch 037 | Learning rate 0.000750 | train normalized MSE  13.8089 | val normalized MSE  13.0942, | val MAE   1.8895 | val MSE  13.0942\n"
          ]
        },
        {
          "output_type": "stream",
          "name": "stderr",
          "text": [
            "Epoch:  39%|███▉      | 39/100 [17:24<27:14, 26.79s/epoch]"
          ]
        },
        {
          "output_type": "stream",
          "name": "stdout",
          "text": [
            "Epoch 038 | Learning rate 0.000750 | train normalized MSE  13.7812 | val normalized MSE  13.8312, | val MAE   1.9305 | val MSE  13.8312\n"
          ]
        },
        {
          "output_type": "stream",
          "name": "stderr",
          "text": [
            "Epoch:  40%|████      | 40/100 [17:51<26:48, 26.81s/epoch]"
          ]
        },
        {
          "output_type": "stream",
          "name": "stdout",
          "text": [
            "Epoch 039 | Learning rate 0.000563 | train normalized MSE  13.8017 | val normalized MSE  13.1377, | val MAE   1.8963 | val MSE  13.1377\n"
          ]
        },
        {
          "output_type": "stream",
          "name": "stderr",
          "text": [
            "Epoch:  41%|████      | 41/100 [18:18<26:17, 26.73s/epoch]"
          ]
        },
        {
          "output_type": "stream",
          "name": "stdout",
          "text": [
            "Epoch 040 | Learning rate 0.000563 | train normalized MSE  13.2092 | val normalized MSE  12.0462, | val MAE   1.7380 | val MSE  12.0462\n"
          ]
        },
        {
          "output_type": "stream",
          "name": "stderr",
          "text": [
            "Epoch:  42%|████▏     | 42/100 [18:45<25:51, 26.75s/epoch]"
          ]
        },
        {
          "output_type": "stream",
          "name": "stdout",
          "text": [
            "Epoch 041 | Learning rate 0.000563 | train normalized MSE  13.3435 | val normalized MSE  12.8252, | val MAE   1.8333 | val MSE  12.8252\n"
          ]
        },
        {
          "output_type": "stream",
          "name": "stderr",
          "text": [
            "Epoch:  43%|████▎     | 43/100 [19:11<25:24, 26.75s/epoch]"
          ]
        },
        {
          "output_type": "stream",
          "name": "stdout",
          "text": [
            "Epoch 042 | Learning rate 0.000563 | train normalized MSE  13.1449 | val normalized MSE  12.1733, | val MAE   1.7331 | val MSE  12.1733\n"
          ]
        },
        {
          "output_type": "stream",
          "name": "stderr",
          "text": [
            "Epoch:  44%|████▍     | 44/100 [19:38<24:59, 26.77s/epoch]"
          ]
        },
        {
          "output_type": "stream",
          "name": "stdout",
          "text": [
            "Epoch 043 | Learning rate 0.000563 | train normalized MSE  12.9530 | val normalized MSE  11.9996, | val MAE   1.7423 | val MSE  11.9996\n"
          ]
        },
        {
          "output_type": "stream",
          "name": "stderr",
          "text": [
            "Epoch:  45%|████▌     | 45/100 [20:05<24:32, 26.77s/epoch]"
          ]
        },
        {
          "output_type": "stream",
          "name": "stdout",
          "text": [
            "Epoch 044 | Learning rate 0.000563 | train normalized MSE  13.0258 | val normalized MSE  12.5727, | val MAE   1.7522 | val MSE  12.5727\n"
          ]
        },
        {
          "output_type": "stream",
          "name": "stderr",
          "text": [
            "Epoch:  46%|████▌     | 46/100 [20:31<24:01, 26.70s/epoch]"
          ]
        },
        {
          "output_type": "stream",
          "name": "stdout",
          "text": [
            "Epoch 045 | Learning rate 0.000563 | train normalized MSE  12.8591 | val normalized MSE  12.0237, | val MAE   1.7559 | val MSE  12.0237\n"
          ]
        },
        {
          "output_type": "stream",
          "name": "stderr",
          "text": [
            "Epoch:  47%|████▋     | 47/100 [20:58<23:30, 26.62s/epoch]"
          ]
        },
        {
          "output_type": "stream",
          "name": "stdout",
          "text": [
            "Epoch 046 | Learning rate 0.000563 | train normalized MSE  12.7244 | val normalized MSE  11.8543, | val MAE   1.7030 | val MSE  11.8543\n"
          ]
        },
        {
          "output_type": "stream",
          "name": "stderr",
          "text": [
            "Epoch:  48%|████▊     | 48/100 [21:24<23:00, 26.56s/epoch]"
          ]
        },
        {
          "output_type": "stream",
          "name": "stdout",
          "text": [
            "Epoch 047 | Learning rate 0.000563 | train normalized MSE  12.7487 | val normalized MSE  11.6994, | val MAE   1.7271 | val MSE  11.6994\n"
          ]
        },
        {
          "output_type": "stream",
          "name": "stderr",
          "text": [
            "Epoch:  49%|████▉     | 49/100 [21:51<22:37, 26.61s/epoch]"
          ]
        },
        {
          "output_type": "stream",
          "name": "stdout",
          "text": [
            "Epoch 048 | Learning rate 0.000563 | train normalized MSE  12.7981 | val normalized MSE  12.2135, | val MAE   1.8074 | val MSE  12.2135\n"
          ]
        },
        {
          "output_type": "stream",
          "name": "stderr",
          "text": [
            "Epoch:  50%|█████     | 50/100 [22:18<22:12, 26.65s/epoch]"
          ]
        },
        {
          "output_type": "stream",
          "name": "stdout",
          "text": [
            "Epoch 049 | Learning rate 0.000563 | train normalized MSE  12.8571 | val normalized MSE  11.3482, | val MAE   1.6792 | val MSE  11.3482\n"
          ]
        },
        {
          "output_type": "stream",
          "name": "stderr",
          "text": [
            "Epoch:  51%|█████     | 51/100 [22:44<21:47, 26.68s/epoch]"
          ]
        },
        {
          "output_type": "stream",
          "name": "stdout",
          "text": [
            "Epoch 050 | Learning rate 0.000563 | train normalized MSE  12.7215 | val normalized MSE  12.2553, | val MAE   1.7799 | val MSE  12.2553\n"
          ]
        },
        {
          "output_type": "stream",
          "name": "stderr",
          "text": [
            "Epoch:  52%|█████▏    | 52/100 [23:11<21:23, 26.73s/epoch]"
          ]
        },
        {
          "output_type": "stream",
          "name": "stdout",
          "text": [
            "Epoch 051 | Learning rate 0.000563 | train normalized MSE  12.7897 | val normalized MSE  11.8608, | val MAE   1.8030 | val MSE  11.8608\n"
          ]
        },
        {
          "output_type": "stream",
          "name": "stderr",
          "text": [
            "Epoch:  53%|█████▎    | 53/100 [23:38<20:56, 26.73s/epoch]"
          ]
        },
        {
          "output_type": "stream",
          "name": "stdout",
          "text": [
            "Epoch 052 | Learning rate 0.000563 | train normalized MSE  12.9315 | val normalized MSE  11.6881, | val MAE   1.7178 | val MSE  11.6881\n"
          ]
        },
        {
          "output_type": "stream",
          "name": "stderr",
          "text": [
            "Epoch:  54%|█████▍    | 54/100 [24:05<20:27, 26.68s/epoch]"
          ]
        },
        {
          "output_type": "stream",
          "name": "stdout",
          "text": [
            "Epoch 053 | Learning rate 0.000563 | train normalized MSE  12.7650 | val normalized MSE  11.5555, | val MAE   1.7353 | val MSE  11.5555\n"
          ]
        },
        {
          "output_type": "stream",
          "name": "stderr",
          "text": [
            "Epoch:  55%|█████▌    | 55/100 [24:31<20:00, 26.69s/epoch]"
          ]
        },
        {
          "output_type": "stream",
          "name": "stdout",
          "text": [
            "Epoch 054 | Learning rate 0.000563 | train normalized MSE  12.8535 | val normalized MSE  11.5700, | val MAE   1.7097 | val MSE  11.5700\n"
          ]
        },
        {
          "output_type": "stream",
          "name": "stderr",
          "text": [
            "Epoch:  56%|█████▌    | 56/100 [24:58<19:35, 26.72s/epoch]"
          ]
        },
        {
          "output_type": "stream",
          "name": "stdout",
          "text": [
            "Epoch 055 | Learning rate 0.000563 | train normalized MSE  12.6456 | val normalized MSE  12.1141, | val MAE   1.7565 | val MSE  12.1141\n"
          ]
        },
        {
          "output_type": "stream",
          "name": "stderr",
          "text": [
            "Epoch:  57%|█████▋    | 57/100 [25:25<19:09, 26.74s/epoch]"
          ]
        },
        {
          "output_type": "stream",
          "name": "stdout",
          "text": [
            "Epoch 056 | Learning rate 0.000563 | train normalized MSE  12.7301 | val normalized MSE  12.1890, | val MAE   1.7764 | val MSE  12.1890\n"
          ]
        },
        {
          "output_type": "stream",
          "name": "stderr",
          "text": [
            "Epoch:  58%|█████▊    | 58/100 [25:52<18:43, 26.76s/epoch]"
          ]
        },
        {
          "output_type": "stream",
          "name": "stdout",
          "text": [
            "Epoch 057 | Learning rate 0.000563 | train normalized MSE  12.5996 | val normalized MSE  11.7170, | val MAE   1.7394 | val MSE  11.7170\n"
          ]
        },
        {
          "output_type": "stream",
          "name": "stderr",
          "text": [
            "Epoch:  59%|█████▉    | 59/100 [26:19<18:17, 26.78s/epoch]"
          ]
        },
        {
          "output_type": "stream",
          "name": "stdout",
          "text": [
            "Epoch 058 | Learning rate 0.000563 | train normalized MSE  12.7313 | val normalized MSE  13.0366, | val MAE   1.8004 | val MSE  13.0366\n"
          ]
        },
        {
          "output_type": "stream",
          "name": "stderr",
          "text": [
            "Epoch:  59%|█████▉    | 59/100 [26:45<18:35, 27.21s/epoch]"
          ]
        },
        {
          "output_type": "stream",
          "name": "stdout",
          "text": [
            "Epoch 059 | Learning rate 0.000422 | train normalized MSE  12.8282 | val normalized MSE  11.7551, | val MAE   1.7402 | val MSE  11.7551\n",
            "Early stop!\n"
          ]
        },
        {
          "output_type": "stream",
          "name": "stderr",
          "text": [
            "\n"
          ]
        }
      ]
    },
    {
      "cell_type": "code",
      "source": [
        "test_dataset = TrajectoryDatasetTest(test_data, scale=scale)\n",
        "test_loader = DataLoader(test_dataset, batch_size=32, shuffle=False,\n",
        "                         collate_fn=lambda xs: Batch.from_data_list(xs))\n",
        "\n",
        "best_model = torch.load(\"best_model.pt\")\n",
        "model = SocialLSTM(\n",
        "    input_dim=6,\n",
        "    hidden_dim=256,\n",
        "    pred_len=60,\n",
        "    dropout=0.1,\n",
        ").to(device)\n",
        "\n",
        "model.load_state_dict(best_model)\n",
        "model.eval()\n",
        "\n",
        "pred_list = []\n",
        "with torch.no_grad():\n",
        "    for batch in test_loader:\n",
        "        batch = batch.to(device)\n",
        "        pred_norm = model(batch)\n",
        "\n",
        "        # Reshape the prediction to (N, 60, 2)\n",
        "        pred = pred_norm * batch.scale.view(-1,1,1) + batch.origin.unsqueeze(1)\n",
        "        pred_list.append(pred.cpu().numpy())\n",
        "pred_list = np.concatenate(pred_list, axis=0)  # (N,60,2)\n",
        "pred_output = pred_list.reshape(-1, 2)  # (N*60, 2)\n",
        "output_df = pd.DataFrame(pred_output, columns=['x', 'y'])\n",
        "output_df.index.name = 'index'\n",
        "output_df.to_csv('submission.csv', index=True)"
      ],
      "metadata": {
        "id": "KG2Ur1JKZ5wm"
      },
      "execution_count": 49,
      "outputs": []
    },
    {
      "cell_type": "code",
      "source": [
        "import math\n",
        "import torch\n",
        "import torch.nn as nn\n",
        "import torch.nn.functional as F\n",
        "from torch.optim.lr_scheduler import CosineAnnealingLR, LambdaLR\n",
        "\n",
        "# -------------------\n",
        "# 1) Positional Encoding 同上，不变\n",
        "# -------------------\n",
        "class PositionalEncoding(nn.Module):\n",
        "    def __init__(self, d_model: int, max_len: int = 500):\n",
        "        super().__init__()\n",
        "        pe = torch.zeros(max_len, d_model)\n",
        "        position = torch.arange(0, max_len, dtype=torch.float32).unsqueeze(1)\n",
        "        div_term = torch.exp(\n",
        "            torch.arange(0, d_model, 2, dtype=torch.float32) * (-math.log(10000.0) / d_model)\n",
        "        )\n",
        "        pe[:, 0::2] = torch.sin(position * div_term)\n",
        "        pe[:, 1::2] = torch.cos(position * div_term)\n",
        "        pe = pe.unsqueeze(0)\n",
        "        self.register_buffer('pe', pe)\n",
        "\n",
        "    def forward(self, x: torch.Tensor) -> torch.Tensor:\n",
        "        seq_len = x.size(1)\n",
        "        return x + self.pe[:, :seq_len, :]\n",
        "\n",
        "\n",
        "# -------------------\n",
        "# 2) Social Attention with Top‐K neighbors + 双层\n",
        "# -------------------\n",
        "class SocialTransformerAttention(nn.Module):\n",
        "    def __init__(self, hidden_dim: int, num_heads: int = 8, dropout: float = 0.1, topk: int = 10):\n",
        "        super().__init__()\n",
        "        self.hidden_dim = hidden_dim\n",
        "        self.topk = topk\n",
        "\n",
        "        self.attn = nn.MultiheadAttention(\n",
        "            embed_dim=hidden_dim,\n",
        "            num_heads=num_heads,\n",
        "            batch_first=True,\n",
        "            dropout=dropout\n",
        "        )\n",
        "        self.pos_proj = nn.Linear(3, hidden_dim)\n",
        "        self.ln1 = nn.LayerNorm(hidden_dim)\n",
        "        self.ln2 = nn.LayerNorm(hidden_dim)\n",
        "        self.ffn = nn.Sequential(\n",
        "            nn.Linear(hidden_dim, hidden_dim * 4),\n",
        "            nn.ReLU(),\n",
        "            nn.Dropout(dropout),\n",
        "            nn.Linear(hidden_dim * 4, hidden_dim),\n",
        "        )\n",
        "        self.dropout = nn.Dropout(dropout)\n",
        "\n",
        "    def forward(self, ego_feat, other_feats, ego_pos, other_pos, mask=None):\n",
        "        \"\"\"\n",
        "        ego_feat  : (B, H)\n",
        "        other_feats: (B, N, H)\n",
        "        ego_pos   : (B, 2)\n",
        "        other_pos : (B, N, 2)\n",
        "        mask      : (B, N) - True 表示屏蔽\n",
        "        \"\"\"\n",
        "        B, N, H = other_feats.shape\n",
        "\n",
        "        # 1) 先用 Top‐K 的方式动态挑最近的 neighbors\n",
        "        #    如果 mask 已经标了很远/全零的也在 True，那只管还剩多少？我们尽量从剩余的里再取 topK\n",
        "        with torch.no_grad():\n",
        "            dist_all = torch.norm(other_pos - ego_pos.unsqueeze(1), dim=-1)  # (B, N)\n",
        "            if mask is not None:\n",
        "                dist_all = dist_all.masked_fill(mask, float('inf'))  # 把被 mask 的设为 +∞\n",
        "            # 取最近 topk 个\n",
        "            topk_vals, topk_idx = torch.topk(dist_all, k=min(self.topk, N), largest=False)  # (B, topk)\n",
        "\n",
        "            # 构造一个 new_mask，使得 **不** 在 topk_idx 内的都变 True\n",
        "            new_mask = torch.ones((B, N), device=other_feats.device, dtype=torch.bool)\n",
        "            arange_b = torch.arange(B, device=other_feats.device).unsqueeze(1)  # (B,1)\n",
        "            new_mask[arange_b, topk_idx] = False\n",
        "            # 合并之前的 mask\n",
        "            if mask is not None:\n",
        "                mask = mask | new_mask\n",
        "            else:\n",
        "                mask = new_mask\n",
        "\n",
        "        # 2) Query / Key / Value\n",
        "        q = ego_feat.unsqueeze(1)  # (B,1,H)\n",
        "        k = other_feats            # (B,N,H)\n",
        "        v = other_feats            # (B,N,H)\n",
        "\n",
        "        # 3) 相对位置编码\n",
        "        rel_pos = other_pos - ego_pos.unsqueeze(1)       # (B,N,2)\n",
        "        dist = torch.norm(rel_pos, dim=-1, keepdim=True) # (B,N,1)\n",
        "        pos_embed = torch.cat([rel_pos, dist], dim=-1)   # (B,N,3)\n",
        "        pos_bias = self.pos_proj(pos_embed)              # (B,N,H)\n",
        "        k = k + pos_bias\n",
        "        v = v + pos_bias\n",
        "\n",
        "        # 4) 防止全 mask 导致 nan\n",
        "        all_masked = mask.all(dim=1)\n",
        "        if all_masked.any():\n",
        "            mask[all_masked, 0] = False\n",
        "\n",
        "        # 5) MultiHeadAttention\n",
        "        attn_out, _ = self.attn(q, k, v, key_padding_mask=mask)  # (B,1,H)\n",
        "        out = attn_out.squeeze(1)                                 # (B,H)\n",
        "        out = self.ln1(ego_feat + self.dropout(out))\n",
        "\n",
        "        # 6) FFN + 残差 + LayerNorm\n",
        "        ff = self.ffn(out)\n",
        "        out = self.ln2(out + self.dropout(ff))\n",
        "\n",
        "        return out  # (B,H)\n",
        "\n",
        "\n",
        "# -------------------\n",
        "# 3) 主干网络：更深的 TransformerEncoder + 2 层 Social Attention + 融合 FFN\n",
        "# -------------------\n",
        "class SocialTransformerPredictor(nn.Module):\n",
        "    def __init__(self,\n",
        "                 input_dim: int = 5,      # 现在你只用 (x,y,vx,vy,ax) 共5维\n",
        "                 hidden_dim: int = 512,   # 加大到 512\n",
        "                 pred_len: int = 60,\n",
        "                 num_agents: int = 50,\n",
        "                 seq_len: int = 50,\n",
        "                 num_heads: int = 4,\n",
        "                 enc_layers: int = 4,     # 深度改成 4\n",
        "                 dropout: float = 0.1,\n",
        "                 neighbor_threshold: float = 10.0,\n",
        "                 scale: float = 1.0,\n",
        "                 topk: int = 10):         # 只选最近 10 个邻居\n",
        "        super().__init__()\n",
        "        self.hidden_dim = hidden_dim\n",
        "        self.pred_len = pred_len\n",
        "        self.num_agents = num_agents\n",
        "        self.seq_len = seq_len\n",
        "        self.neighbor_threshold = neighbor_threshold\n",
        "        self.scale = scale\n",
        "\n",
        "        # 3.1) 时序编码：Linear→PosEnc→TransformerEncoder\n",
        "        self.input_proj = nn.Linear(input_dim, hidden_dim)\n",
        "        self.pos_enc = PositionalEncoding(d_model=hidden_dim, max_len=seq_len)\n",
        "\n",
        "        encoder_layer = nn.TransformerEncoderLayer(\n",
        "            d_model=hidden_dim,\n",
        "            nhead=num_heads,\n",
        "            dim_feedforward=hidden_dim * 4,\n",
        "            dropout=dropout,\n",
        "            batch_first=True\n",
        "        )\n",
        "        self.transformer_encoder = nn.TransformerEncoder(\n",
        "            encoder_layer,\n",
        "            num_layers=enc_layers\n",
        "        )\n",
        "        self.temporal_ln = nn.LayerNorm(hidden_dim)\n",
        "\n",
        "        # 3.2) Social Attention：两层串联\n",
        "        self.social_attn1 = SocialTransformerAttention(\n",
        "            hidden_dim=hidden_dim,\n",
        "            num_heads=num_heads,\n",
        "            dropout=dropout,\n",
        "            topk=topk\n",
        "        )\n",
        "        self.social_attn2 = SocialTransformerAttention(\n",
        "            hidden_dim=hidden_dim,\n",
        "            num_heads=num_heads,\n",
        "            dropout=dropout,\n",
        "            topk=topk\n",
        "        )\n",
        "\n",
        "        # 3.3) 融合后再过一个小 FFN\n",
        "        self.fusion_ln = nn.LayerNorm(hidden_dim * 2)\n",
        "        self.fusion_dropout = nn.Dropout(dropout)\n",
        "        self.fusion_ffn = nn.Sequential(\n",
        "            nn.Linear(hidden_dim * 2, hidden_dim * 2),\n",
        "            nn.ReLU(),\n",
        "            nn.Dropout(dropout),\n",
        "            nn.Linear(hidden_dim * 2, hidden_dim * 2)\n",
        "        )\n",
        "\n",
        "        # 3.4) 最终 MLP Head\n",
        "        self.head = nn.Sequential(\n",
        "            nn.Linear(hidden_dim * 2, hidden_dim * 4),\n",
        "            nn.ReLU(),\n",
        "            nn.Dropout(dropout),\n",
        "            nn.Linear(hidden_dim * 4, pred_len * 2)\n",
        "        )\n",
        "\n",
        "    def forward(self, data):\n",
        "        \"\"\"\n",
        "        data.x          : (B, A, T, 5)\n",
        "        data.num_graphs:  B\n",
        "        data.current_pos: (B, A, 2)\n",
        "        \"\"\"\n",
        "        x = data.x\n",
        "        B = data.num_graphs\n",
        "\n",
        "        # 1) reshape → (B, A, T, 5)\n",
        "        x = x.view(B, self.num_agents, self.seq_len, -1)\n",
        "\n",
        "        # 2) 提取当前帧位置 current_pos\n",
        "        if hasattr(data, 'current_pos'):\n",
        "            current_pos = data.current_pos       # (B,50,2)\n",
        "        else:\n",
        "            current_pos = x[:, :, -1, :2].contiguous()  # (B,50,2)\n",
        "\n",
        "        # 3) 时序编码：Linear→PosEnc→TransformerEncoder\n",
        "        x_flat    = x.view(B * self.num_agents, self.seq_len, -1)  # (B*50,50,5)\n",
        "        x_proj    = self.input_proj(x_flat)                        # (B*50,50,512)\n",
        "        x_enc     = self.pos_enc(x_proj)                            # (B*50,50,512)\n",
        "        x_encoded = self.transformer_encoder(x_enc)                 # (B*50,50,512)\n",
        "\n",
        "        # 4) 取最后一帧特征（也可以替换为 max pooling，或 concat 多种时序池化）\n",
        "        last_feat = x_encoded[:, -1, :]             # (B*50,512)\n",
        "        feats     = last_feat.view(B, self.num_agents, self.hidden_dim)  # (B,50,512)\n",
        "        feats     = self.temporal_ln(feats)         # LayerNorm\n",
        "\n",
        "        # 5) 分离 ego 与 others\n",
        "        ego_feat    = feats[:, 0, :]    # (B,512)\n",
        "        other_feats = feats[:, 1:, :]   # (B,49,512)\n",
        "\n",
        "        ego_pos     = current_pos[:, 0, :]   # (B,2)\n",
        "        other_pos   = current_pos[:, 1:, :]  # (B,49,2)\n",
        "\n",
        "        # 6) 构造距离 dist & TopK 掩码\n",
        "        dist_all = torch.norm(other_pos - ego_pos.unsqueeze(1), dim=-1)  # (B,49)\n",
        "        threshold = self.neighbor_threshold / self.scale\n",
        "        hard_mask = dist_all > threshold                 # (B,49)\n",
        "        base_mask = hard_mask.to(feats.device)           # 只用距离mask\n",
        "\n",
        "        # 7) 第一层 Social Attention\n",
        "        updated_1 = self.social_attn1(\n",
        "            ego_feat, other_feats, ego_pos, other_pos, mask=base_mask\n",
        "        )  # (B,512)\n",
        "\n",
        "        # 8) 第二层 Social Attention （用刚刚 updated_1 做新 ego_feat）\n",
        "        updated_2 = self.social_attn2(\n",
        "            updated_1, other_feats, ego_pos, other_pos, mask=base_mask\n",
        "        )  # (B,512)\n",
        "\n",
        "        # 9) 融合：把原始 ego_feat 与 updated_2 拼接\n",
        "        fusion = torch.cat([ego_feat, updated_2], dim=-1)  # (B,1024)\n",
        "        fusion = self.fusion_ln(fusion)\n",
        "        fusion = self.fusion_dropout(fusion)\n",
        "        ff_out = self.fusion_ffn(fusion)\n",
        "        fusion = F.relu(fusion + ff_out)  # (B,1024)\n",
        "\n",
        "        # 10) Head → (B, pred_len*2) → reshape → (B, pred_len, 2)\n",
        "        out = self.head(fusion)\n",
        "        out = out.view(B, self.pred_len, 2)\n",
        "        return out\n"
      ],
      "metadata": {
        "id": "SGr96eqrApXa"
      },
      "execution_count": 9,
      "outputs": []
    },
    {
      "cell_type": "code",
      "source": [
        "model = SocialTransformerPredictor(\n",
        "    input_dim=6,\n",
        "    hidden_dim=256,\n",
        "    pred_len=60,\n",
        "    num_agents=50,\n",
        "    seq_len=50,\n",
        "    num_heads=2,\n",
        "    enc_layers=2,\n",
        "    dropout=0.1,\n",
        "    neighbor_threshold=10.0,\n",
        "    scale=1.0,\n",
        "    topk=10\n",
        ").to(device)\n",
        "optimizer = optim.Adam(model.parameters(), lr=1e-4, weight_decay=1e-5)\n",
        "scheduler = optim.lr_scheduler.StepLR(optimizer, step_size=20, gamma=0.75) # You can try different schedulers\n",
        "early_stopping_patience = 10\n",
        "best_val_loss = float('inf')\n",
        "no_improvement = 0\n",
        "criterion = nn.MSELoss()"
      ],
      "metadata": {
        "id": "heQDpidu_jM3"
      },
      "execution_count": 12,
      "outputs": []
    },
    {
      "cell_type": "code",
      "source": [
        "for epoch in tqdm.tqdm(range(100), desc=\"Epoch\", unit=\"epoch\"):\n",
        "    # ---- Training ----\n",
        "    model.train()\n",
        "    train_loss = 0\n",
        "    for batch in train_dataloader:\n",
        "        batch = batch.to(device)\n",
        "        pred = model(batch)\n",
        "        y = batch.y.view(batch.num_graphs, 60, 2)\n",
        "        loss = criterion(pred, y)\n",
        "        optimizer.zero_grad()\n",
        "        loss.backward()\n",
        "        torch.nn.utils.clip_grad_norm_(model.parameters(), 5.0)\n",
        "        optimizer.step()\n",
        "        train_loss += loss.item()\n",
        "\n",
        "    # ---- Validation ----\n",
        "    model.eval()\n",
        "    val_loss = 0\n",
        "    val_mae = 0\n",
        "    val_mse = 0\n",
        "    with torch.no_grad():\n",
        "        for batch in val_dataloader:\n",
        "            batch = batch.to(device)\n",
        "            pred = model(batch)\n",
        "            y = batch.y.view(batch.num_graphs, 60, 2)\n",
        "            val_loss += criterion(pred, y).item()\n",
        "\n",
        "            # show MAE and MSE with unnormalized data\n",
        "            pred = pred * batch.scale.view(-1, 1, 1) + batch.origin.unsqueeze(1)\n",
        "            y = y * batch.scale.view(-1, 1, 1) + batch.origin.unsqueeze(1)\n",
        "            val_mae += nn.L1Loss()(pred, y).item()\n",
        "            val_mse += nn.MSELoss()(pred, y).item()\n",
        "\n",
        "    train_loss /= len(train_dataloader)\n",
        "    val_loss /= len(val_dataloader)\n",
        "    val_mae /= len(val_dataloader)\n",
        "    val_mse /= len(val_dataloader)\n",
        "    scheduler.step()\n",
        "    # scheduler.step(val_loss)\n",
        "\n",
        "    tqdm.tqdm.write(f\"Epoch {epoch:03d} | Learning rate {optimizer.param_groups[0]['lr']:.6f} | train normalized MSE {train_loss:8.4f} | val normalized MSE {val_loss:8.4f}, | val MAE {val_mae:8.4f} | val MSE {val_mse:8.4f}\")\n",
        "    if val_loss < best_val_loss - 1e-3:\n",
        "        best_val_loss = val_loss\n",
        "        no_improvement = 0\n",
        "        torch.save(model.state_dict(), \"best_model.pt\")\n",
        "    else:\n",
        "        no_improvement += 1\n",
        "        if no_improvement >= early_stopping_patience:\n",
        "            print(\"Early stop!\")\n",
        "            break"
      ],
      "metadata": {
        "colab": {
          "base_uri": "https://localhost:8080/"
        },
        "id": "7Ws-Wc6ZaIcB",
        "outputId": "4a80deda-8807-41f5-c134-1437200572fd"
      },
      "execution_count": 13,
      "outputs": [
        {
          "output_type": "stream",
          "name": "stderr",
          "text": [
            "\rEpoch:   0%|          | 0/100 [00:00<?, ?epoch/s]<ipython-input-4-2409732783>:39: DeprecationWarning: __array_wrap__ must accept context and return_scalar arguments (positionally) in the future. (Deprecated NumPy 2.0)\n",
            "  future = future - origin\n",
            "<ipython-input-4-2409732783>:30: DeprecationWarning: __array_wrap__ must accept context and return_scalar arguments (positionally) in the future. (Deprecated NumPy 2.0)\n",
            "  future = future @ R\n",
            "Epoch:   1%|          | 1/100 [00:28<47:31, 28.80s/epoch]"
          ]
        },
        {
          "output_type": "stream",
          "name": "stdout",
          "text": [
            "Epoch 000 | Learning rate 0.000100 | train normalized MSE  92.9601 | val normalized MSE  18.3528, | val MAE   2.4280 | val MSE  18.3528\n"
          ]
        },
        {
          "output_type": "stream",
          "name": "stderr",
          "text": [
            "Epoch:   2%|▏         | 2/100 [00:57<46:51, 28.69s/epoch]"
          ]
        },
        {
          "output_type": "stream",
          "name": "stdout",
          "text": [
            "Epoch 001 | Learning rate 0.000100 | train normalized MSE  22.0859 | val normalized MSE  14.2802, | val MAE   2.1195 | val MSE  14.2802\n"
          ]
        },
        {
          "output_type": "stream",
          "name": "stderr",
          "text": [
            "Epoch:   3%|▎         | 3/100 [01:26<46:21, 28.67s/epoch]"
          ]
        },
        {
          "output_type": "stream",
          "name": "stdout",
          "text": [
            "Epoch 002 | Learning rate 0.000100 | train normalized MSE  18.2310 | val normalized MSE  13.2214, | val MAE   2.0725 | val MSE  13.2214\n"
          ]
        },
        {
          "output_type": "stream",
          "name": "stderr",
          "text": [
            "Epoch:   4%|▍         | 4/100 [01:54<45:54, 28.69s/epoch]"
          ]
        },
        {
          "output_type": "stream",
          "name": "stdout",
          "text": [
            "Epoch 003 | Learning rate 0.000100 | train normalized MSE  16.8202 | val normalized MSE  12.8164, | val MAE   1.9310 | val MSE  12.8164\n"
          ]
        },
        {
          "output_type": "stream",
          "name": "stderr",
          "text": [
            "Epoch:   5%|▌         | 5/100 [02:23<45:25, 28.68s/epoch]"
          ]
        },
        {
          "output_type": "stream",
          "name": "stdout",
          "text": [
            "Epoch 004 | Learning rate 0.000100 | train normalized MSE  15.6575 | val normalized MSE  13.4001, | val MAE   1.9481 | val MSE  13.4001\n"
          ]
        },
        {
          "output_type": "stream",
          "name": "stderr",
          "text": [
            "Epoch:   6%|▌         | 6/100 [02:52<44:57, 28.70s/epoch]"
          ]
        },
        {
          "output_type": "stream",
          "name": "stdout",
          "text": [
            "Epoch 005 | Learning rate 0.000100 | train normalized MSE  14.9806 | val normalized MSE  12.0607, | val MAE   1.9088 | val MSE  12.0607\n"
          ]
        },
        {
          "output_type": "stream",
          "name": "stderr",
          "text": [
            "Epoch:   7%|▋         | 7/100 [03:20<44:29, 28.70s/epoch]"
          ]
        },
        {
          "output_type": "stream",
          "name": "stdout",
          "text": [
            "Epoch 006 | Learning rate 0.000100 | train normalized MSE  14.7507 | val normalized MSE  12.0278, | val MAE   1.8395 | val MSE  12.0278\n"
          ]
        },
        {
          "output_type": "stream",
          "name": "stderr",
          "text": [
            "Epoch:   8%|▊         | 8/100 [03:49<43:58, 28.68s/epoch]"
          ]
        },
        {
          "output_type": "stream",
          "name": "stdout",
          "text": [
            "Epoch 007 | Learning rate 0.000100 | train normalized MSE  14.2540 | val normalized MSE  12.5609, | val MAE   1.8627 | val MSE  12.5609\n"
          ]
        },
        {
          "output_type": "stream",
          "name": "stderr",
          "text": [
            "Epoch:   9%|▉         | 9/100 [04:18<43:26, 28.64s/epoch]"
          ]
        },
        {
          "output_type": "stream",
          "name": "stdout",
          "text": [
            "Epoch 008 | Learning rate 0.000100 | train normalized MSE  14.2262 | val normalized MSE  11.5090, | val MAE   1.7533 | val MSE  11.5090\n"
          ]
        },
        {
          "output_type": "stream",
          "name": "stderr",
          "text": [
            "Epoch:  10%|█         | 10/100 [04:46<42:50, 28.57s/epoch]"
          ]
        },
        {
          "output_type": "stream",
          "name": "stdout",
          "text": [
            "Epoch 009 | Learning rate 0.000100 | train normalized MSE  13.9480 | val normalized MSE  11.5718, | val MAE   1.8940 | val MSE  11.5718\n"
          ]
        },
        {
          "output_type": "stream",
          "name": "stderr",
          "text": [
            "Epoch:  11%|█         | 11/100 [05:14<42:16, 28.50s/epoch]"
          ]
        },
        {
          "output_type": "stream",
          "name": "stdout",
          "text": [
            "Epoch 010 | Learning rate 0.000100 | train normalized MSE  13.8736 | val normalized MSE  12.1408, | val MAE   1.8350 | val MSE  12.1408\n"
          ]
        },
        {
          "output_type": "stream",
          "name": "stderr",
          "text": [
            "Epoch:  12%|█▏        | 12/100 [05:43<41:46, 28.48s/epoch]"
          ]
        },
        {
          "output_type": "stream",
          "name": "stdout",
          "text": [
            "Epoch 011 | Learning rate 0.000100 | train normalized MSE  13.6599 | val normalized MSE  11.3237, | val MAE   1.8002 | val MSE  11.3237\n"
          ]
        },
        {
          "output_type": "stream",
          "name": "stderr",
          "text": [
            "Epoch:  13%|█▎        | 13/100 [06:11<41:22, 28.54s/epoch]"
          ]
        },
        {
          "output_type": "stream",
          "name": "stdout",
          "text": [
            "Epoch 012 | Learning rate 0.000100 | train normalized MSE  13.6087 | val normalized MSE  11.0801, | val MAE   1.7486 | val MSE  11.0801\n"
          ]
        },
        {
          "output_type": "stream",
          "name": "stderr",
          "text": [
            "Epoch:  14%|█▍        | 14/100 [06:40<40:54, 28.54s/epoch]"
          ]
        },
        {
          "output_type": "stream",
          "name": "stdout",
          "text": [
            "Epoch 013 | Learning rate 0.000100 | train normalized MSE  13.5623 | val normalized MSE  11.9749, | val MAE   1.8263 | val MSE  11.9749\n"
          ]
        },
        {
          "output_type": "stream",
          "name": "stderr",
          "text": [
            "Epoch:  15%|█▌        | 15/100 [07:09<40:27, 28.56s/epoch]"
          ]
        },
        {
          "output_type": "stream",
          "name": "stdout",
          "text": [
            "Epoch 014 | Learning rate 0.000100 | train normalized MSE  13.2337 | val normalized MSE  11.5110, | val MAE   1.7691 | val MSE  11.5110\n"
          ]
        },
        {
          "output_type": "stream",
          "name": "stderr",
          "text": [
            "Epoch:  16%|█▌        | 16/100 [07:37<40:01, 28.59s/epoch]"
          ]
        },
        {
          "output_type": "stream",
          "name": "stdout",
          "text": [
            "Epoch 015 | Learning rate 0.000100 | train normalized MSE  13.3696 | val normalized MSE  11.2487, | val MAE   1.7288 | val MSE  11.2487\n"
          ]
        },
        {
          "output_type": "stream",
          "name": "stderr",
          "text": [
            "Epoch:  17%|█▋        | 17/100 [08:06<39:33, 28.60s/epoch]"
          ]
        },
        {
          "output_type": "stream",
          "name": "stdout",
          "text": [
            "Epoch 016 | Learning rate 0.000100 | train normalized MSE  12.9897 | val normalized MSE  11.8130, | val MAE   1.8057 | val MSE  11.8130\n"
          ]
        },
        {
          "output_type": "stream",
          "name": "stderr",
          "text": [
            "Epoch:  18%|█▊        | 18/100 [08:34<39:05, 28.60s/epoch]"
          ]
        },
        {
          "output_type": "stream",
          "name": "stdout",
          "text": [
            "Epoch 017 | Learning rate 0.000100 | train normalized MSE  13.0623 | val normalized MSE  10.3892, | val MAE   1.6400 | val MSE  10.3892\n"
          ]
        },
        {
          "output_type": "stream",
          "name": "stderr",
          "text": [
            "Epoch:  19%|█▉        | 19/100 [09:03<38:37, 28.62s/epoch]"
          ]
        },
        {
          "output_type": "stream",
          "name": "stdout",
          "text": [
            "Epoch 018 | Learning rate 0.000100 | train normalized MSE  12.6951 | val normalized MSE  11.3871, | val MAE   1.7832 | val MSE  11.3870\n"
          ]
        },
        {
          "output_type": "stream",
          "name": "stderr",
          "text": [
            "Epoch:  20%|██        | 20/100 [09:32<38:07, 28.59s/epoch]"
          ]
        },
        {
          "output_type": "stream",
          "name": "stdout",
          "text": [
            "Epoch 019 | Learning rate 0.000075 | train normalized MSE  12.7588 | val normalized MSE  11.3960, | val MAE   1.7510 | val MSE  11.3960\n"
          ]
        },
        {
          "output_type": "stream",
          "name": "stderr",
          "text": [
            "Epoch:  21%|██        | 21/100 [10:00<37:34, 28.54s/epoch]"
          ]
        },
        {
          "output_type": "stream",
          "name": "stdout",
          "text": [
            "Epoch 020 | Learning rate 0.000075 | train normalized MSE  12.2918 | val normalized MSE  11.1547, | val MAE   1.7519 | val MSE  11.1547\n"
          ]
        },
        {
          "output_type": "stream",
          "name": "stderr",
          "text": [
            "Epoch:  22%|██▏       | 22/100 [10:29<37:09, 28.58s/epoch]"
          ]
        },
        {
          "output_type": "stream",
          "name": "stdout",
          "text": [
            "Epoch 021 | Learning rate 0.000075 | train normalized MSE  11.9847 | val normalized MSE  10.9299, | val MAE   1.6299 | val MSE  10.9299\n"
          ]
        },
        {
          "output_type": "stream",
          "name": "stderr",
          "text": [
            "Epoch:  23%|██▎       | 23/100 [10:58<36:45, 28.64s/epoch]"
          ]
        },
        {
          "output_type": "stream",
          "name": "stdout",
          "text": [
            "Epoch 022 | Learning rate 0.000075 | train normalized MSE  11.9799 | val normalized MSE  11.5974, | val MAE   1.6886 | val MSE  11.5974\n"
          ]
        },
        {
          "output_type": "stream",
          "name": "stderr",
          "text": [
            "Epoch:  24%|██▍       | 24/100 [11:26<36:18, 28.67s/epoch]"
          ]
        },
        {
          "output_type": "stream",
          "name": "stdout",
          "text": [
            "Epoch 023 | Learning rate 0.000075 | train normalized MSE  11.9921 | val normalized MSE  10.3258, | val MAE   1.5935 | val MSE  10.3258\n"
          ]
        },
        {
          "output_type": "stream",
          "name": "stderr",
          "text": [
            "Epoch:  25%|██▌       | 25/100 [11:55<35:49, 28.66s/epoch]"
          ]
        },
        {
          "output_type": "stream",
          "name": "stdout",
          "text": [
            "Epoch 024 | Learning rate 0.000075 | train normalized MSE  12.1646 | val normalized MSE  11.7939, | val MAE   1.7338 | val MSE  11.7939\n"
          ]
        },
        {
          "output_type": "stream",
          "name": "stderr",
          "text": [
            "Epoch:  26%|██▌       | 26/100 [12:24<35:20, 28.65s/epoch]"
          ]
        },
        {
          "output_type": "stream",
          "name": "stdout",
          "text": [
            "Epoch 025 | Learning rate 0.000075 | train normalized MSE  11.7831 | val normalized MSE  11.6560, | val MAE   1.7852 | val MSE  11.6560\n"
          ]
        },
        {
          "output_type": "stream",
          "name": "stderr",
          "text": [
            "Epoch:  27%|██▋       | 27/100 [12:52<34:50, 28.64s/epoch]"
          ]
        },
        {
          "output_type": "stream",
          "name": "stdout",
          "text": [
            "Epoch 026 | Learning rate 0.000075 | train normalized MSE  11.8254 | val normalized MSE  11.4626, | val MAE   1.6836 | val MSE  11.4625\n"
          ]
        },
        {
          "output_type": "stream",
          "name": "stderr",
          "text": [
            "Epoch:  28%|██▊       | 28/100 [13:21<34:20, 28.62s/epoch]"
          ]
        },
        {
          "output_type": "stream",
          "name": "stdout",
          "text": [
            "Epoch 027 | Learning rate 0.000075 | train normalized MSE  11.7348 | val normalized MSE  11.0086, | val MAE   1.6269 | val MSE  11.0086\n"
          ]
        },
        {
          "output_type": "stream",
          "name": "stderr",
          "text": [
            "Epoch:  29%|██▉       | 29/100 [13:49<33:52, 28.62s/epoch]"
          ]
        },
        {
          "output_type": "stream",
          "name": "stdout",
          "text": [
            "Epoch 028 | Learning rate 0.000075 | train normalized MSE  11.6387 | val normalized MSE  10.6128, | val MAE   1.6722 | val MSE  10.6128\n"
          ]
        },
        {
          "output_type": "stream",
          "name": "stderr",
          "text": [
            "Epoch:  30%|███       | 30/100 [14:18<33:22, 28.60s/epoch]"
          ]
        },
        {
          "output_type": "stream",
          "name": "stdout",
          "text": [
            "Epoch 029 | Learning rate 0.000075 | train normalized MSE  11.8519 | val normalized MSE  10.3835, | val MAE   1.5556 | val MSE  10.3835\n"
          ]
        },
        {
          "output_type": "stream",
          "name": "stderr",
          "text": [
            "Epoch:  31%|███       | 31/100 [14:46<32:50, 28.56s/epoch]"
          ]
        },
        {
          "output_type": "stream",
          "name": "stdout",
          "text": [
            "Epoch 030 | Learning rate 0.000075 | train normalized MSE  11.6261 | val normalized MSE  10.5626, | val MAE   1.5778 | val MSE  10.5626\n"
          ]
        },
        {
          "output_type": "stream",
          "name": "stderr",
          "text": [
            "Epoch:  32%|███▏      | 32/100 [15:15<32:24, 28.60s/epoch]"
          ]
        },
        {
          "output_type": "stream",
          "name": "stdout",
          "text": [
            "Epoch 031 | Learning rate 0.000075 | train normalized MSE  11.8292 | val normalized MSE  12.1899, | val MAE   1.8424 | val MSE  12.1899\n"
          ]
        },
        {
          "output_type": "stream",
          "name": "stderr",
          "text": [
            "Epoch:  33%|███▎      | 33/100 [15:44<31:55, 28.59s/epoch]"
          ]
        },
        {
          "output_type": "stream",
          "name": "stdout",
          "text": [
            "Epoch 032 | Learning rate 0.000075 | train normalized MSE  11.7976 | val normalized MSE  10.7061, | val MAE   1.6482 | val MSE  10.7061\n"
          ]
        },
        {
          "output_type": "stream",
          "name": "stderr",
          "text": [
            "Epoch:  33%|███▎      | 33/100 [16:12<32:54, 29.48s/epoch]"
          ]
        },
        {
          "output_type": "stream",
          "name": "stdout",
          "text": [
            "Epoch 033 | Learning rate 0.000075 | train normalized MSE  11.6355 | val normalized MSE  10.9036, | val MAE   1.6445 | val MSE  10.9036\n",
            "Early stop!\n"
          ]
        },
        {
          "output_type": "stream",
          "name": "stderr",
          "text": [
            "\n"
          ]
        }
      ]
    },
    {
      "cell_type": "code",
      "source": [
        "test_dataset = TrajectoryDatasetTest(test_data, scale=scale)\n",
        "test_loader = DataLoader(test_dataset, batch_size=32, shuffle=False,\n",
        "                         collate_fn=lambda xs: Batch.from_data_list(xs))\n",
        "\n",
        "best_model = torch.load(\"best_model.pt\")\n",
        "model = SocialTransformerPredictor(\n",
        "    input_dim=6,\n",
        "    hidden_dim=256,\n",
        "    pred_len=60,\n",
        "    num_agents=50,\n",
        "    seq_len=50,\n",
        "    num_heads=2,\n",
        "    enc_layers=2,\n",
        "    dropout=0.1,\n",
        "    neighbor_threshold=10.0,\n",
        "    scale=1.0,\n",
        "    topk=10\n",
        ").to(device)\n",
        "\n",
        "model.load_state_dict(best_model)\n",
        "model.eval()\n",
        "\n",
        "pred_list = []\n",
        "with torch.no_grad():\n",
        "    for batch in test_loader:\n",
        "        batch = batch.to(device)\n",
        "        pred_norm = model(batch)\n",
        "\n",
        "        # Reshape the prediction to (N, 60, 2)\n",
        "        pred = pred_norm * batch.scale.view(-1,1,1) + batch.origin.unsqueeze(1)\n",
        "        pred_list.append(pred.cpu().numpy())\n",
        "pred_list = np.concatenate(pred_list, axis=0)  # (N,60,2)\n",
        "pred_output = pred_list.reshape(-1, 2)  # (N*60, 2)\n",
        "output_df = pd.DataFrame(pred_output, columns=['x', 'y'])\n",
        "output_df.index.name = 'index'\n",
        "output_df.to_csv('submission.csv', index=True)"
      ],
      "metadata": {
        "id": "SXz_x9mzaLrM"
      },
      "execution_count": 14,
      "outputs": []
    },
    {
      "cell_type": "code",
      "source": [],
      "metadata": {
        "id": "qGHkvOVkjeeo"
      },
      "execution_count": null,
      "outputs": []
    }
  ],
  "metadata": {
    "accelerator": "GPU",
    "colab": {
      "gpuType": "A100",
      "provenance": [],
      "machine_shape": "hm"
    },
    "kernelspec": {
      "display_name": "Python 3",
      "name": "python3"
    },
    "language_info": {
      "codemirror_mode": {
        "name": "ipython",
        "version": 3
      },
      "file_extension": ".py",
      "mimetype": "text/x-python",
      "name": "python",
      "nbconvert_exporter": "python",
      "pygments_lexer": "ipython3",
      "version": "3.10.14"
    }
  },
  "nbformat": 4,
  "nbformat_minor": 0
}